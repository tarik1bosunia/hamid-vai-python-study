{
  "nbformat": 4,
  "nbformat_minor": 0,
  "metadata": {
    "colab": {
      "provenance": [],
      "authorship_tag": "ABX9TyPyrTQQkFYj8DgxSHVuXPQ1",
      "include_colab_link": true
    },
    "kernelspec": {
      "name": "python3",
      "display_name": "Python 3"
    },
    "language_info": {
      "name": "python"
    }
  },
  "cells": [
    {
      "cell_type": "markdown",
      "metadata": {
        "id": "view-in-github",
        "colab_type": "text"
      },
      "source": [
        "<a href=\"https://colab.research.google.com/github/tarik1bosunia/hamid-vai-python-study/blob/main/notebooks/string.ipynb\" target=\"_parent\"><img src=\"https://colab.research.google.com/assets/colab-badge.svg\" alt=\"Open In Colab\"/></a>"
      ]
    },
    {
      "cell_type": "markdown",
      "source": [
        "# start"
      ],
      "metadata": {
        "id": "U8OyKqyZ7JR7"
      }
    },
    {
      "cell_type": "code",
      "source": [],
      "metadata": {
        "id": "yBYTImOu7K-X"
      },
      "execution_count": null,
      "outputs": []
    }
  ]
}