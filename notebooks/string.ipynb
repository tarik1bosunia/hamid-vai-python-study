{
  "nbformat": 4,
  "nbformat_minor": 0,
  "metadata": {
    "colab": {
      "provenance": [],
      "authorship_tag": "ABX9TyOE+3E+V07g8hOpgzN+WkoG",
      "include_colab_link": true
    },
    "kernelspec": {
      "name": "python3",
      "display_name": "Python 3"
    },
    "language_info": {
      "name": "python"
    }
  },
  "cells": [
    {
      "cell_type": "markdown",
      "metadata": {
        "id": "view-in-github",
        "colab_type": "text"
      },
      "source": [
        "<a href=\"https://colab.research.google.com/github/tarik1bosunia/hamid-vai-python-study/blob/main/notebooks/string.ipynb\" target=\"_parent\"><img src=\"https://colab.research.google.com/assets/colab-badge.svg\" alt=\"Open In Colab\"/></a>"
      ]
    },
    {
      "cell_type": "markdown",
      "source": [
        "# start"
      ],
      "metadata": {
        "id": "U8OyKqyZ7JR7"
      }
    },
    {
      "cell_type": "code",
      "source": [
        "text = \"Python Programming\"\n",
        "print(text)\n",
        "print(type(text))\n",
        "print(id(text))\n",
        "\n",
        "text = \"okay\"\n",
        "print(id(text))"
      ],
      "metadata": {
        "id": "yBYTImOu7K-X",
        "colab": {
          "base_uri": "https://localhost:8080/"
        },
        "outputId": "6f0900cc-652e-44bd-c1a4-0657a6cfc302"
      },
      "execution_count": 3,
      "outputs": [
        {
          "output_type": "stream",
          "name": "stdout",
          "text": [
            "Python Programming\n",
            "<class 'str'>\n",
            "134994737188528\n",
            "134994737024336\n"
          ]
        }
      ]
    },
    {
      "cell_type": "code",
      "source": [
        "word = \"Python\"\n",
        "\n",
        "  # P (first character)\n",
        "print(word[-1])  # n (last character)\n",
        "print(word[0:4]) # Pyth (slice)\n",
        "print(word[:3])  # Pyt (from start)\n",
        "print(word[2:])  # thon (to end)\n"
      ],
      "metadata": {
        "colab": {
          "base_uri": "https://localhost:8080/"
        },
        "id": "Ia8aLEbo99vv",
        "outputId": "0ab9cb8e-59e4-49a0-833b-8e7cda73e033"
      },
      "execution_count": 18,
      "outputs": [
        {
          "output_type": "stream",
          "name": "stdout",
          "text": [
            "n\n",
            "Pyth\n",
            "Pyt\n",
            "thon\n"
          ]
        }
      ]
    },
    {
      "cell_type": "code",
      "source": [
        "msg = \"  hello world  \"\n",
        "\n",
        "print(msg.upper())     # HELLO WORLD\n",
        "print(msg.lower())     # hello world\n",
        "print(msg.strip())     # removes spaces → 'hello world'\n",
        "print(msg.replace(\"world\", \"Python\")) # hello Python\n",
        "print(msg.find(\"world\")) # 8 (index of substring)\n",
        "print(msg.split())     # ['hello', 'world']\n",
        "\n"
      ],
      "metadata": {
        "colab": {
          "base_uri": "https://localhost:8080/"
        },
        "id": "QJtk8i5R_ukM",
        "outputId": "bec625be-ce85-4996-c2d8-6790966f3465"
      },
      "execution_count": 29,
      "outputs": [
        {
          "output_type": "stream",
          "name": "stdout",
          "text": [
            "  HELLO WORLD  \n",
            "  hello world  \n",
            "hello world\n",
            "  hello Python  \n",
            "8\n",
            "['hello', 'world']\n"
          ]
        }
      ]
    },
    {
      "cell_type": "code",
      "source": [
        "text = \"hello\" + \"world\"\n",
        "print(text)\n",
        "\n",
        "text = \"hello \" * 3\n",
        "print(text)"
      ],
      "metadata": {
        "colab": {
          "base_uri": "https://localhost:8080/"
        },
        "id": "4RIe8TwSBZcW",
        "outputId": "4238f51f-6d3a-49ca-c503-58bc8dfeee82"
      },
      "execution_count": 32,
      "outputs": [
        {
          "output_type": "stream",
          "name": "stdout",
          "text": [
            "helloworld\n",
            "hello hello hello \n"
          ]
        }
      ]
    },
    {
      "cell_type": "code",
      "source": [
        "age = 25\n",
        "name = \"tarik\"\n",
        "text = f\"My name is: {name}\\nMy age is : {age}\"\n",
        "print(text)"
      ],
      "metadata": {
        "colab": {
          "base_uri": "https://localhost:8080/"
        },
        "id": "og_odyFEB8pF",
        "outputId": "3fa367ea-3366-45fe-ca7b-b98fc9758d0c"
      },
      "execution_count": 38,
      "outputs": [
        {
          "output_type": "stream",
          "name": "stdout",
          "text": [
            "My name is: tarik\n",
            "My age is : 25\n"
          ]
        }
      ]
    },
    {
      "cell_type": "code",
      "source": [
        "word = \"Python\"\n",
        "\n",
        "print(word.isalpha())  # True (only letters)\n",
        "print(\"123\".isdigit()) # True\n",
        "print(\"abc123\".isalnum()) # True\n",
        "print(\"hello\".startswith(\"hel\")) # True\n",
        "print(\"hello\".endswith(\"lo\"))   # True\n"
      ],
      "metadata": {
        "colab": {
          "base_uri": "https://localhost:8080/"
        },
        "id": "LVpb-PihDg26",
        "outputId": "5aa2a31b-a1b3-4244-c994-a287af4a0edd"
      },
      "execution_count": 44,
      "outputs": [
        {
          "output_type": "stream",
          "name": "stdout",
          "text": [
            "True\n",
            "True\n",
            "True\n",
            "True\n",
            "True\n"
          ]
        }
      ]
    },
    {
      "cell_type": "code",
      "source": [
        "fruits = [\"apple\", \"banana\", \"cherry\"]\n",
        "print(fruits)\n",
        "\n",
        "fruits[1] = \"orange\"\n",
        "\n",
        "print(fruits)"
      ],
      "metadata": {
        "colab": {
          "base_uri": "https://localhost:8080/"
        },
        "id": "SwPPctMGE7Bg",
        "outputId": "584f2c99-9c14-49de-c15b-9fc743fc9805"
      },
      "execution_count": 46,
      "outputs": [
        {
          "output_type": "stream",
          "name": "stdout",
          "text": [
            "['apple', 'banana', 'cherry']\n",
            "['apple', 'orange', 'cherry']\n"
          ]
        }
      ]
    },
    {
      "cell_type": "code",
      "source": [
        "fruits = [\"apple\", \"banana\", \"cherry\"]\n",
        "print(fruits)\n",
        "\n",
        "fruits.append(\"orange\")\n",
        "print(fruits)"
      ],
      "metadata": {
        "colab": {
          "base_uri": "https://localhost:8080/"
        },
        "id": "hMU0QV-FFM2e",
        "outputId": "009ff7c0-cb15-45a9-b56b-910bdab2c874"
      },
      "execution_count": 48,
      "outputs": [
        {
          "output_type": "stream",
          "name": "stdout",
          "text": [
            "['apple', 'banana', 'cherry']\n",
            "['apple', 'banana', 'cherry', 'orange']\n"
          ]
        }
      ]
    },
    {
      "cell_type": "code",
      "source": [
        "fruits = [\"apple\", \"banana\", \"cherry\", \"banana\"]\n",
        "print(fruits)\n",
        "\n",
        "fruits.remove(\"banana\")\n",
        "print(fruits)"
      ],
      "metadata": {
        "colab": {
          "base_uri": "https://localhost:8080/"
        },
        "id": "YTdCDyY4Fb21",
        "outputId": "e5c64526-55cc-4182-8f63-bea7a5da425c"
      },
      "execution_count": 52,
      "outputs": [
        {
          "output_type": "stream",
          "name": "stdout",
          "text": [
            "['apple', 'banana', 'cherry', 'banana']\n",
            "['apple', 'cherry', 'banana']\n"
          ]
        }
      ]
    },
    {
      "cell_type": "code",
      "source": [
        "colors = (\"red\", \"green\", \"blue\")\n",
        "print(colors[0])   # red\n",
        "\n",
        "# Tuples cannot be changed\n",
        "# colors[0] = \"yellow\"\n",
        "\n",
        "colors = (\"yellow\",)"
      ],
      "metadata": {
        "colab": {
          "base_uri": "https://localhost:8080/"
        },
        "id": "Kt3GQnTBGMuC",
        "outputId": "ed65c8d1-3cf2-4089-c271-f902981c80fe"
      },
      "execution_count": 56,
      "outputs": [
        {
          "output_type": "stream",
          "name": "stdout",
          "text": [
            "red\n"
          ]
        }
      ]
    },
    {
      "cell_type": "code",
      "source": [
        "nums = {1, 2, 3, 3, 4}\n",
        "# print(nums)  # {1, 2, 3, 4}\n",
        "\n",
        "nums.add(5)\n",
        "\n",
        "nums.remove(2)\n",
        "\n",
        "# print(nums)\n",
        "\n",
        "# Set operations\n",
        "A = {1, 2, 3}\n",
        "B = {3, 4, 5}\n",
        "print(A | B) # Union → {1, 2, 3, 4, 5}\n",
        "print(A & B) # Intersection → {3}\n",
        "print(A - B) # Difference → {1, 2}\n"
      ],
      "metadata": {
        "colab": {
          "base_uri": "https://localhost:8080/"
        },
        "id": "7T5lNImlG2cy",
        "outputId": "d8059560-0420-4bc0-df34-e4591cd4a682"
      },
      "execution_count": 60,
      "outputs": [
        {
          "output_type": "stream",
          "name": "stdout",
          "text": [
            "{1, 2, 3, 4, 5}\n",
            "{3}\n",
            "{1, 2}\n"
          ]
        }
      ]
    },
    {
      "cell_type": "code",
      "source": [
        "student = {\n",
        "    \"name\": \"Alice\",\n",
        "    \"age\": 20,\n",
        "    \"major\": \"Computer Science\"\n",
        "}\n",
        "\n",
        "\n",
        "# Methods\n",
        "print(student.keys())   # dict_keys([...])\n",
        "print(student.values()) # dict_values([...])\n",
        "print(student.items())  # dict_items([...])\n",
        "\n",
        "\n"
      ],
      "metadata": {
        "colab": {
          "base_uri": "https://localhost:8080/"
        },
        "id": "BvqznXHuIBWg",
        "outputId": "9405a5dc-e1d9-4541-a4a0-cc9e690befb5"
      },
      "execution_count": 65,
      "outputs": [
        {
          "output_type": "stream",
          "name": "stdout",
          "text": [
            "dict_keys(['name', 'age', 'major'])\n",
            "dict_values(['Alice', 20, 'Computer Science'])\n",
            "dict_items([('name', 'Alice'), ('age', 20), ('major', 'Computer Science')])\n"
          ]
        }
      ]
    },
    {
      "cell_type": "code",
      "source": [],
      "metadata": {
        "id": "sP88qlvUIBUM"
      },
      "execution_count": null,
      "outputs": []
    }
  ]
}