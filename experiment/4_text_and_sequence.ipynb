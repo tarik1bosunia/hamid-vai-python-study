{
  "cells": [
    {
      "cell_type": "markdown",
      "metadata": {
        "id": "view-in-github",
        "colab_type": "text"
      },
      "source": [
        "<a href=\"https://colab.research.google.com/github/tarik1bosunia/hamid-vai-python-study/blob/main/experiment/4_text_and_sequence.ipynb\" target=\"_parent\"><img src=\"https://colab.research.google.com/assets/colab-badge.svg\" alt=\"Open In Colab\"/></a>"
      ]
    },
    {
      "cell_type": "markdown",
      "source": [
        "<font size=\"+3\"><strong>OUBICバイオインフォマティクス講習会</strong></font>\n",
        "\n",
        "<font size=\"+3\"><strong>第1回 【午後の部】塩基配列操作入門\n",
        "</strong></font>\n",
        "\n",
        "<font size=\"+3\"><strong>文字列と塩基配列</strong></font>\n",
        "- 最終更新日: 2025-06-29\n",
        "- 筆者: 山﨑 将太朗（大阪大学・OUBIC・RNA情報学）\n",
        "\n",
        "※ 本教材は筆者が作成した内容をもとに、構成・表現の調整、コードの作成などに ChatGPT（OpenAI）を利用しています。信頼性の確認や最終的な判断は筆者の責任で行っています。\n",
        "\n",
        "<br>\n",
        "\n",
        "---\n",
        "---\n",
        "# はじめに\n",
        "\n",
        "## ✅ ドライブにコピーを保存\n",
        "\n",
        "1. 上部メニューから **「ファイル」→「ドライブにコピーを保存」** をクリック  \n",
        "   → 自分のGoogleドライブにこのノートブックのコピーが作られます。通常は「Colab Notebooks」フォルダに保存されますが、必要に応じて他のフォルダに移動することもできます。\n",
        "\n",
        "2. コピーされたノートブック上で作業を行ってください。  \n",
        "   元のノートブックを直接操作しても変更は保存されません。\n",
        "\n",
        "<br>\n",
        "\n",
        "## 🗂️ 目次を表示する\n",
        "\n",
        "画面左上の目次アイコンをクリックすると、**ノートブックの見出し（目次）**が表示されます。  \n",
        "セクションごとにジャンプできて便利なので、**表示をおすすめします**。\n",
        "\n",
        "<br>\n"
      ],
      "metadata": {
        "id": "etjoncTMvz0i"
      },
      "id": "etjoncTMvz0i"
    },
    {
      "cell_type": "markdown",
      "source": [
        "\n",
        "---\n",
        "## 何をするためのColab Notebookか\n",
        "\n",
        "基本的な塩基配列の操作を学びます。\n",
        "\n",
        "ここで学ぶ内容は単体では、それほど有用ではないかもしれません。わざわざColabを使わなくても、Webツールや手動操作で簡単に解決するものがほとんどです。\n",
        "\n",
        "しかし、ここで学ぶ内容は、この後で解説する「配列取得法」や「配列解析」において大活躍します。\n",
        "\n",
        "<br>\n",
        "\n",
        "### ✅ 今は「覚える」より「存在を知る」【重要！】\n",
        "\n",
        "- 今は「**様々な配列操作方法がある**」という認識だけで十分です。具体的な使い方は、必要になったときに繰り返し見直せば問題ありません。\n",
        "- 細かい構文をすべて暗記している人は少数派です。\n",
        "- 概念を理解し、**都度検索・ドキュメント参照で正確な使い方にたどり着ける**ことが重要です。\n",
        "\n",
        "<br>\n"
      ],
      "metadata": {
        "id": "M8EzQpsTBkDl"
      },
      "id": "M8EzQpsTBkDl"
    },
    {
      "cell_type": "markdown",
      "source": [
        "---\n",
        "## 事前に知っておくと良い知識\n",
        "\n",
        "\n",
        "### 🔹 **Pythonプログラミングの基礎**\n",
        "\n",
        "Pythonプログラミングの基礎について概要を知っており、DNAやRNA、タンパク質の関係性を知っていれば、ここで紹介する基本操作は十分に理解できます。\n",
        "\n",
        "| 内容                       | 理由                                                   |\n",
        "| -------------------------- | ------------------------------------------------------ |\n",
        "| 変数の使い方（代入と参照） | 配列の定義や編集に必要                                 |\n",
        "| インデックス・スライス     | 配列の部分取得や加工で頻出                             |\n",
        "| 関数の呼び出し・引数       | `.translate()`, `.count()` などの使用のため            |\n",
        "| for ループ、if 文（任意）  | 配列処理の自動化に役立つが、今回の範囲では必須ではない |\n",
        "\n",
        "<br>\n",
        "\n",
        "### 🔹 **分子生物学の基礎**\n",
        "\n",
        "| 内容                       | 理由                                                  |\n",
        "| -------------------------- | ----------------------------------------------------- |\n",
        "| DNA・RNA・タンパク質の関係 | `transcribe()`, `translate()` の理解に必要            |\n",
        "| 相補鎖・逆相補鎖の意味     | `.complement()` や `.reverse_complement()` を使うため |\n",
        "| コドンと遺伝暗号表         | 翻訳（`translate()`）やストップコドンの扱いに必要     |\n",
        "\n",
        "<br>\n"
      ],
      "metadata": {
        "id": "_FWV8_0D2CF6"
      },
      "id": "_FWV8_0D2CF6"
    },
    {
      "cell_type": "markdown",
      "source": [
        "---\n",
        "## ライセンスと利用条件\n",
        "\n",
        "本教材およびスクリプトは、以下のライセンスのもとで提供されています：\n",
        "\n",
        "> **Creative Commons Attribution-NonCommercial 4.0 International (CC BY-NC 4.0)**  \n",
        "> https://creativecommons.org/licenses/by-nc/4.0/\n",
        "\n",
        "- 教育・研究目的での利用、改変、共有は自由です。\n",
        "- 商用利用（例：有償講座、商業サービスでの利用）は禁止されています。\n",
        "- 本スクリプトを用いて得られた解析結果を論文・スライド等で発表する場合に、筆者名を記載する必要はありません。\n",
        "- 本スクリプトには、一般的な記述と著作性のある記述が混在しています。基本的なPython文法やライブラリ使用例などの汎用的な部分については、自由にご利用いただけます。\n",
        "  一方で、筆者独自の構成・処理の工夫が含まれる部分（特に教材としての解説の流れ）を再利用する場合は、次のようにクレジットをご記載いただけると幸いです：  \n",
        "  - `# Based on code by Shotaro Yamasaki (Osaka University, OUBIC)`\n",
        "- 本ファイルを再配布する場合は、以下の注意事項も削除・改変せずに保持してください。\n"
      ],
      "metadata": {
        "id": "8by8u-4QBnE7"
      },
      "id": "8by8u-4QBnE7"
    },
    {
      "cell_type": "markdown",
      "source": [
        "---\n",
        "## 注意事項\n",
        "\n",
        "- 本スクリプトは Google Colab 環境での使用を前提としており、他の環境での動作は保証されません。\n",
        "- ライブラリや実行環境の違いにより、エラーや動作不良が発生する可能性があります。記載された内容が将来的にも動作することは保証できません。\n",
        "- 本教材は自己責任でご利用ください。利用によって生じた損害・不利益について、筆者は一切責任を負いません。また、サポート（質問・不具合対応）は行っておりません。\n",
        "- 個人情報や機密性の高いデータの取り扱いにはご注意ください（Colabはクラウド環境です）。"
      ],
      "metadata": {
        "id": "f9Q66HU6BoNM"
      },
      "id": "f9Q66HU6BoNM"
    },
    {
      "cell_type": "markdown",
      "source": [
        "---\n",
        "---\n",
        "# 🔰 Google Colabの使い方（超入門）\n",
        "---\n",
        "\n",
        "<br>\n",
        "\n",
        "<details>\n",
        "<summary>🔍 解説を見る</summary>\n",
        "\n",
        "このノートブックでは、Python の学習を始める前に、Google Colab の基本的な使い方を説明します。  \n",
        "パソコンに何もインストールせずに使える便利なツールですが、いくつかの仕組みを知っておくと安心です。\n",
        "\n",
        "<br>\n",
        "\n",
        "---\n",
        "\n",
        "## 💡 Google Colabとは？\n",
        "\n",
        "Google Colab（コラボ）は、**ブラウザだけでPythonを使える無料のツール**です。  \n",
        "パソコンにPythonをインストールしなくても、すぐにコードを書いて実行できます。\n",
        "\n",
        "- Googleのクラウド上で動く「仮想のパソコン」を使います。\n",
        "- Googleアカウントがあれば、誰でも利用できます。\n",
        "- コードと説明文をまとめて書けるので、学習や実験ノートにも便利です。\n",
        "\n",
        "<br>\n",
        "\n",
        "---\n",
        "\n",
        "## 🧱 「セル」とは？\n",
        "\n",
        "Google Colab のノートは、「セル」と呼ばれる**ブロック単位**でできています。\n",
        "\n",
        "- 📄 **テキストセル**：説明や見出しを書くところ（この文もテキストセル）\n",
        "- 🧮 **コードセル**：Python の命令を書くところ（ここに `print(\"Hello\")` などを書く）\n",
        "\n",
        "👇 セルを実行するには、**セルの左側にある ▶（再生ボタン）をクリック**します。\n",
        "\n",
        "💡 キーボード操作でも実行できます（慣れてくると便利です）：\n",
        "- **Shift + Enter**：セルを実行して、次のセルに移動\n",
        "- **Ctrl + Enter**（または Mac では Cmd + Enter）：セルを実行して、そのままそのセルにとどまる\n",
        "\n",
        "<br>\n",
        "\n",
        "---\n",
        "\n",
        "## 🖥 ランタイムとは？仮想パソコンのイメージ\n",
        "\n",
        "Google Colabでは、ノートブックを実行すると**クラウド上に一時的な仮想パソコン（＝ランタイム）**が用意されます。\n",
        "\n",
        "### 💻 パソコン（＝ランタイム）は毎回使い捨て\n",
        "\n",
        "- ノートブックを開くと、**そのときだけ使える「仮想パソコン」**が起動します。\n",
        "- プログラムを実行すると、**変数やデータはこのパソコンの中に一時的に保存**されます。\n",
        "- しかし、パソコンを閉じたり、しばらく使わずにいると、**このパソコンは削除されて中身もすべて消えます**。\n",
        "\n",
        "### 🧾 出力結果（print文など）はプリントアウトされた紙\n",
        "\n",
        "- 実行した結果はノートに残って見えますが、**これは「紙に印刷された結果」だけ**。\n",
        "- 中身（変数やファイル）はすでにパソコンの中から消えていて、**再利用はできません**。\n",
        "\n",
        "<br>\n",
        "\n",
        "---\n",
        "\n",
        "## 💾 データの保存について\n",
        "\n",
        "Colabでは、**変数の中身などはランタイムが終了すると消えてしまいます**。  \n",
        "保存できるのは、**ファイルに書き出したデータだけ**です。\n",
        "\n",
        "- 必要なデータは **ファイルとして保存してからダウンロード**するか、  \n",
        "- **Googleドライブを「外付けUSBメモリ」**のように接続して、そこに保存することができます。\n",
        "\n",
        "👉 各変数そのもの（メモリ上の状態）は保存できません。必要なら**ファイルに変換（CSVなど）してから保存**しましょう。\n",
        "\n",
        "</details>\n",
        "\n",
        "<br>\n"
      ],
      "metadata": {
        "id": "FxcYarJy6HFN"
      },
      "id": "FxcYarJy6HFN"
    },
    {
      "cell_type": "markdown",
      "source": [
        "---\n",
        "---\n",
        "# 文字列の操作：塩基配列とは文字列である\n",
        "---\n",
        "\n",
        "生物のゲノムは、アデニン（A）、チミン（T）、グアニン（G）、シトシン（C）などの塩基の並びとして表現されます。このような塩基の並びは、プログラミングでは「文字列（string）」というデータ型で表すことができます。\n",
        "\n",
        "Biopythonと呼ばれるライブラリを活用すれば、塩基配列に特化したSeqクラスを扱うことができます。混乱を避けるため、まずは文字列の解説を行い、Seqクラスに関しては後述します。\n",
        "\n",
        "<br>\n"
      ],
      "metadata": {
        "id": "opKiIjQF33sS"
      },
      "id": "opKiIjQF33sS"
    },
    {
      "cell_type": "markdown",
      "source": [
        "---\n",
        "\n",
        "## 文字列とは？\n",
        "\n",
        "プログラミングにおいて「文字列（string）」とは、文字の並びを表すデータ型です。Pythonでは、英語、日本語、記号などさまざまな文字を扱うことができます。\n",
        "\n",
        "文字列は、**ダブルクオーテーション `\" \"` やシングルクオーテーション `' '` で囲んで書きます**。この囲いがあることで、プログラムが文字列であると判断できるようになります。\n",
        "\n",
        "また、文字列は **1文字ずつの順番（インデックス）を持っている**ため、後で1文字ずつ取り出したり、並びを操作したりすることができます。\n",
        "\n",
        "<br>\n",
        "\n",
        "🔽🔽🔽 ⬇ **以下のコードを実行してみましょう！** 🔽🔽🔽"
      ],
      "metadata": {
        "id": "e9fAgHMy43-r"
      },
      "id": "e9fAgHMy43-r"
    },
    {
      "cell_type": "code",
      "source": [
        "# ダブルクオーテーションとシングルクオーテーション、どちらも使えます\n",
        "seq1 = \"ATGC\"\n",
        "seq2 = 'GATTACA'\n",
        "\n",
        "# 表示してみましょう\n",
        "print(seq1)\n",
        "print(seq2)\n",
        "\n",
        "# 【復讐】数値とは異なることを確認しましょう\n",
        "number = 123\n",
        "str_number = str(number)\n",
        "print(\"数値 number + number:\", number + number)\n",
        "print(\"文字列 str_number + str_number:\", str_number + str_number)\n"
      ],
      "metadata": {
        "id": "vhx_DLSE5DoZ"
      },
      "id": "vhx_DLSE5DoZ",
      "execution_count": null,
      "outputs": []
    },
    {
      "cell_type": "markdown",
      "source": [
        "---\n",
        "\n",
        "## インデックス参照\n",
        "\n",
        "文字列は、**それぞれの文字が「順番（インデックス）」で管理されています**。Pythonでは、このインデックスを使って特定の文字を取り出すことができます。\n",
        "\n",
        "インデックスは **0から始まる** 点に注意が必要です。例えば、`\"ATGC\"` という文字列であれば、インデックスは以下のようになります：\n",
        "\n",
        "```\n",
        " A  T  G  C\n",
        "[0][1][2][3]\n",
        "```\n",
        "\n",
        "また、後ろから数えることもできます。その場合、-1 が最後の文字です：\n",
        "\n",
        "```\n",
        " A  T  G  C\n",
        "[-4][-3][-2][-1]\n",
        "```\n",
        "\n",
        "<br>\n",
        "\n",
        "🔽🔽🔽 ⬇ **以下のコードを実行してみましょう！** 🔽🔽🔽\n"
      ],
      "metadata": {
        "id": "QSU45L3b5wA7"
      },
      "id": "QSU45L3b5wA7"
    },
    {
      "cell_type": "code",
      "source": [
        "seq = \"ATGC\"\n",
        "\n",
        "# 0番目（最初の文字）を取り出す\n",
        "print(\"0番目の文字:\", seq[0])\n",
        "\n",
        "# 2番目（3番目の文字）を取り出す\n",
        "print(\"2番目の文字:\", seq[2])\n",
        "\n",
        "# 最後の文字を取り出す\n",
        "print(\"最後の文字:\", seq[-1])"
      ],
      "metadata": {
        "id": "GcT__chR5wMa"
      },
      "id": "GcT__chR5wMa",
      "execution_count": null,
      "outputs": []
    },
    {
      "cell_type": "code",
      "source": [
        "# 存在しないインデックスを指定するとエラーになります\n",
        "print(seq[4])"
      ],
      "metadata": {
        "id": "vXKHlv8T57-y"
      },
      "id": "vXKHlv8T57-y",
      "execution_count": null,
      "outputs": []
    },
    {
      "cell_type": "code",
      "source": [
        "# 存在しないインデックスを指定するとエラーになります\n",
        "print(seq[-5])"
      ],
      "metadata": {
        "id": "nsX6ABXO58Ch"
      },
      "id": "nsX6ABXO58Ch",
      "execution_count": null,
      "outputs": []
    },
    {
      "cell_type": "markdown",
      "source": [
        "---\n",
        "\n",
        "## スライス\n",
        "\n",
        "文字列の一部分を切り出すには、**スライス（slice）** という方法を使います。スライスでは、**開始位置と終了位置を「コロン `:`」で区切って指定**します。\n",
        "\n",
        "```python\n",
        "文字列[開始:終了]\n",
        "```\n",
        "\n",
        "このとき、**「開始位置」は含まれ、「終了位置」は含まれない**ことに注意してください。\n",
        "\n",
        "※ つまり、終了位置は、「切り出したい終点位置+1」とする必要があります。\n",
        "\n",
        "<br>\n",
        "\n",
        "たとえば `\"ATGCTA\"` という文字列の `0:3` のスライスは `\"ATG\"` になります：\n",
        "\n",
        "```\n",
        " A  T  G  C  T  A\n",
        "[0][1][2][3][4][5]\n",
        " ↑        ↑\n",
        "開始     終了（含まれない）\n",
        "```\n",
        "\n",
        "<br>\n",
        "\n",
        "### なぜ「切り出したい終点位置+1」を指定するのか\n",
        "\n",
        "<br>\n",
        "\n",
        "<details>\n",
        "<summary>🔍 解説を見る</summary>\n",
        "\n",
        "<br>\n",
        "\n",
        "#### 「切り出したい**文字数**」に基づく指定（Pythonの方式）\n",
        "\n",
        "たとえば、0番目から3文字（`\"012\"`）を取得したい場合、開始位置は `0`、終了位置は `3` として、\n",
        "\n",
        "```python\n",
        "start = 0\n",
        "length = 3\n",
        "end = start + length\n",
        "text[start:end]  # → \"012\"\n",
        "```\n",
        "\n",
        "このように、\\*\\*「end = start + length」\\*\\*という書き方ができるため、**文字数ベースで切り出し範囲を自然に指定**できます。\n",
        "\n",
        "長さが 1 や 0 の場合も同様です：\n",
        "\n",
        "```python\n",
        "text = \"0123456789\"\n",
        "\n",
        "print(text[0:3])  # \"012\"\n",
        "print(text[0:1])  # \"0\"\n",
        "print(text[0:0])  # \"\"（空文字）\n",
        "```\n",
        "\n",
        "<br>\n",
        "\n",
        "#### 「切り出したい**終点位置そのもの**」を指定する方式だったら？\n",
        "\n",
        "仮に `end` が「**含まれる終点インデックス**」だった場合：\n",
        "\n",
        "* `\"012\"` を取りたければ `start = 0`、`end = 2`（0番目〜2番目）\n",
        "* `end = start + length - 1` としなければならない\n",
        "\n",
        "しかしこの方式では、**length = 0 のときに `end = -1`** となってしまい、\n",
        "\n",
        "```python\n",
        "text[0:-1]\n",
        "```\n",
        "\n",
        "の意味が曖昧になります：\n",
        "\n",
        "* Pythonでは `\"[:-1]\"` は「最後の1文字を除いた全体」を意味する\n",
        "* **「0文字切り出し」ではなく、「全体から1文字省く」結果になる**\n",
        "\n",
        "<br>\n",
        "\n",
        "#### 💡 一文で言うと\n",
        "\n",
        "Pythonのスライスは「開始位置は含み、終了位置は含まない」というルールにすることで、start + length という自然な式で文字列を切り出すことができ、0文字の切り出しも安全に扱えるようになっています。\n",
        "\n",
        "</details>\n",
        "\n",
        "<br>\n",
        "\n",
        "🔽🔽🔽 ⬇ **以下のコードを実行してみましょう！** 🔽🔽🔽\n"
      ],
      "metadata": {
        "id": "b5Fnvacs6Nr9"
      },
      "id": "b5Fnvacs6Nr9"
    },
    {
      "cell_type": "code",
      "source": [
        "seq = \"ATGCTA\"\n",
        "\n",
        "# 最初の3文字を取り出す（0番から2番まで）\n",
        "print(\"最初の3文字:\", seq[0:3])\n",
        "\n",
        "# 2番目から最後までを取り出す\n",
        "print(\"2番目から最後まで:\", seq[2:])\n",
        "\n",
        "# 最初から4文字目までを取り出す（4番目は含まない）\n",
        "print(\"最初から4文字目まで:\", seq[:4])\n",
        "\n",
        "# すべて取り出す（コピー）\n",
        "print(\"全体のコピー:\", seq[:])"
      ],
      "metadata": {
        "id": "H081Pp1V6oYI"
      },
      "id": "H081Pp1V6oYI",
      "execution_count": null,
      "outputs": []
    },
    {
      "cell_type": "code",
      "source": [
        "text = \"0123456789\"\n",
        "\n",
        "print(\"正のスライス\")\n",
        "print(f\"text[0:2] = {text[0:2]}\")\n",
        "print(f\"text[2:4] = {text[2:4]}\")\n",
        "print(f\"text[0:4] = {text[0:4]}\")\n",
        "print(f\"text[:4] = {text[:4]}\")\n",
        "print(f\"text[8:10] = {text[8:10]}\")\n",
        "print(f\"text[8:] = {text[8:]}\")"
      ],
      "metadata": {
        "id": "zKY6qCIC_7EC"
      },
      "id": "zKY6qCIC_7EC",
      "execution_count": null,
      "outputs": []
    },
    {
      "cell_type": "code",
      "source": [
        "print(\"負のスライス\")\n",
        "print(f\"text[-4:-2] = {text[-4:-2]}\")\n",
        "print(f\"text[:-2] = {text[:-2]}\")\n",
        "print(f\"text[-4:] = {text[-4:]}\")"
      ],
      "metadata": {
        "id": "UX9ruETtAAep"
      },
      "id": "UX9ruETtAAep",
      "execution_count": null,
      "outputs": []
    },
    {
      "cell_type": "code",
      "source": [
        "print(\"正と負のスライス\")\n",
        "print(f\"text[2:-2] = {text[2:-2]}\")\n",
        "print(f\"text[-8:8] = {text[-8:8]}\")"
      ],
      "metadata": {
        "id": "vMlL1JyLAD0h"
      },
      "id": "vMlL1JyLAD0h",
      "execution_count": null,
      "outputs": []
    },
    {
      "cell_type": "code",
      "source": [
        "print(\"存在しない領域を含むスライス\")\n",
        "print(f\"text[2:2] = {text[2:2]}\")\n",
        "print(f\"text[2:999] = {text[2:999]}\")\n",
        "print(f\"text[99:999] = {text[99:999]}\")\n",
        "print(f\"text[-2:-2] = {text[-2:-2]}\")\n",
        "print(f\"text[-999:-2] = {text[-999:-2]}\")\n",
        "print(f\"text[-999:-99] = {text[-999:-99]}\")"
      ],
      "metadata": {
        "id": "2Guc_5X0AIWa"
      },
      "id": "2Guc_5X0AIWa",
      "execution_count": null,
      "outputs": []
    },
    {
      "cell_type": "code",
      "source": [
        "print(\"注意が必要なスライス\")\n",
        "# indexを計算して出す際に、indexを負の数字で指定するつもりで結果が0になる場合は注意が必要。\n",
        "# 例えマイナス表記でもゼロはゼロなので、indexの0、つまり、文字列の頭まで（つまり存在しない領域）の指定になる。\n",
        "# この場合、このコードを書いた人の意図としては、text[-4:-0]からは6789が返ってきてほしかったのではないか。\n",
        "print(f\"text[-4:-3] = {text[-4:-3]}\")\n",
        "print(f\"text[-4:-2] = {text[-4:-2]}\")\n",
        "print(f\"text[-4:-1] = {text[-4:-1]}\")\n",
        "print(f\"text[-4:-0] = {text[-4:-0]}\")  # == text[-4:0] → 空文字\n",
        "print(f\"text[-4:] = {text[-4:]}\")  # if end == 0:などの条件分岐で特別な処理を行うと良い"
      ],
      "metadata": {
        "id": "6Alj_K6AAO-h"
      },
      "id": "6Alj_K6AAO-h",
      "execution_count": null,
      "outputs": []
    },
    {
      "cell_type": "code",
      "source": [
        "print(\"1文字をとるときのスライスとインデックスの違い\")\n",
        "print(f\"text[2:3] = {text[2:3]}\")\n",
        "print(f\"text[2] = {text[2]}\")\n",
        "\n",
        "# スライスなら範囲外だと''（空文字）になる。\n",
        "print(f\"text[99:100] = {text[99:100]}\")\n",
        "# index指定だとIndexErrorになる。\n",
        "print(f\"text[99] = {text[99]}\")"
      ],
      "metadata": {
        "id": "avlPrGSjAi-J"
      },
      "id": "avlPrGSjAi-J",
      "execution_count": null,
      "outputs": []
    },
    {
      "cell_type": "markdown",
      "source": [
        "---\n",
        "\n",
        "## 検索（in, find, index, rfind, rindex、re）\n",
        "\n",
        "Python では、文字列の中から特定のパターンを見つけるためにさまざまな検索機能が用意されています。ここでは、**単純な文字列検索**から**複雑なパターンの検索（正規表現）**までを紹介します。\n",
        "\n",
        "<br>\n",
        "\n",
        "### 🔹 主な検索方法まとめ\n",
        "\n",
        "| 方法          | 説明                                          |\n",
        "| ----------- | ------------------------------------------- |\n",
        "| `in`        | 指定した文字列が含まれているかを調べる（結果は `True` または `False`） |\n",
        "| `.find()`   | 最初に見つかった位置（インデックス）を返す。見つからないと `-1`          |\n",
        "| `.index()`  | `.find()` と同様だが、見つからないと **エラーになる**          |\n",
        "| `.rfind()`  | **最後に見つかった位置**を返す。見つからないと `-1`              |\n",
        "| `.rindex()` | `.rfind()` と同様だが、見つからないと **エラーになる**         |\n",
        "| `re`モジュール | 正規表現による柔軟なパターンマッチ        |\n",
        "\n",
        "<br>\n",
        "\n",
        "🔽🔽🔽 ⬇ **以下のコードを実行してみましょう！** 🔽🔽🔽\n"
      ],
      "metadata": {
        "id": "Z8TgoeNABWxZ"
      },
      "id": "Z8TgoeNABWxZ"
    },
    {
      "cell_type": "code",
      "source": [
        "seq = \"ATGCGTCGCGT\"\n",
        "\n",
        "# in演算子\n",
        "print(\"ATGは含まれているか？\", \"ATG\" in seq)\n",
        "print(\"TATAは含まれているか？\", \"TATA\" in seq)\n",
        "\n",
        "# find: 最初に見つかった位置\n",
        "print(\"CGTの最初の位置（find）:\", seq.find(\"CGT\"))\n",
        "print(\"GCTの最初の位置（find）:\", seq.find(\"GCT\"))\n",
        "\n",
        "# index: 見つからなければエラー（この例では成功）\n",
        "print(\"CGTの最初の位置（index）:\", seq.index(\"CGT\"))\n",
        "# print(\"GCTの最初の位置（index）:\", seq.index(\"GCT\"))\n",
        "\n",
        "# rfind: 最後に見つかった位置\n",
        "print(\"CGTの最後の位置（rfind）:\", seq.rfind(\"CGT\"))\n",
        "print(\"GCTの最後の位置（rfind）:\", seq.rfind(\"GCT\"))\n",
        "\n",
        "# rindex: 見つからなければエラー（この例では成功）\n",
        "print(\"CGTの最後の位置（rindex）:\", seq.rindex(\"CGT\"))\n",
        "# print(\"GCTの最後の位置（rindex）:\", seq.rindex(\"GCT\"))\n"
      ],
      "metadata": {
        "id": "OzEOPyOLCPYa"
      },
      "id": "OzEOPyOLCPYa",
      "execution_count": null,
      "outputs": []
    },
    {
      "cell_type": "code",
      "source": [
        "# 正規表現の機能を使うために、Pythonの「re」ライブラリを読み込みます\n",
        "import re\n",
        "\n",
        "# 検索対象となるDNA配列を定義します（適当な例としてATGCGC...などの配列を使っています）\n",
        "seq = \"ATGCGCATCGCATAGCGCTATGGCGCATCCGC\"\n",
        "\n",
        "# 「ATに続いてGまたはCが2文字続く」というパターンを定義します\n",
        "# ここでは、AT + [GまたはC] + [GまたはC] の合計4文字を検索します\n",
        "pattern1 = r\"AT[GC][GC]\"\n",
        "\n",
        "# re.finditer() を使って、パターンに一致するすべての部分を探します\n",
        "# 結果は「マッチオブジェクト」のリストになります（後で位置や内容が取り出せます）\n",
        "matches1 = list(re.finditer(pattern1, seq))\n",
        "\n",
        "# 見つかったパターンの件数を表示します\n",
        "print(\"【パターン1: AT + G/C + G/C】\")\n",
        "print(\"マッチ数:\", len(matches1))\n",
        "\n",
        "# 見つかったすべてのマッチについて、位置と一致した配列を表示します\n",
        "for m in matches1:\n",
        "    # m.start(): マッチした部分の開始位置\n",
        "    # m.end()-1: マッチした部分の終了位置（-1するのは「何文字目までか」を表示するため）\n",
        "    # m.group(): 実際にマッチした文字列（例：ATGCなど）\n",
        "    print(f\"位置: {m.start()} ～ {m.end()-1}, 配列: {m.group()}\")\n"
      ],
      "metadata": {
        "id": "vFuidOcJCPsB"
      },
      "id": "vFuidOcJCPsB",
      "execution_count": null,
      "outputs": []
    },
    {
      "cell_type": "code",
      "source": [
        "seq = \"ATGCGCATCGCATAGCGCTATGGCGCATCCGC\"\n",
        "\n",
        "# 例2: 「ATの後に任意の2文字、その後にGC」\n",
        "pattern2 = r\"AT..GC\"\n",
        "matches2 = list(re.finditer(pattern2, seq))\n",
        "\n",
        "print(\"【パターン2: AT + 任意2文字 + GC】\")\n",
        "print(\"マッチ数:\", len(matches2))\n",
        "\n",
        "for m in matches2:\n",
        "    print(f\"位置: {m.start()} ～ {m.end()-1}, 配列: {m.group()}\")"
      ],
      "metadata": {
        "id": "N_SpSOReCZYY"
      },
      "id": "N_SpSOReCZYY",
      "execution_count": null,
      "outputs": []
    },
    {
      "cell_type": "markdown",
      "source": [
        "---\n",
        "\n",
        "## 分割・結合（split, +演算子, \\*演算子, join）\n",
        "\n",
        "塩基配列を扱ううえで、**配列を分割する**、**複数の配列をつなげる**といった操作は頻繁に使われます。Pythonの文字列では、以下の方法を使ってこれらの操作ができます。\n",
        "\n",
        "<br>\n",
        "\n",
        "### 🔹 主な操作方法\n",
        "\n",
        "| 操作       | 説明                       |\n",
        "| ---------- | -------------------------- |\n",
        "| `.split()` | 区切り文字で分割           |\n",
        "| `+`        | 文字列の結合（連結）       |\n",
        "| `*`        | 文字列の繰り返し           |\n",
        "| `.join()`  | リストの要素を文字列で結合 |\n",
        "\n",
        "<br>\n",
        "\n",
        "🔽🔽🔽 ⬇ **以下のコードを実行してみましょう！** 🔽🔽🔽\n"
      ],
      "metadata": {
        "id": "l3oQUlzhDkmZ"
      },
      "id": "l3oQUlzhDkmZ"
    },
    {
      "cell_type": "code",
      "source": [
        "# 分割：FASTAなどの処理にもよく使われます\n",
        "text = \"ATG,CGA,TAA\"\n",
        "split_seq = text.split(\",\")\n",
        "print(\"分割された配列:\", split_seq)\n",
        "\n",
        "# 結合：+ 演算子\n",
        "part1 = \"ATG\"\n",
        "part2 = \"CGA\"\n",
        "combined = part1 + part2\n",
        "print(\"結合（+）:\", combined)\n",
        "\n",
        "# 繰り返し：* 演算子\n",
        "repeat_seq = \"AT\" * 4\n",
        "print(\"繰り返し（*）:\", repeat_seq)\n",
        "\n",
        "# join：リストから文字列に戻す\n",
        "list_seq = ['A', 'T', 'G', 'C']\n",
        "joined = \"\".join(list_seq)\n",
        "print(\"結合（join）:\", joined)\n"
      ],
      "metadata": {
        "id": "p6vxNFU3Dpax"
      },
      "id": "p6vxNFU3Dpax",
      "execution_count": null,
      "outputs": []
    },
    {
      "cell_type": "markdown",
      "source": [
        "---\n",
        "\n",
        "## 編集（逆順、置換、大文字小文字変換など）\n",
        "\n",
        "Pythonの文字列（`str`）は「**変更できない（immutable）**」性質を持っています。そのため、文字列の編集を行うときは、**元の文字列を直接変更するのではなく、新しい文字列を作り直す**ことになります。\n",
        "\n",
        "ここでは、代表的な文字列編集操作を紹介しつつ、**文字列とリストの扱いの違い**にも触れます。\n",
        "\n",
        "<br>\n",
        "\n",
        "### 🔹 主な編集操作\n",
        "\n",
        "| 操作                  | 説明                           |\n",
        "| --------------------- | ------------------------------ |\n",
        "| 逆順                  | スライスを使った反転           |\n",
        "| 置換 `.replace(old, new)`     | 完全一致した部分を置換 |\n",
        "| 置換 `re.sub(pattern, repl, s)`     | 正規表現にマッチした部分をまとめて置換 |\n",
        "| 除去 `.strip()`     | 前後の空白や改行を削除 |\n",
        "| 除去 `.lstrip()`     | 先頭の空白や記号を削除 |\n",
        "| 除去 `.rstrip()`     | 末尾の空白や記号を削除 |\n",
        "| 大文字変換 `.upper()` | 小文字→大文字                  |\n",
        "| 小文字変換 `.lower()` | 大文字→小文字                  |\n",
        "\n",
        "※ `str[位置] = 文字` のような**位置指定の変更はできません**。このような操作は、リストに変換してから行います。\n",
        "\n",
        "<br>\n",
        "\n",
        "🔽🔽🔽 ⬇ **以下のコードを実行してみましょう！** 🔽🔽🔽\n"
      ],
      "metadata": {
        "id": "diJHf6otEQhR"
      },
      "id": "diJHf6otEQhR"
    },
    {
      "cell_type": "code",
      "source": [
        "seq = \"atgcgtgg\"\n",
        "\n",
        "# 大文字に変換\n",
        "upper_seq = seq.upper()\n",
        "print(\"大文字:\", upper_seq)\n",
        "\n",
        "# 逆順に並べる\n",
        "reversed_seq = upper_seq[::-1]\n",
        "print(\"逆順:\", reversed_seq)\n",
        "\n",
        "# 一部を置換（T → U）\n",
        "replaced_seq = upper_seq.replace(\"T\", \"U\")\n",
        "print(\"GをAに置換:\", replaced_seq)\n",
        "\n",
        "# 文字列のままでは、個別の位置は変更できない（エラーになる）\n",
        "# upper_seq[2] = \"T\"  # ← この行はエラーになります\n",
        "\n",
        "# リストにしてから位置を変更する\n",
        "seq_list = list(upper_seq)\n",
        "seq_list[2] = \"T\"\n",
        "edited_seq = \"\".join(seq_list)\n",
        "print(\"3番目をTに変更:\", edited_seq)"
      ],
      "metadata": {
        "id": "OJf2XJK2EvtC"
      },
      "id": "OJf2XJK2EvtC",
      "execution_count": null,
      "outputs": []
    },
    {
      "cell_type": "code",
      "source": [
        "text = \"  ATGC,,,,,  \"\n",
        "print(\"元の文字列:\", text)\n",
        "print(\"strip()      :\", text.strip())  # 何も指定しない場合、スペース、タブ、改行コードなどを除去する\n",
        "print(\"strip(', ')      :\", text.strip(\", \"))  # 除去したい文字を指定する（カンマとスペースの2文字を指定）\n",
        "print(\"lstrip() :\", text.lstrip())\n",
        "print(\"rstrip():\", text.rstrip())\n",
        "print(\"rstrip(', ')):\", text.rstrip(\", \"))  # 除去したい文字を指定する（カンマとスペースの2文字を指定）"
      ],
      "metadata": {
        "id": "ijd1CKTLItNL"
      },
      "id": "ijd1CKTLItNL",
      "execution_count": null,
      "outputs": []
    },
    {
      "cell_type": "code",
      "source": [
        "seq = \"ATCGATCGTATAATCGTAGCTATCGGCTGTACGTATACGTACGTAGCGTATATA\"\n",
        "\n",
        "# 目立つ文字列に置換（TATA → [TATA]）\n",
        "replaced_seq = seq.replace(\"TATA\", \" [TATA] \")\n",
        "print(\"TATA検索:\", replaced_seq)"
      ],
      "metadata": {
        "id": "_l4J0oIUE2Ja"
      },
      "id": "_l4J0oIUE2Ja",
      "execution_count": null,
      "outputs": []
    },
    {
      "cell_type": "code",
      "source": [
        "import re\n",
        "\n",
        "seq = \"ATCGATCGTATAATCGTAGCTATCGGCTGTACGTATACGTACGTAGCGTATATA\"\n",
        "\n",
        "# 正規表現パターン：TATA + T or A + T or A（つまり TATA[TA][TA]）\n",
        "pattern = r\"(TATA[TA][TA])\"  # マッチした部分を記憶させるためカッコが必要\n",
        "\n",
        "# マッチ部分を置き換え\n",
        "replaced_seq = re.sub(pattern, r\" [\\1] \", seq)\n",
        "\n",
        "print(\"TATA[TA][TA] 検索:\", replaced_seq)\n",
        "\n",
        "# 正規表現パターン：ATの後に任意の2文字、その後にGC（つまり AT..GC）\n",
        "pattern = r\"(AT..GC)\"\n",
        "\n",
        "# マッチ部分を置き換え\n",
        "replaced_seq = re.sub(pattern, r\" [\\1] \", seq)\n",
        "\n",
        "print(\"AT..GC 検索:\", replaced_seq)"
      ],
      "metadata": {
        "id": "Z2nYSHR1FQNK"
      },
      "id": "Z2nYSHR1FQNK",
      "execution_count": null,
      "outputs": []
    },
    {
      "cell_type": "markdown",
      "source": [
        "---\n",
        "\n",
        "## 10. 調査（長さや塩基のカウント）\n",
        "\n",
        "塩基配列中に**何文字あるか、ある塩基が何回登場するか**を数える操作は、最も基本的かつ重要な調査のひとつです。Pythonでは以下のようなメソッドが用意されています。\n",
        "\n",
        "ただし、**`count()` は「重なりを無視してカウントする」**ことに注意が必要です。例えば `\"AAAA\"` に `\"AA\"` がいくつあるかを数える場合、意図とは異なる結果になることがあります。\n",
        "\n",
        "<br>\n",
        "\n",
        "### 🔹 主な調査メソッド\n",
        "\n",
        "| メソッド           | 例                      | 結果          |\n",
        "| -------------- | ---------------------- | ----------- |\n",
        "| `len(s)`       | `len(\"ATGC\")`          | 4（文字数）      |\n",
        "| `.count(x)`    | `\"GATTACA\".count(\"A\")` | 3（\"A\" が3回）  |\n",
        "| `.count(\"AA\")` | `\"AAAA\".count(\"AA\")`   | 2（重なりは数えない） |\n",
        "\n",
        "<br>\n",
        "\n",
        "🔽🔽🔽 ⬇ **以下のコードを実行してみましょう！** 🔽🔽🔽\n"
      ],
      "metadata": {
        "id": "sIVi4DcNJHrp"
      },
      "id": "sIVi4DcNJHrp"
    },
    {
      "cell_type": "code",
      "source": [
        "seq = \"GATTACA\"\n",
        "\n",
        "# 長さを調べる\n",
        "print(\"塩基配列の長さ:\", len(seq))\n",
        "\n",
        "# 各塩基の数を数える\n",
        "for nuc in \"ATGC\":\n",
        "    print(f\"{nuc}の出現回数:\", seq.count(nuc))\n",
        "\n",
        "# 2文字単位のカウント\n",
        "repeats = \"AAAAAA\"\n",
        "print(\"AAの出現回数:\", repeats.count(\"AA\"))  # → 3\n",
        "\n",
        "# 重なりも含めて数えたい場合（正規表現を使用）\n",
        "import re  # 既にimportしてあれば不要\n",
        "\n",
        "matches = re.findall(r\"(?=(AA))\", repeats)  # (?=(AA))は重なりを考慮するための書き方\n",
        "print(\"AA出現回数 (重なり考慮):\", len(matches))  # → 5"
      ],
      "metadata": {
        "id": "HTp2Eg8sJO8R"
      },
      "id": "HTp2Eg8sJO8R",
      "execution_count": null,
      "outputs": []
    },
    {
      "cell_type": "markdown",
      "source": [
        "---\n",
        "---\n",
        "# 塩基配列の操作"
      ],
      "metadata": {
        "id": "RG-DqI6ZK1Bo"
      },
      "id": "RG-DqI6ZK1Bo"
    },
    {
      "cell_type": "markdown",
      "source": [
        "---\n",
        "\n",
        "## Bio.Seq.Seq クラスとは（通常文字列との違い）\n",
        "\n",
        "塩基配列を Python で扱うとき、標準の文字列（`str`）でもある程度の操作が可能です。しかし、BioPython の `Seq` クラスを使うことで、**生物学的な操作をより自然かつ安全に扱うことができます。**\n",
        "\n",
        "`Seq` は文字列とよく似た使い方ができますが、**相補鎖や翻訳など、塩基配列に特化したメソッドが多数用意されている**点が大きな違いです。\n",
        "\n",
        "また、Pythonの `str` と同様の**インデックス、スライス、繰り返し、検索、結合など多くの文字列操作がサポートされています。**\n",
        "\n",
        "以降の説明は、Biopythonのバージョン1.85を対象としています。\n",
        "\n",
        "<br>\n",
        "\n",
        "🔽🔽🔽 ⬇ **以下のコードを実行してみましょう！** 🔽🔽🔽\n"
      ],
      "metadata": {
        "id": "9e8fd1J1K5a5"
      },
      "id": "9e8fd1J1K5a5"
    },
    {
      "cell_type": "code",
      "source": [
        "# Install Biopython in this Colab environment\n",
        "!pip install biopython\n",
        "\n",
        "# Import Biopython\n",
        "import Bio\n",
        "from Bio.Seq import Seq, MutableSeq\n",
        "\n",
        "# Display the version\n",
        "print(\"Biopython version:\", Bio.__version__)\n"
      ],
      "metadata": {
        "id": "xLK4EZq5Lihx",
        "outputId": "89174509-10ba-4eca-998e-d96dfcba958a",
        "colab": {
          "base_uri": "https://localhost:8080/"
        }
      },
      "id": "xLK4EZq5Lihx",
      "execution_count": null,
      "outputs": [
        {
          "output_type": "stream",
          "name": "stdout",
          "text": [
            "Requirement already satisfied: biopython in /usr/local/lib/python3.12/dist-packages (1.85)\n",
            "Requirement already satisfied: numpy in /usr/local/lib/python3.12/dist-packages (from biopython) (2.0.2)\n",
            "Biopython version: 1.85\n"
          ]
        }
      ]
    },
    {
      "cell_type": "code",
      "source": [
        "# Nucleotide sequence as a regular string\n",
        "s = \"ATGCATGAA\"\n",
        "\n",
        "# Nucleotide sequence as a Biopython Seq object\n",
        "seq = Seq(s)\n",
        "\n",
        "# Examples of using it just like a normal string (many more are possible)\n",
        "print(\"3rd nucleotide:\", seq[2])\n",
        "print(\"Slice:\", seq[2:6])\n",
        "print(\"Repetition:\", seq * 2)\n",
        "print(\"Contains substring 'CAT'?\", \"CAT\" in seq)\n"
      ],
      "metadata": {
        "id": "GsxDRJCHoqzW",
        "outputId": "c5c0b77d-fcf2-46a2-b955-f3129da89245",
        "colab": {
          "base_uri": "https://localhost:8080/"
        }
      },
      "id": "GsxDRJCHoqzW",
      "execution_count": null,
      "outputs": [
        {
          "output_type": "stream",
          "name": "stdout",
          "text": [
            "3rd nucleotide: G\n",
            "Slice: GCAT\n",
            "Repetition: ATGCATGAAATGCATGAA\n",
            "Contains substring 'CAT'? True\n"
          ]
        }
      ]
    },
    {
      "cell_type": "markdown",
      "source": [
        "---\n",
        "\n",
        "## 14. 相補鎖と逆相補鎖の取得\n",
        "\n",
        "DNAは2本鎖構造をとっており、各塩基（A, T, G, C）は特定の相手と結合する**相補的な関係**にあります：\n",
        "\n",
        "* A（アデニン） ⇔ T（チミン）\n",
        "* G（グアニン） ⇔ C（シトシン）\n",
        "\n",
        "`Seq` クラスを使うと、この**相補鎖（complement）**と、**逆方向に読んだ相補鎖（逆相補鎖 = reverse complement）**を簡単に得ることができます。\n",
        "\n",
        "* `complement()` は**各塩基を対応する塩基に変換**\n",
        "* `reverse_complement()` は**complementした後に逆順に並べる**\n",
        "\n",
        "この操作は、PCRプライマーの設計や転写方向の解析などで頻繁に使われます。\n",
        "\n",
        "<br>\n",
        "\n",
        "DNAの塩基配列では、通常の A（アデニン）、T（チミン）、G（グアニン）、C（シトシン）以外にも、**複数の塩基の可能性を示す「曖昧な塩基記号」**が使われることがあります。\n",
        "\n",
        "BioPython の `Seq` クラスでは、こうした **曖昧塩基も正しく補完して相補鎖や逆相補鎖を計算**することができます。\n",
        "\n",
        "<br>\n",
        "\n",
        "### 🔹 各塩基の記号とその意味\n",
        "\n",
        "| 記号    | 含まれる塩基           | 相補塩基 | 記号の由来・語源補足                           |\n",
        "| ----- | ---------------- | ---- | ------------------------------------ |\n",
        "| **A** | A（アデニン）          | T    | Adenine                              |\n",
        "| **T** | T（チミン）           | A    | Thymine                              |\n",
        "| **G** | G（グアニン）          | C    | Guanine                              |\n",
        "| **C** | C（シトシン）          | G    | Cytosine                             |\n",
        "| **R** | A or G（プリン）      | Y    | **R** = pu**R**ine（プリン類）             |\n",
        "| **Y** | C or T（ピリミジン）    | R    | **Y** = p**Y**rimidine（ピリミジン類）       |\n",
        "| **S** | G or C           | S    | **S** = Strong（G≡Cは三重結合で強い）          |\n",
        "| **W** | A or T           | W    | **W** = Weak（A=Tは二重結合で弱い）            |\n",
        "| **K** | G or T           | M    | **K** = Keto基を持つ                     |\n",
        "| **M** | A or C           | K    | **M** = aMino基を持つ                    |\n",
        "| **B** | C or G or T（非A）  | V    | **B** = **B** comes **a**fter A（A以外） |\n",
        "| **D** | A or G or T（非C）  | H    | **D** = **D** comes **a**fter C（C以外） |\n",
        "| **H** | A or C or T（非G）  | D    | **H** = **H** comes **a**fter G（G以外） |\n",
        "| **V** | A or C or G（非T）  | B    | **V** = **V** comes **a**fter T（T以外） |\n",
        "| **N** | A or T or G or C | N    | **N** = a**N**y（任意の塩基）               |\n",
        "\n",
        "\n",
        "<br>\n",
        "\n",
        "🔽🔽🔽 ⬇ **以下のコードを実行してみましょう！** 🔽🔽🔽\n"
      ],
      "metadata": {
        "id": "xvy5n3fcSbKK"
      },
      "id": "xvy5n3fcSbKK"
    },
    {
      "cell_type": "code",
      "source": [
        "# DNA配列をSeqオブジェクトとして定義\n",
        "seq = Seq(\"ATGCGTAAGG\")\n",
        "print(\"初期配列:\", seq)\n",
        "\n",
        "# 相補鎖の取得\n",
        "complement_seq = seq.complement()\n",
        "print(\"相補鎖  :\", complement_seq)\n",
        "\n",
        "# 逆相補鎖の取得\n",
        "rev_complement_seq = seq.reverse_complement()\n",
        "print(\"逆相補鎖:\", rev_complement_seq)\n"
      ],
      "metadata": {
        "id": "r1BvfuDWSzRa",
        "colab": {
          "base_uri": "https://localhost:8080/"
        },
        "outputId": "8efe2533-29e5-4bb3-a493-da4ecf99fbaa"
      },
      "id": "r1BvfuDWSzRa",
      "execution_count": null,
      "outputs": [
        {
          "output_type": "stream",
          "name": "stdout",
          "text": [
            "初期配列: ATGCGTAAGG\n",
            "相補鎖  : TACGCATTCC\n",
            "逆相補鎖: CCTTACGCAT\n"
          ]
        }
      ]
    },
    {
      "cell_type": "code",
      "source": [
        "# Define a DNA sequence as a Seq object\n",
        "seq = Seq(\"ATGCGTAAGG\")\n",
        "print(\"Original sequence:\", seq)\n",
        "\n",
        "# Get the complementary strand\n",
        "complement_seq = seq.complement()\n",
        "print(\"Complementary strand:\", complement_seq)\n",
        "\n",
        "# Get the reverse complementary strand\n",
        "rev_complement_seq = seq.reverse_complement()\n",
        "print(\"Reverse complementary strand:\", rev_complement_seq)\n"
      ],
      "metadata": {
        "id": "ubCJ5jPRrWAv",
        "outputId": "d05e53f6-803b-4be2-bce5-0cc64daae3e6",
        "colab": {
          "base_uri": "https://localhost:8080/"
        }
      },
      "execution_count": null,
      "outputs": [
        {
          "output_type": "stream",
          "name": "stdout",
          "text": [
            "Original sequence: ATGCGTAAGG\n",
            "Complementary strand: TACGCATTCC\n",
            "Reverse complementary strand: CCTTACGCAT\n"
          ]
        }
      ],
      "id": "ubCJ5jPRrWAv"
    },
    {
      "cell_type": "code",
      "source": [
        "# Sequence containing ambiguous bases\n",
        "seq = Seq(\"ATGCRYWSMKHBVDN\")\n",
        "print(\"Original sequence:\", seq)\n",
        "\n",
        "# Get the complementary strand\n",
        "complement_seq = seq.complement()\n",
        "print(\"Complementary strand:\", complement_seq)\n",
        "\n",
        "# Get the reverse complementary strand\n",
        "rev_complement_seq = seq.reverse_complement()\n",
        "print(\"Reverse complementary strand:\", rev_complement_seq)\n"
      ],
      "metadata": {
        "id": "1iGr6PN4UCZi",
        "outputId": "c9f62d14-a9c2-4dfb-97b2-4d18c40ed636",
        "colab": {
          "base_uri": "https://localhost:8080/"
        }
      },
      "id": "1iGr6PN4UCZi",
      "execution_count": null,
      "outputs": [
        {
          "output_type": "stream",
          "name": "stdout",
          "text": [
            "Original sequence: ATGCRYWSMKHBVDN\n",
            "Complementary strand: TACGYRWSKMDVBHN\n",
            "Reverse complementary strand: NHBVDMKSWRYGCAT\n"
          ]
        }
      ]
    },
    {
      "cell_type": "markdown",
      "source": [
        "## 🧬 Transcription and Reverse Transcription (DNA ↔ RNA Conversion)\n",
        "\n",
        "Biopython's `Seq` class provides two simple methods for converting between DNA and RNA: **`transcribe()`** and **`back_transcribe()`**.\n",
        "\n",
        "These methods make it easy to simulate how DNA is transcribed into RNA, and how RNA can be reverse-transcribed back into DNA.\n",
        "\n",
        "---\n",
        "\n",
        "### 🔹 1. Using `Seq` for Transcription and Reverse Transcription\n",
        "\n",
        "```python\n",
        "from Bio.Seq import Seq\n",
        "\n",
        "# DNA sequence\n",
        "dna = Seq(\"ATGCGTAA\")\n",
        "\n",
        "# Transcription (DNA → RNA)\n",
        "rna = dna.transcribe()\n",
        "print(\"RNA sequence (transcribed):\", rna)\n",
        "\n",
        "# Reverse transcription (RNA → DNA)\n",
        "dna_back = rna.back_transcribe()\n",
        "print(\"DNA sequence (back-transcribed):\", dna_back)\n",
        "```\n",
        "\n",
        "---\n",
        "\n",
        "### 🔹 2. Performing the Same Conversion with Python Strings\n",
        "\n",
        "You can also achieve similar conversions using standard Python strings (`str`) and the **`replace()`** method.\n",
        "\n",
        "```python\n",
        "# DNA string\n",
        "dna_str = \"ATGCGTAA\"\n",
        "\n",
        "# Convert to RNA (T → U)\n",
        "rna_str = dna_str.replace(\"T\", \"U\")\n",
        "print(\"RNA sequence (str):\", rna_str)\n",
        "\n",
        "# Reverse transcription (U → T)\n",
        "dna_back_str = rna_str.replace(\"U\", \"T\")\n",
        "print(\"DNA sequence (str):\", dna_back_str)\n",
        "```\n",
        "\n",
        "---\n",
        "\n",
        "💡 **Tip:**\n",
        "In biology, **transcription** is the process of synthesizing RNA from a DNA template, while **reverse transcription** performs the opposite—creating DNA from RNA.\n",
        "With Biopython, you can model both processes easily with just a single command!\n"
      ],
      "metadata": {
        "id": "B5MaYC6PMjKp"
      },
      "id": "B5MaYC6PMjKp"
    },
    {
      "cell_type": "code",
      "source": [
        "# DNA string\n",
        "dna_str = \"atgcgtaagg\"\n",
        "dna = Seq(dna_str)\n",
        "\n",
        "# Convert to RNA\n",
        "# Be mindful of uppercase and lowercase letters\n",
        "# dna_str.replace(\"T\", \"U\").replace(\"t\", \"u\") handles both cases\n",
        "rna_str = dna_str.replace(\"T\", \"U\")\n",
        "print('RNA sequence (str.replace(\"T\", \"U\")):', rna_str)\n",
        "\n",
        "rna_str = dna_str.replace(\"t\", \"u\")\n",
        "print('RNA sequence (str.replace(\"t\", \"u\")):', rna_str)\n",
        "\n",
        "# Convert to RNA using Biopython\n",
        "# Nothing special to worry about here\n",
        "rna = dna.transcribe()\n",
        "print(\"RNA sequence (Seq.transcribe()):\", rna)\n"
      ],
      "metadata": {
        "id": "tzf6xyPuuu40",
        "outputId": "ca26cc08-cefa-4deb-e8d1-0747aa7094aa",
        "colab": {
          "base_uri": "https://localhost:8080/"
        }
      },
      "id": "tzf6xyPuuu40",
      "execution_count": 13,
      "outputs": [
        {
          "output_type": "stream",
          "name": "stdout",
          "text": [
            "RNA sequence (str.replace(\"T\", \"U\")): atgcgtaagg\n",
            "RNA sequence (str.replace(\"t\", \"u\")): augcguaagg\n",
            "RNA sequence (Seq.transcribe()): augcguaagg\n"
          ]
        }
      ]
    },
    {
      "cell_type": "markdown",
      "source": [
        "---\n",
        "\n",
        "## 翻訳（タンパク質配列への変換）\n",
        "\n",
        "mRNA配列（RNA）は、3つの塩基（コドン）ごとにアミノ酸へと翻訳（translation）され、タンパク質が合成されます。\n",
        "この翻訳を行うには、**RNA配列またはDNA配列を `Seq` オブジェクトとして用意し、 `.translate()` メソッドを使うだけ**です。\n",
        "\n",
        "BioPythonの `.translate()` メソッドでは、**標準の遺伝暗号表（スタート/ストップコドン含む）に従って、1文字表記のアミノ酸配列を生成**します。\n",
        "\n",
        "<br>\n",
        "\n",
        "### 🔹 補足ポイント\n",
        "\n",
        "* DNAでもRNAでも `.translate()` は使えます。\n",
        "* ストップコドンを `*` で表します（例：`\"MAIVMGR*\"`）\n",
        "* 長さが3の倍数でない場合、最後の余りは無視されます。\n",
        "* `table=1`（標準コード）、`to_stop=True`（ストップコドンで切る）などの引数も指定可能です。\n",
        "\n",
        "<br>\n",
        "\n",
        "🔽🔽🔽 ⬇ **以下のコードを実行してみましょう！** 🔽🔽🔽\n"
      ],
      "metadata": {
        "id": "00SkxGjDOXeC"
      },
      "id": "00SkxGjDOXeC"
    },
    {
      "cell_type": "code",
      "source": [
        "# DNA配列（3の倍数の長さであることが推奨されます）\n",
        "dna = Seq(\"ATGGCCATTGTAATGGGCCGCCGAAAGGGTGCCCGATAG\")\n",
        "\n",
        "# 翻訳してアミノ酸配列に変換\n",
        "protein = dna.translate()\n",
        "print(\"アミノ酸配列:\", protein)\n",
        "\n",
        "# 最初のストップコドンまでを変換\n",
        "protein_partial = dna.translate(to_stop=True)\n",
        "print(\"ストップまで翻訳:\", protein_partial)"
      ],
      "metadata": {
        "id": "789b1lFGOkGi"
      },
      "id": "789b1lFGOkGi",
      "execution_count": null,
      "outputs": []
    },
    {
      "cell_type": "code",
      "source": [
        "# DNA配列（3の倍数の長さであることが推奨されます）\n",
        "dna = Seq(\"ATGGCCATTGTAATGGGCCGCTGAAAGGGTGCCCGATAG\")\n",
        "\n",
        "# 翻訳してアミノ酸配列に変換\n",
        "protein = dna.translate()\n",
        "print(\"アミノ酸配列:\", protein)\n",
        "\n",
        "# 最初のストップコドンまでを変換\n",
        "protein_partial = dna.translate(to_stop=True)\n",
        "print(\"ストップまで翻訳:\", protein_partial)"
      ],
      "metadata": {
        "id": "-BMdnGw-O5bJ"
      },
      "id": "-BMdnGw-O5bJ",
      "execution_count": null,
      "outputs": []
    },
    {
      "cell_type": "markdown",
      "source": [
        "---\n",
        "## 翻訳の補足：特殊ケースと注意点\n",
        "\n",
        "<br>\n",
        "\n",
        "### ✅ 1. 開始コドンが**ない**場合\n",
        "\n",
        "* `.translate()` は **常に先頭から3文字ずつ**翻訳します。\n",
        "* **開始コドン（ATG/AUG）がなくても翻訳されます。**\n",
        "\n",
        "```python\n",
        "from Bio.Seq import Seq\n",
        "\n",
        "seq = Seq(\"GCCGCTGAA\")  # 開始コドンなし\n",
        "print(seq.translate())  # → \"AAE\"\n",
        "```\n",
        "\n",
        "📝 **補足**：実際の生物では翻訳は開始コドンから始まりますが、`translate()` は**塩基の並びとして機械的に処理**します。\n",
        "\n",
        "<br>\n",
        "\n",
        "### ✅ 2. 開始コドンが**途中にある**場合\n",
        "\n",
        "* `translate()` は開始位置にかかわらず、**配列の先頭から3文字ずつ翻訳**します。\n",
        "* 自分で**コドンの開始位置をスライスで指定**する必要があります。\n",
        "\n",
        "```python\n",
        "seq = Seq(\"TTTATGGGCCC\")  # 開始コドンは3文字目から\n",
        "print(seq.translate())         # → \"FMP\"\n",
        "print(seq[3:].translate())     # → \"MP\"\n",
        "```\n",
        "\n",
        "<br>\n",
        "\n",
        "### ✅ 3. 早期に終止コドン（TAA, TAG, TGA）がある場合\n",
        "\n",
        "* デフォルトでは **終止コドンは `*` として出力される**だけで、翻訳は止まりません。\n",
        "* `to_stop=True` を使うと、**最初のストップコドンで翻訳を終了**できます。\n",
        "\n",
        "```python\n",
        "seq = Seq(\"ATGGGGTAATTT\")  # ストップコドンはTAA\n",
        "print(seq.translate())               # → \"MG*F\"\n",
        "print(seq.translate(to_stop=True))  # → \"MG\"\n",
        "```\n",
        "\n",
        "<br>\n",
        "\n",
        "### ✅ 4. 終止コドンが**ない**場合\n",
        "\n",
        "* `.translate()` は最後まで翻訳します。\n",
        "* 配列長が3の倍数でないと、**余った末端の塩基は無視**されます。\n",
        "\n",
        "```python\n",
        "seq = Seq(\"ATGGGGT\")  # 長さ7 → 2コドン + 1余り\n",
        "print(seq.translate())  # → \"MG\"\n",
        "```\n",
        "\n",
        "<br>\n",
        "\n",
        "### ✅ 5. A/T/U/G/C以外の**曖昧塩基**がある場合\n",
        "\n",
        "* 曖昧塩基（例：N, R, Yなど）が含まれていると、そのコドンはX（不明な網の案）になります。\n",
        "\n",
        "```python\n",
        "seq = Seq(\"ATGNCC\")  # \"N\"を含む\n",
        "print(seq.translate())  # → \"MX\"\n",
        "```\n",
        "\n",
        "<br>\n",
        "\n",
        "### ✅ 6. ギャップ（-）が含まれる場合\n",
        "\n",
        "* 3の倍数の`\"-\"`（ギャップ記号）が含まれる場合、翻訳結果にもギャップが反映されます。\n",
        "\n",
        "```python\n",
        "seq = Seq(\"ATG---GGC\")\n",
        "print(seq.translate(gap=\"-\"))  # → \"M-G\"\n",
        "```\n",
        "\n",
        "<br>\n",
        "\n",
        "🔽🔽🔽 ⬇ **以下のコードを実行してみましょう！** 🔽🔽🔽\n"
      ],
      "metadata": {
        "id": "ngRMA_hKPTrz"
      },
      "id": "ngRMA_hKPTrz"
    },
    {
      "cell_type": "code",
      "source": [
        "print(\"✅ 1. 開始コドンがない場合\")\n",
        "seq = Seq(\"GCCGCTGAA\")  # 開始コドンなし\n",
        "print(seq.translate())  # → \"AAE\"\n",
        "\n",
        "print(\"\\n✅ 2. 開始コドンが途中にある場合\")\n",
        "seq = Seq(\"TATGGGCCC\")  # 開始コドンは1文字目から\n",
        "print(seq.translate())         # → \"YGP\"\n",
        "print(seq[1:].translate())     # → \"MG\"\n",
        "\n",
        "print(\"\\n✅ 3. 早期に終止コドン（TAA, TAG, TGA）がある場合\")\n",
        "seq = Seq(\"ATGGGGTAATTT\")  # ストップコドンはTAA\n",
        "print(seq.translate())               # → \"MG*F\"\n",
        "print(seq.translate(to_stop=True))  # → \"MG\"\n",
        "\n",
        "print(\"\\n✅ 4. 終止コドンがない場合\")\n",
        "seq = Seq(\"ATGGGGT\")  # 長さ7 → 2コドン + 1余り\n",
        "print(seq.translate())  # → \"MG\"\n",
        "\n",
        "print(\"\\n✅ 5. A/T/G/C以外の曖昧塩基がある場合\")\n",
        "seq = Seq(\"ATGNCC\")  # \"N\"を含む\n",
        "print(seq.translate())  # → \"MX\"\n",
        "\n",
        "print(\"\\n✅ 6. ギャップ（-）が含まれる場合\")\n",
        "seq = Seq(\"ATG---GGC\")\n",
        "print(seq.translate(gap=\"-\"))  # → \"M-G\"\n"
      ],
      "metadata": {
        "id": "o9IwTUPROpmJ"
      },
      "id": "o9IwTUPROpmJ",
      "execution_count": null,
      "outputs": []
    },
    {
      "cell_type": "markdown",
      "source": [
        "---\n",
        "\n",
        "## 17. 配列の評価（`count()` と `count_overlap()`）\n",
        "\n",
        "塩基配列中に **特定の文字列（コドンやモチーフなど）が何回現れるかを数える**ことは、頻度解析やモチーフ探索などで基本となる操作です。\n",
        "\n",
        "`Seq` クラスには、以下の2つの方法が用意されています：\n",
        "\n",
        "| メソッド                     | 意味                  |\n",
        "| ------------------------ | ------------------- |\n",
        "| `.count(subseq)`         | 通常の出現回数（**重なりは無視**） |\n",
        "| `.count_overlap(subseq)` | **重なりも含めた**出現回数     |\n",
        "\n",
        "このように、**目的に応じて「重なりあり／なし」を使い分けることが重要**です。\n",
        "\n",
        "<br>\n",
        "\n",
        "### 🔹 補足：なぜ結果が異なるのか？\n",
        "\n",
        "* `\"AAAAGAAAAAA\"` という配列の中には、`\"AAA\"` という部分文字列が **位置をずらしながら複数回登場**しています。\n",
        "* 通常の `.count()` は「一度使った文字は再利用しない」ため、**重なりを無視します**。\n",
        "* `.count_overlap()` は **1文字ずつずらしながら検索**するため、すべての可能性をカウントします。\n",
        "\n",
        "<br>\n",
        "\n",
        "🔽🔽🔽 ⬇ **以下のコードを実行してみましょう！** 🔽🔽🔽\n"
      ],
      "metadata": {
        "id": "jb73aF64R4t8"
      },
      "id": "jb73aF64R4t8"
    },
    {
      "cell_type": "code",
      "source": [
        "# 例として、同じ塩基が繰り返し現れる配列を用意します\n",
        "seq = Seq(\"AAAAGAAAAAA\")\n",
        "\n",
        "# 'AAA' の出現回数を数えます（通常）\n",
        "count_non_overlap = seq.count(\"AAA\")\n",
        "print(\"AAA の出現回数（重なりなし）:\", count_non_overlap)\n",
        "\n",
        "# 重なりを含めた出現回数\n",
        "count_with_overlap = seq.count_overlap(\"AAA\")\n",
        "print(\"AAA の出現回数（重なりあり）:\", count_with_overlap)\n"
      ],
      "metadata": {
        "id": "DJJ204nER8AJ"
      },
      "id": "DJJ204nER8AJ",
      "execution_count": null,
      "outputs": []
    },
    {
      "cell_type": "markdown",
      "source": [
        "---\n",
        "\n",
        "## 配列の編集（MutableSeq を使った可変操作）\n",
        "\n",
        "BioPython の `Seq` オブジェクトは不変（immutable）であり、作成後に内容を直接変更することはできません。\n",
        "しかし、配列の一部を**置換・挿入・削除・追加**したい場面では、**`MutableSeq`（可変シーケンス）**を使うことで、柔軟な編集が可能になります。\n",
        "\n",
        "<br>\n",
        "\n",
        "### 🔹 よく使う操作とメソッド\n",
        "\n",
        "| 操作    | メソッド例                 | 内容                       |\n",
        "| ----- | --------------------- | ------------------------ |\n",
        "| 変換    | `mseq = MutableSeq(seq)`  | `Seq` → `MutableSeq` へ変換 |\n",
        "| 代入    | `mseq[i] = \"A\"`       | 指定位置の塩基を置換               |\n",
        "| 挿入    | `mseq.insert(i, \"T\")` | 指定位置に塩基を挿入               |\n",
        "| 削除    | `del mseq[i]`         | 指定位置の塩基を削除               |\n",
        "| 末尾追加① | `mseq.append(\"G\")`    | 1塩基を末尾に追加                |\n",
        "| 末尾追加② | `mseq.extend(\"TAA\")`  | 複数塩基を1塩基ずつ追加             |\n",
        "| 元に戻す  | `Seq(mseq)`           | `MutableSeq` → `Seq` に変換 |\n",
        "\n",
        "<br>\n",
        "\n",
        "### 🔹 補足：なぜ `Seq` に戻すのか？\n",
        "\n",
        "* `MutableSeq` は柔軟に編集できますが、**翻訳や相補鎖などの生物学的処理は `Seq` にしか対応していない**ものもあります。\n",
        "* `Seq` は不変なため、**解析時に誤って変更されるリスクを防ぐ**ことができます。\n",
        "\n",
        "したがって：\n",
        "\n",
        "* **編集：`MutableSeq`**\n",
        "* **解析：`Seq` に戻してから使う**\n",
        "\n",
        "という使い分けが推奨されます。\n",
        "\n",
        "<br>\n",
        "\n",
        "🔽🔽🔽 ⬇ **以下のコードを実行してみましょう！** 🔽🔽🔽\n"
      ],
      "metadata": {
        "id": "vsYlOCj7R7VR"
      },
      "id": "vsYlOCj7R7VR"
    },
    {
      "cell_type": "code",
      "source": [
        "# 元の配列（変更不可）\n",
        "seq = Seq(\"ATGCGTAA\")\n",
        "\n",
        "# 編集可能なMutableSeqに変換\n",
        "mseq = MutableSeq(seq)\n",
        "\n",
        "# 3番目の塩基（G）をTに変更\n",
        "mseq[2] = \"T\"\n",
        "\n",
        "# 頭に1塩基追加（insert）\n",
        "mseq.insert(0, \"A\")\n",
        "\n",
        "# 末尾に1塩基追加（append）\n",
        "mseq.append(\"G\")\n",
        "\n",
        "# 複数塩基を末尾に追加（extend）\n",
        "mseq.extend(\"TAC\")\n",
        "\n",
        "# 5番目の塩基を削除\n",
        "del mseq[4]\n",
        "\n",
        "# Seqに戻す（解析や翻訳を行う前に）\n",
        "edited = Seq(mseq)\n",
        "print(\"元のSeq    :\", seq)\n",
        "print(\"編集後のSeq:\", edited)"
      ],
      "metadata": {
        "id": "o_fyNhg2Ul5j"
      },
      "id": "o_fyNhg2Ul5j",
      "execution_count": null,
      "outputs": []
    },
    {
      "cell_type": "markdown",
      "source": [
        "---\n",
        "---\n",
        "# 🎉 お疲れ様でした！\n",
        "---\n",
        "\n",
        "<br>\n",
        "\n",
        "次は、今回学んだ内容が活躍する「配列取得法」や「配列解析」に進みます。"
      ],
      "metadata": {
        "id": "ntB_mKHuWN_z"
      },
      "id": "ntB_mKHuWN_z"
    }
  ],
  "metadata": {
    "hide_input": false,
    "kernelspec": {
      "display_name": "Python 3 (ipykernel)",
      "language": "python",
      "name": "python3"
    },
    "language_info": {
      "codemirror_mode": {
        "name": "ipython",
        "version": 3
      },
      "file_extension": ".py",
      "mimetype": "text/x-python",
      "name": "python",
      "nbconvert_exporter": "python",
      "pygments_lexer": "ipython3",
      "version": "3.11.9"
    },
    "toc": {
      "base_numbering": 1,
      "nav_menu": {},
      "number_sections": true,
      "sideBar": true,
      "skip_h1_title": false,
      "title_cell": "Table of Contents",
      "title_sidebar": "Contents",
      "toc_cell": false,
      "toc_position": {},
      "toc_section_display": true,
      "toc_window_display": false
    },
    "colab": {
      "provenance": [],
      "toc_visible": true,
      "include_colab_link": true
    }
  },
  "nbformat": 4,
  "nbformat_minor": 5
}