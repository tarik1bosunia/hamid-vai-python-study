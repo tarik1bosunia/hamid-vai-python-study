{
  "cells": [
    {
      "cell_type": "markdown",
      "source": [
        "<font size=\"+3\"><strong>OUBIC[translate]</strong></font>\n\n<font size=\"+3\"><strong>[translate]1[translate] 【[translate]】[translate]\n</strong></font>\n\n<font size=\"+3\"><strong>[translate]</strong></font>\n- [translate]: 2025-06-29\n- [translate]: [translate]﨑 [translate]（[translate]・OUBIC・RNA[translate]）\n\n※ [translate]、[translate]・[translate]、[translate] ChatGPT（OpenAI）[translate]。[translate]。\n\n<br>\n\n---\n---\n# [translate]\n\n## ✅ [translate]\n\n1. [translate] **「[translate]」→「[translate]」** [translate]  \n   → [translate]Google[translate]。[translate]「Colab Notebooks」[translate]、[translate]。\n\n2. [translate]。  \n   [translate]。\n\n<br>\n\n## 🗂️ [translate]\n\n[translate]、**[translate]（[translate]）**[translate]。  \n[translate]、**[translate]**。\n\n<br>\n"
      ],
      "metadata": {
        "id": "etjoncTMvz0i"
      },
      "id": "etjoncTMvz0i"
    },
    {
      "cell_type": "markdown",
      "source": [
        "\n---\n## [translate]Colab Notebook[translate]\n\n### 🧬 [translate]＆[translate]\n「[translate]」[translate]「[translate]」[translate]、[translate]。[translate]、[translate]、[translate]、[translate]・[translate]・[translate]、[translate]。\n\n[translate]、[translate]、[translate]、[translate]。\n\n<br>\n\n### ✅ [translate]【[translate]！】\n\n- [translate]「**[translate]**」[translate]。\n- [translate]、[translate]。\n- [translate]1[translate]。\n\n<br>\n"
      ],
      "metadata": {
        "id": "M8EzQpsTBkDl"
      },
      "id": "M8EzQpsTBkDl"
    },
    {
      "cell_type": "markdown",
      "source": [
        "---\n## [translate]\n\n\n### 🔹 **Python[translate]**\n\nPython[translate]、[translate]、[translate]「[translate]・[translate]」[translate]。\n\n| [translate]                       | [translate]                                                   |\n| -------------------------- | ------------------------------------------------------ |\n| [translate]（[translate]） | [translate]                                 |\n| [translate]・[translate]     | [translate]                             |\n| [translate]・[translate]       | `.translate()`, `.count()` [translate]            |\n| for [translate]、if [translate]（[translate]）  | [translate]、[translate] |\n\n<br>\n\n### 🔹 **[translate]**\n\n| [translate]                       | [translate]                                                  |\n| -------------------------- | ----------------------------------------------------- |\n| DNA・RNA・[translate] | `transcribe()`, `translate()` [translate]            |\n| [translate]・[translate]     | `.complement()` [translate] `.reverse_complement()` [translate] |\n| [translate]         | [translate]（`translate()`）[translate]     |\n\n<br>\n"
      ],
      "metadata": {
        "id": "_FWV8_0D2CF6"
      },
      "id": "_FWV8_0D2CF6"
    },
    {
      "cell_type": "markdown",
      "source": [
        "---\n## [translate]\n\n[translate]、[translate]：\n\n> **Creative Commons Attribution-NonCommercial 4.0 International (CC BY-NC 4.0)**  \n> https://creativecommons.org/licenses/by-nc/4.0/\n\n- [translate]・[translate]、[translate]、[translate]。\n- [translate]（[translate]：[translate]、[translate]）[translate]。\n- [translate]・[translate]、[translate]。\n- [translate]、[translate]。[translate]Python[translate]、[translate]。\n  [translate]、[translate]・[translate]（[translate]）[translate]、[translate]：  \n  - `# Based on code by Shotaro Yamasaki (Osaka University, OUBIC)`\n- [translate]、[translate]・[translate]。\n"
      ],
      "metadata": {
        "id": "8by8u-4QBnE7"
      },
      "id": "8by8u-4QBnE7"
    },
    {
      "cell_type": "markdown",
      "source": [
        "---\n## [translate]\n\n- [translate] Google Colab [translate]、[translate]。\n- [translate]、[translate]。[translate]。\n- [translate]。[translate]・[translate]、[translate]。[translate]、[translate]（[translate]・[translate]）[translate]。\n- [translate]（Colab[translate]）。"
      ],
      "metadata": {
        "id": "f9Q66HU6BoNM"
      },
      "id": "f9Q66HU6BoNM"
    },
    {
      "cell_type": "markdown",
      "source": [
        "---\n---\n# 🔰 Google Colab[translate]（[translate]）\n---\n\n<br>\n\n<details>\n<summary>🔍 [translate]</summary>\n\n[translate]、Python [translate]、Google Colab [translate]。  \n[translate]、[translate]。\n\n<br>\n\n---\n\n## 💡 Google Colab[translate]？\n\nGoogle Colab（[translate]）[translate]、**[translate]Python[translate]**[translate]。  \n[translate]Python[translate]、[translate]。\n\n- Google[translate]「[translate]」[translate]。\n- Google[translate]、[translate]。\n- [translate]、[translate]。\n\n<br>\n\n---\n\n## 🧱 「[translate]」[translate]？\n\nGoogle Colab [translate]、「[translate]」[translate]**[translate]**[translate]。\n\n- 📄 **[translate]**：[translate]（[translate]）\n- 🧮 **[translate]**：Python [translate]（[translate] `print(\"Hello\")` [translate]）\n\n👇 [translate]、**[translate] ▶（[translate]）[translate]**[translate]。\n\n💡 [translate]（[translate]）：\n- **Shift + Enter**：[translate]、[translate]\n- **Ctrl + Enter**（[translate] Mac [translate] Cmd + Enter）：[translate]、[translate]\n\n<br>\n\n---\n\n## 🖥 [translate]？[translate]\n\nGoogle Colab[translate]、[translate]**[translate]（＝[translate]）**[translate]。\n\n### 💻 [translate]（＝[translate]）[translate]\n\n- [translate]、**[translate]「[translate]」**[translate]。\n- [translate]、**[translate]**[translate]。\n- [translate]、[translate]、[translate]、**[translate]**。\n\n### 🧾 [translate]（print[translate]）[translate]\n\n- [translate]、**[translate]「[translate]」[translate]**。\n- [translate]（[translate]）[translate]、**[translate]**。\n\n<br>\n\n---\n\n## 💾 [translate]\n\nColab[translate]、**[translate]**。  \n[translate]、**[translate]**[translate]。\n\n- [translate] **[translate]**[translate]、  \n- **Google[translate]「[translate]USB[translate]」**[translate]、[translate]。\n\n👉 [translate]（[translate]）[translate]。[translate]**[translate]（CSV[translate]）[translate]**[translate]。\n\n</details>\n\n<br>\n"
      ],
      "metadata": {
        "id": "FxcYarJy6HFN"
      },
      "id": "FxcYarJy6HFN"
    },
    {
      "cell_type": "markdown",
      "source": [
        "---\n---\n# 🌐 [translate]\n---\n\n[translate]、[translate]。[translate]、[translate]。\n\n<br>\n\n**[translate]**\n\n| [translate]                                     | [translate]                                           | [translate] | [translate] | API                                                          | [translate]（TP53[translate]）                                         |\n| -------------------------------------------------- | -------------------------------------------------- | ---- | -------- | ------------------------------------------------------------ | ------------------------------------------------------------ |\n| [NCBI Entrez](https://www.ncbi.nlm.nih.gov/)       | [translate]、mRNA、[translate]、PubMed                       | ✅    | ✅        | ✅（[Entrez E-utilities](https://www.ncbi.nlm.nih.gov/books/NBK25501/)） | [TP53 mRNA](https://www.ncbi.nlm.nih.gov/nuccore/NM_000546)  |\n| [Ensembl](https://www.ensembl.org/)                | [translate]、[translate]、[translate]、[translate]       | ✅    | ✅        | ✅（[REST API](https://rest.ensembl.org/)）                   | [TP53 gene](https://www.ensembl.org/Homo_sapiens/Gene/Summary?g=ENSG00000141510) |\n| [UCSC](https://genome.ucsc.edu/)                   | [translate]・[translate]・[translate]・[translate] | ✅    | ✅        | ✅ ([JSON REST API](https://genome.ucsc.edu/goldenPath/help/api.html)) | [TP53 (hg38)](https://genome.ucsc.edu/cgi-bin/hgTracks?db=hg38&position=TP53) |\n| [UniProt](https://www.uniprot.org/)                | [translate]、[translate]、[translate]                     | ✅    | ✅        | ✅（[REST API](https://www.uniprot.org/help/api_queries)）    | [P04637 (TP53)](https://www.uniprot.org/uniprotkb/P04637/entry) |\n| [InterPro](https://www.ebi.ac.uk/interpro/)        | [translate]・[translate]                       | ✅    | ✅        | ✅（[InterPro API](https://www.ebi.ac.uk/interpro/api/)）     | [P53 domain](https://www.ebi.ac.uk/interpro/entry/InterPro/IPR008967/) |\n| [HGNC](https://www.genenames.org/)                 | [translate]・[translate]・[translate]                     | ✅    | ❌        | ✅（[HGNC API](https://www.genenames.org/help/rest/)）        | [TP53 entry](https://www.genenames.org/data/gene-symbol-report/#!/hgnc_id/HGNC:11998) |\n| [PDBe](https://www.ebi.ac.uk/pdbe/)                | [translate]（PDB）                        | ✅    | ✅        | ✅（[PDBe API](https://www.ebi.ac.uk/pdbe/api/doc/)）         | [PDB structures for TP53 (P04637)](https://www.ebi.ac.uk/pdbe/pdbe-kb/proteins/P04637) |\n| [Expression Atlas](https://www.ebi.ac.uk/gxa/home) | [translate]（RNA-seq）                        | ✅    | ✅        | ✅（[API](https://www.ebi.ac.uk/fg/annotare/api.html) ※[translate]） | [TP53 Expression](https://www.ebi.ac.uk/gxa/genes/ENSG00000141510) |\n| [GTEx Portal](https://gtexportal.org/)             | [translate]（RNA-seq）                            | ✅    | ❌        | ❌（UI[translate]）                                    | [TP53 at GTEx](https://gtexportal.org/home/gene/TP53)        |\n| [OMIM](https://omim.org/)                          | [translate]                           | ✅    | ❌        | ❌（[translate]）                                          | [TP53 OMIM entry](https://www.omim.org/entry/191170)         |\n| [GeneCards](https://www.genecards.org/)            | [translate]（[translate]、[translate]、[translate]）               | ✅    | ❌        | ❌（[translate]）                                      | [TP53 GeneCard](https://www.genecards.org/cgi-bin/carddisp.pl?gene=TP53) |\n| [STRING DB](https://string-db.org/)                | [translate]                               | ✅    | ✅）      | ✅（[API](https://string-db.org/help/api/)）                  | [TP53 interactions](https://string-db.org/network/9606.ENSP00000269305) |\n\n<br>\n\n[translate]、「**[translate]**」[translate]「**[translate]**」[translate]、[translate]2[translate]。\n\n<br>\n\n---\n\n## 🔹 NCBI（National Center for Biotechnology Information）\n\n* [translate]、[translate]。\n* **[translate]**[translate]、RefSeq（[translate]）[translate]PubMed[translate]。\n* Python [translate] `Bio.Entrez` [translate]。\n\n<br>\n\n---\n\n## 🔹 Ensembl（[translate]）\n\n* [translate]**[translate]**[translate]、UTR[translate]CDS[translate]、[translate]。\n* REST API[translate]、[translate]。\n* [translate]（FASTA[translate]）[translate]・[translate]。\n\n<br>\n\n---\n\n## ✳️ NCBI[translate]Ensembl[translate]\n\n| [translate]                 | NCBI                    | Ensembl                     |\n| ------------------- | ----------------------- | --------------------------- |\n| [translate]       | ✅ [translate]       | △ [translate]＋[translate]・[translate]          |\n| [translate]      | ✅ [translate]         | ✅ [translate]ID[translate]            |\n| mRNA・CDS・UTR[translate] | △ RefSeq[translate] | ✅ REST API[translate]   |\n| [translate]      | △ [translate]         | ✅ [translate]             |\n| [translate]     | △ [translate]           | ✅ [translate] |\n| [translate]  | △ [translate]        | ✅ [translate]◎     |\n\n<br>\n"
      ],
      "metadata": {
        "id": "opKiIjQF33sS"
      },
      "id": "opKiIjQF33sS"
    },
    {
      "cell_type": "markdown",
      "source": [
        "---\n---\n# [translate]・[translate]（[translate]）\n---\n\n[translate]、[translate]、[translate]。\n[translate]、[translate]TP53[translate]、[translate]、[translate]「TP53」[translate]、[translate]。\n\n[translate]、[translate]ID[translate]、[translate]。\n\n- [translate]ID[translate]（[translate]：NCBI[translate]Ensembl[translate]UTR[translate]）\n- RefSeq[translate]Ensembl[translate]（[translate]）[translate]\n\n[translate]、Ensembl[translate]、[translate]Ensembl[translate]。\n\n<br>\n\n---\n\n## 🔁 [translate]\n\n### 🧭 [translate]：[translate]Ensembl[translate]\n\n* [https://www.ensembl.org](https://www.ensembl.org) [translate]、\n  [translate]：`TP53` [translate] `TP53 human` [translate]**[translate]＋[translate]**[translate]\n* [translate]、Ensembl ID（[translate]：`ENSG00000141510`）[translate]\n\n<br>\n\n---\n\n## ✅ [translate]1：**Ensembl[translate]**\n\n* [translate]（exon/CDS/UTR）[translate]（genomic/mRNA/CDS）[translate]\n* [translate]・[translate]\n\n<br>\n\n### 🔽 [translate]：\n\n| [translate]                 | [translate]                                | [translate]・[translate]                                                                            |\n| --------------------- | ----------------------------------- | ---------------------------------------------------------------------------------- |\n| [translate]              | Gene Summary[translate]                   | [translate]：[TP53 gene](https://www.ensembl.org/Homo_sapiens/Gene/Summary?g=ENSG00000141510) |\n| [translate]、[translate]       | Gene → Sequence                     | [translate]FASTA[translate]                                                                      |\n| [translate]mRNA・CDS・UTR | Transcript → Sequence               | [translate]＋FASTA[translate]                                                                   |\n| [translate]               | Transcript → Protein                | [translate]・[translate]                                                                       |\n| 🔗 **[translate]** | Gene[translate] “External references” [translate] | NCBI Gene / UniProt / InterPro [translate]                                            |\n\n<br>\n\n### 🧭 [translate]（[translate]）[translate]\n\n1. [Transcript[translate]](https://asia.ensembl.org/Homo_sapiens/Transcript/Summary?db=core;g=ENSG00000141510;r=17:7661779-7687546;t=ENST00000269305) [translate]（[translate]Gene[translate]）\n1. Export Data [translate]「[translate]」[translate]\n1. 「5' Flanking sequence (upstream)」[translate]1000[translate]、[translate]FASTA[translate]\n\n[translate]「3' Flanking sequence (downstream)」[translate]。\n\n<br>\n\n---\n\n## ❌ [translate]2：**Ensembl[translate]**\n\n* [translate]（[translate]、[translate]、[translate]）\n* [translate]（hypothetical gene）\n\n<br>\n\n### 🔽 [translate]：\n\n| [translate]             | [translate]                                                                  | [translate]                                                    |\n| ----------------- | --------------------------------------------------------------------- | ----------------------------------------------------- |\n| 🧬 [translate]          | NCBI Gene[translate]（[translate]：[TP53](https://www.ncbi.nlm.nih.gov/gene/7157)） | [translate]・[translate]。[translate]RefSeq[translate]                 |\n| 🧾 mRNA[translate]（FASTA）  | Gene[translate]「NCBI Reference Sequences」[translate]                        | RefSeq mRNA（[translate]：NM\\_000546.6）[translate]、FASTA[translate]       |\n| 🧩 CDS・UTR[translate] | mRNA[translate]「GenBank[translate]」[translate]*                                      | feature[translate] CDS / 5'UTR / 3'UTR [translate]。 |\n\n<br>\n"
      ],
      "metadata": {
        "id": "yfFFuwN-sEkp"
      },
      "id": "yfFFuwN-sEkp"
    },
    {
      "cell_type": "markdown",
      "source": [
        "---\n---\n# [translate]・[translate]（API[translate]）\n---\n\n[translate]、**[translate]＆[translate]、API[translate]**[translate]。\n\n<br>\n\n---\n\n## 🧠 API[translate]？\n\n**API（Application Programming Interface）**[translate]、「Web[translate]」[translate]。[translate]（Ensembl[translate]NCBI[translate]）[translate]、[translate]**Python[translate]**[translate]API[translate]。\n\n<br>\n\n---\n\n## 📌 [translate]：\n\n[translate]**[translate]（[translate]：TP53）**[translate]**[translate]（[translate]：homo\\_sapiens）**[translate]、[translate]**[translate]**[translate]、[translate]。\n\n<br>\n\n---\n\n### 🔄 [translate]：\n\n1. **Ensembl[translate]、[translate]**\n\n2. [translate]**[translate]**[translate]：\n\n   * mRNA（cDNA）[translate]\n   * 5'UTR、CDS、3'UTR\n   * [translate]（[translate]）\n   * [translate]（[translate]）\n   * [translate]（[translate]）\n\n3. [translate]**[translate]（DataFrame）[translate]**\n\n4. **TSV[translate]、Colab[translate]**\n\n<br>\n\n---\n\n## ✅ [translate]\n\n[translate]、[translate]（1[translate]OK[translate]）。\n\n<br>\n\n🔽🔽🔽 ⬇ **[translate]！** 🔽🔽🔽\n"
      ],
      "metadata": {
        "id": "g1uoQZXAwAIp"
      },
      "id": "g1uoQZXAwAIp"
    },
    {
      "cell_type": "code",
      "source": [
        "import os\n",
        "import requests\n",
        "import pandas as pd\n",
        "from google.colab import files\n",
        "\n",
        "def get_gene_and_transcripts_info(\n",
        "    species: str,\n",
        "    symbol: str,\n",
        "    promoter_len: int = 1000,\n",
        "    terminator_len: int = 500,\n",
        "    max_transcripts: int = 10,\n",
        "    output_dir: str = \"/content\",\n",
        "):\n",
        "    \"\"\"\n",
        "    Get gene and transcript information from Ensembl using REST API.\n",
        "\n",
        "    Parameters:\n",
        "        species (str): Species name used in Ensembl (e.g., \"homo_sapiens\").\n",
        "        symbol (str): Gene symbol (e.g., \"TP53\").\n",
        "        promoter_len (int): Number of bases upstream of transcription start site to include as promoter.\n",
        "        terminator_len (int): Number of bases downstream of transcription end site to include as terminator.\n",
        "        max_transcripts (int): Maximum number of transcripts to retrieve.\n",
        "        output_dir (str): Directory to save output TSV file.\n",
        "\n",
        "    Returns:\n",
        "        tuple: (gene lookup JSON object, output file path)\n",
        "    \"\"\"\n",
        "\n",
        "    headers_json = {\"Content-Type\": \"application/json\"}\n",
        "    headers_fasta = {\"Content-Type\": \"text/x-fasta\"}\n",
        "\n",
        "    # Step 1: Retrieve Ensembl Gene ID\n",
        "    xref_url = f\"https://rest.ensembl.org/xrefs/symbol/{species}/{symbol}?\"\n",
        "    xref_res = requests.get(xref_url, headers=headers_json)\n",
        "    if xref_res.status_code != 200 or not xref_res.json():\n",
        "        print(f\"[translate: string]\")\n",
        "        print(\"[translate: string]\")\n",
        "        print(f\"https://www.ncbi.nlm.nih.gov/gene/?term={symbol}+{species}\")\n",
        "        return None\n",
        "\n",
        "    gene_id = xref_res.json()[0][\"id\"]\n",
        "\n",
        "    # Step 2: Retrieve gene and transcript data\n",
        "    lookup_url = f\"https://rest.ensembl.org/lookup/id/{gene_id}?expand=1\"\n",
        "    lookup = requests.get(lookup_url, headers=headers_json).json()\n",
        "\n",
        "    # Step 3: Format basic gene information\n",
        "    gene_info = {\n",
        "        \"Gene name\": lookup.get(\"display_name\"),\n",
        "        \"Ensembl Gene ID\": gene_id,\n",
        "        \"Chromosome\": lookup.get(\"seq_region_name\"),\n",
        "        \"Start\": lookup.get(\"start\"),\n",
        "        \"End\": lookup.get(\"end\"),\n",
        "        \"Strand\": lookup.get(\"strand\"),\n",
        "        \"Description\": lookup.get(\"description\", \"\").split(\"[\")[0].strip(),\n",
        "        \"Biotype\": lookup.get(\"biotype\"),\n",
        "        \"Transcript count\": len(lookup.get(\"Transcript\", [])),\n",
        "        \"Canonical Transcript\": lookup.get(\"canonical_transcript\")\n",
        "    }\n",
        "\n",
        "    header_lines = [f\"# {k}: {v}\" for k, v in gene_info.items()]\n",
        "    print(f'Gene name       : {gene_info[\"Gene name\"]}')\n",
        "    print(f'Gene ID         : {gene_info[\"Ensembl Gene ID\"]}')\n",
        "    print(f'Transcript count: {gene_info[\"Transcript count\"]}')\n",
        "\n",
        "    # Step 4: Iterate over transcripts and collect information\n",
        "    rows = []\n",
        "    for t in lookup[\"Transcript\"][:max_transcripts]:\n",
        "        tid = t[\"id\"]\n",
        "        print(f'Transcript ID   : {tid}')\n",
        "        tname = t.get(\"display_name\", tid)\n",
        "        is_coding = \"protein_coding\" in t.get(\"biotype\", \"\")\n",
        "\n",
        "        # Fetch sequence by type (cdna, cds, utr, protein)\n",
        "        def fetch_seq(seqtype):\n",
        "            url = f\"https://rest.ensembl.org/sequence/id/{tid}?type={seqtype}\"\n",
        "            res = requests.get(url, headers=headers_fasta)\n",
        "            if res.status_code == 200:\n",
        "                lines = res.text.strip().split(\"\\n\")\n",
        "                return \"\".join(lines[1:])  # Remove FASTA header\n",
        "            return None\n",
        "\n",
        "        # Determine promoter and terminator coordinates based on strand\n",
        "        t_start = t.get(\"start\")\n",
        "        t_end = t.get(\"end\")\n",
        "        chrom = gene_info[\"Chromosome\"]\n",
        "        strand = gene_info[\"Strand\"]\n",
        "\n",
        "        if strand == 1:\n",
        "            promoter_start = max(1, t_start - promoter_len)\n",
        "            promoter_end = t_start - 1\n",
        "            terminator_start = t_end + 1\n",
        "            terminator_end = t_end + terminator_len\n",
        "        else:\n",
        "            promoter_start = t_end + 1\n",
        "            promoter_end = t_end + promoter_len\n",
        "            terminator_start = max(1, t_start - terminator_len)\n",
        "            terminator_end = t_start - 1\n",
        "\n",
        "        # Fetch sequence for promoter/terminator regions\n",
        "        def fetch_region(start, end):\n",
        "            region_url = f\"https://rest.ensembl.org/sequence/region/{species}/{chrom}:{start}..{end}:{strand}\"\n",
        "            r = requests.get(region_url, headers=headers_fasta)\n",
        "            if r.status_code == 200:\n",
        "                return \"\".join(r.text.strip().split(\"\\n\")[1:])\n",
        "            return None\n",
        "\n",
        "        # Fetch mRNA and extract UTR/CDS if coding\n",
        "        cdna = fetch_seq(\"cdna\")\n",
        "        if is_coding:\n",
        "            cds = fetch_seq(\"cds\")\n",
        "            utr_list = cdna.split(cds)\n",
        "            if len(utr_list) == 2:\n",
        "                utr_5 = utr_list[0]\n",
        "                utr_3 = utr_list[1]\n",
        "            else:\n",
        "                utr_5 = None\n",
        "                utr_3 = None\n",
        "        else:\n",
        "            utr_5, cds, utr_3 = None, None, None\n",
        "\n",
        "        # Assemble row for each transcript\n",
        "        row = {\n",
        "            \"Gene\": gene_info[\"Gene name\"],\n",
        "            \"Transcript ID\": tid,\n",
        "            \"Transcript name\": tname,\n",
        "            \"Coding\": is_coding,\n",
        "            \"mRNA (cDNA)\": cdna,\n",
        "            \"5'UTR\": utr_5,\n",
        "            \"CDS\": cds,\n",
        "            \"3'UTR\": utr_3,\n",
        "            \"Protein (aa)\": fetch_seq(\"protein\") if is_coding else None,\n",
        "            f\"Promoter ({promoter_len}bp)\": fetch_region(promoter_start, promoter_end),\n",
        "            f\"Terminator ({terminator_len}bp)\": fetch_region(terminator_start, terminator_end),\n",
        "        }\n",
        "        rows.append(row)\n",
        "\n",
        "    # Step 5: Create DataFrame and save to TSV\n",
        "    df = pd.DataFrame(rows)\n",
        "    display(df)\n",
        "\n",
        "    if output_dir != \"\":\n",
        "        os.makedirs(output_dir, exist_ok=True)\n",
        "    path = os.path.join(output_dir, f\"{species}.{symbol}.tsv\")\n",
        "    with open(path, \"w\") as f:\n",
        "        f.write(\"\\n\".join(header_lines) + \"\\n\")\n",
        "        df.to_csv(f, sep=\"\\t\", index=False)\n",
        "\n",
        "    print(\"[translate: string]\", path)\n",
        "    return lookup, path\n",
        "\n",
        "\n",
        "print(\"[translate: string]\")"
      ],
      "metadata": {
        "id": "aeyCM6OQ-qs6"
      },
      "id": "aeyCM6OQ-qs6",
      "execution_count": null,
      "outputs": []
    },
    {
      "cell_type": "markdown",
      "source": [
        "---\n\n## ✅ `get_gene_and_transcripts_info` [translate]\n\n[translate]、[translate] **TP53** [translate]。\n\n[translate] **[translate]**[translate]、`symbol` [translate]、**[translate]**[translate]。\n\n[translate]、`files.download(path)` [translate]、**[translate]**[translate]。\n\n<br>\n\n---\n\n### 🔁 [translate]：\n\n```python\ngene_list = [\"TP53\", \"BRCA1\", \"EGFR\"]\n\nfor symbol in gene_list:\n    print(f\"🔽 Processing {symbol}...\")\n    _, path = get_gene_and_transcripts_info(\n        species=\"homo_sapiens\",\n        symbol=symbol,\n        promoter_len=1000,\n        terminator_len=500,\n        max_transcripts=5,\n        output_dir=\"/content\"\n    )\n    # [translate]OFF[translate]（[translate]）\n    # files.download(path)  # ← [translate]\n```\n\n\n[translate]、[translate] **TSV[translate]**[translate]。[translate] `species.symbol.tsv` [translate]、[translate]。\n\n<br>\n\n🔽🔽🔽 ⬇ **[translate]！** 🔽🔽🔽"
      ],
      "metadata": {
        "id": "y74IQpuTBdOY"
      },
      "id": "y74IQpuTBdOY"
    },
    {
      "cell_type": "code",
      "source": [
        "# Google Drive[translate: comment]\n",
        "# [translate: comment]Colab[translate: comment]Google Drive[translate: comment]USB[translate: comment]\n",
        "# from google.colab import drive\n",
        "# drive.mount('/content/drive')"
      ],
      "metadata": {
        "id": "9j4bvCG59QZD"
      },
      "id": "9j4bvCG59QZD",
      "execution_count": null,
      "outputs": []
    },
    {
      "cell_type": "code",
      "source": [
        "# [translate: comment]\n",
        "lookup, path = get_gene_and_transcripts_info(\n",
        "    species=\"homo_sapiens\",\n",
        "    symbol=\"TP53\",\n",
        "    promoter_len=100,\n",
        "    terminator_len=100,\n",
        "    max_transcripts=3,\n",
        "    # output_dir=\"/content/drive/MyDrive/data\"\n",
        "    output_dir=\"/content\"\n",
        ")\n",
        "# [translate: comment]\n",
        "files.download(path)\n"
      ],
      "metadata": {
        "id": "YzhUTNzH2pp0"
      },
      "id": "YzhUTNzH2pp0",
      "execution_count": null,
      "outputs": []
    },
    {
      "cell_type": "markdown",
      "source": [
        "---\n---\n# [translate]\n---\n\n[translate]、API[translate]1[translate]・[translate]。[translate]、**[translate]〜[translate]、[translate]API[translate]**。\n\n[translate]：\n\n* 🔄 **[translate]、[translate]**\n* 🚫 **API[translate]（[translate]）[translate]、[translate]**\n* 🌐 **[translate]**\n* 🔁 **[translate]**\n\n\n[translate]、[translate] **[translate]（FASTA[translate]）** [translate] **[translate]（GFF3[translate]）** [translate]、[translate]。\n\n<br>"
      ],
      "metadata": {
        "id": "F3Gmw0nICWyE"
      },
      "id": "F3Gmw0nICWyE"
    },
    {
      "cell_type": "markdown",
      "source": [
        "---\n\n## 📂 FASTA[translate]？\n\n**FASTA[translate]**[translate]、DNA・RNA・[translate]**[translate]**[translate]。\n\n`.fa`, `.fasta` [translate]。\n\n<br>\n\n### 🔹 [translate]\n\nFASTA[translate]、**1[translate]「[translate]」[translate]「[translate]」[translate]**[translate]。\n\n```\n>sequence_id [translate]\nATGCGTAGCTAGCTAGGCTAG...\n```\n\n* `>`（[translate]）[translate]「[translate]」[translate]。\n* 2[translate]、\\*\\*[translate]（A, T, G, C[translate]）\\*\\*[translate]。\n\n<br>\n\n\n### 🔸 [translate]\n\n* `>`[translate]（[translate]）[translate]「**[translate]ID**」[translate]、[translate]**[translate]**[translate]。\n  [translate]：\n\n  ```\n  >ENST00000456328.2 Transcript of DDX11L1\n  ```\n\n  → ID[translate] `ENST00000456328.2`、[translate] `Transcript of DDX11L1`\n\n* [translate]**[translate]**[translate]（[translate]60〜80[translate]）。\n* [translate]（Google Drive[translate]）。\n* [translate]、[translate]**gzip[translate]（`.gz` [translate]）**[translate]。[translate] `.fa.gz`, `.fasta.gz` [translate]。\n* Windows[translate]・[translate]（[translate]）\n\n  * Windows[translate]、[translate] `CRLF`（[translate] + [translate]）[translate]。\n  * [translate]、Unix[translate]Colab、Linux[translate] `LF`（[translate]）[translate]。[translate]（Web[translate]）[translate]Linux[translate]、**FASTA[translate] `LF` [translate]**[translate]。\n  * [translate]（[translate]：VS Code、Notepad++）[translate]・[translate]。\n"
      ],
      "metadata": {
        "id": "AcNFMGcGG28C"
      },
      "id": "AcNFMGcGG28C"
    },
    {
      "cell_type": "markdown",
      "source": [
        "---\n\n## 📄 GFF3[translate]？\n\n**GFF3（General Feature Format version 3）\\**[translate]、[translate]\\**[translate]（[translate]）[translate]**[translate]。\n\n- `.gff`, `.gff3` [translate]。\n- **9[translate]**[translate]、[translate]。\n- [translate]（[translate]）[translate]。[translate]、[translate]、[translate]。\n- GFF3[translate]、`#` [translate] [translate] [translate]。\n- [translate] [translate]（[translate]）[translate]。\n-  attributes[translate]「URL[translate]（%[translate]）」[translate]。\n- `.gff3.gz` [translate]**gzip[translate]**[translate]、[translate]。\n\n```\nseqid  source  type       start  end    score  strand  phase  attributes\n```\n\n\n```\nchr1   ensembl gene       11869  14409  .      +       .      ID=gene:ENSG00000223972;Name=DDX11L1;biotype=transcribed_unprocessed_pseudogene\nchr1   ensembl transcript 11869  14409  .      +       .      ID=transcript:ENST00000456328;Parent=gene:ENSG00000223972\nchr1   ensembl exon       11869  12227  .      +       .      ID=exon:ENSE00002234944;Parent=transcript:ENST00000456328\n```\n| [translate] | [translate]           | [translate]・[translate]                                                                                                             |\n| --- | ------------ | ------------------------------------------------------------------------------------------------------------------ |\n| 1   | `seqid`      | [translate]（[translate]: `chr1`, `NC_000001.11`）                                                                                 |\n| 2   | `source`     | [translate]（[translate]: `Ensembl`, `RefSeq`）                                                                                 |\n| 3   | `type`       | [translate]（[translate]: `gene`, `mRNA`, `CDS`, `exon`）                                                                        |\n| 4   | `start`      | [translate]（**1-based**、[translate]）                                                                                          |\n| 5   | `end`        | [translate]（**1-based**、[translate]）                                                                                          |\n| 6   | `score`      | [translate]（[translate] `.`。[translate] `.`）                                                                                         |\n| 7   | `strand`     | [translate]：`+` [translate] `-`                                                                                                   |\n| 8   | `phase`      | [translate]（`0`, `1`, `2`）。CDS[translate]`.`                                                                            |\n| 9   | `attributes` | [translate]（`;` [translate] `key=value` [translate]）。[translate]：`ID=transcript:ENST00000335137;Parent=gene:ENSG00000141510;biotype=protein_coding` |\n\n<br>\n\n## 🔸 [translate] `ID` [translate] `Parent` [translate]\n\nGFF3[translate]、**[translate]（[translate]）[translate]**[translate]：\n\n* `ID=` [translate]「[translate]」[translate]、\n* `Parent=` [translate]、[translate]「[translate]」[translate]。\n\n[translate]、**[translate] → [translate] → [translate]/CDS** [translate]。\n\n<br>\n\n## 🔹 [translate] feature（[translate]）[translate]\n\n| type                        | [translate]・[translate]                  |\n| --------------------------- | ---------------------- |\n| `gene`                      | [translate]。[translate]。         |\n| `mRNA`                      | [translate]（[translate] `transcript`） |\n| `exon`                      | [translate]。[translate]。     |\n| `CDS`                       | [translate]（[translate]）      |\n| `five_prime_UTR`            | 5'UTR。[translate]。      |\n| `three_prime_UTR`           | 3'UTR。[translate]。      |\n| `start_codon`, `stop_codon` | [translate]/[translate]。            |\n\n<br>\n\n## 🌲 [translate]\n\n```\ngene\n└── mRNA / transcript\n    ├── exon\n    ├── CDS\n    ├── five_prime_UTR\n    └── three_prime_UTR\n```\n\n[translate]、**[translate]、[translate]。**\n\n<br>\n"
      ],
      "metadata": {
        "id": "Ij9MSMteUg76"
      },
      "id": "Ij9MSMteUg76"
    },
    {
      "cell_type": "markdown",
      "source": [
        "---\n\n## 📝 FASTA[translate]GFF3[translate]\n\n[translate]（FASTA）[translate]（GFF3）[translate]、**[translate]**[translate]。[translate]。\n\n<br>\n\n### ✅ [translate]「[translate]」[translate]\n\nFASTA[translate]GFF3[translate] **[translate]** [translate]。[translate]、[translate]1[translate]：\n\n* `1`\n* `chr1`\n* `Chr1`\n* `chr01`\n\n[translate]、**FASTA[translate]GFF3[translate]**。[translate]FASTA[translate]GFF3[translate]、**[translate]**[translate]。\n\n<br>\n\n### 🔬 [translate]\n\n| [translate]                        | [translate]                                        | [translate]                                             |\n| ----------------------------- | ----------------------------------------- | ----------------------------------------------- |\n| **Ensembl**                   | [translate]。FASTA[translate]GFF3[translate]、[translate]。 | [translate]、[translate]。   |\n| **[translate]DB**（[translate]: FlyBase、TAIR[translate]） | [translate]、[translate]Web[translate]。        | GFF3[translate]、[translate]。[translate]。 |\n\n* Ensembl[translate]、[translate]。\n* [translate]、**Ensembl[translate]FASTA[translate]GFF3[translate]**[translate]。\n\n<br>\n"
      ],
      "metadata": {
        "id": "xvA33EitZDEN"
      },
      "id": "xvA33EitZDEN"
    },
    {
      "cell_type": "markdown",
      "source": [
        "---\n## FASTA[translate]GFF3[translate]\n\n[translate]、[translate] **C. elegans（[translate]）** [translate]：\n\n* ✅ Ensembl[translate]、UTR[translate]\n* ✅ [translate]、Colab[translate]\n* ✅ [translate]\n\n<br>\n\n### 🔽 FASTA[translate]（[translate]）\n\n1. Ensembl Metazoa [translate] *C. elegans* [translate]\n\n   🔗 [https://metazoa.ensembl.org/Caenorhabditis\\_elegans/Info/Index](https://metazoa.ensembl.org/Caenorhabditis_elegans/Info/Index)\n\n2. [translate]「Gene annotation」[translate]「FASTA」[translate]\n\n  （[translate]「Genome assembly and annotation」[translate]「Gene annotation」[translate]。[translate]「FASTA」[translate]、FASTA[translate]。）\n\n   🔗 [https://ftp.ensemblgenomes.ebi.ac.uk/pub/metazoa/release-61/fasta/caenorhabditis_elegans/](https://ftp.ensemblgenomes.ebi.ac.uk/pub/metazoa/release-61/fasta/caenorhabditis_elegans/)\n\n3.  `dna/` [translate]、[translate]\n\n    ```\n    [[translate]].dna.toplevel.fa.gz\n    ```\n\n    - `dna`: [translate]DNA（[translate]）\n    - `dna_rm`: RepeatMasker [translate] **N（[translate]）** [translate]\n    - `dna_sm`: soft-masked [translate]（[translate] **[translate]（a, c, g, t）** [translate]）\n    - `toplevel`: [translate]、[translate]（[translate]）\n    - **[translate]、`dna.toplevel`[translate]**\n\n<font color=\"red\">[translate]「Caenorhabditis_elegans.WBcel235.dna.chromosome.I.fa.gz」[translate]。</font> 🔗 [URL](https://ftp.ensemblgenomes.ebi.ac.uk/pub/metazoa/release-61/fasta/caenorhabditis_elegans/dna/Caenorhabditis_elegans.WBcel235.dna.chromosome.I.fa.gz)\n\n<br>\n\n### 🔽 GFF3[translate]（[translate]）\n\n\n1. [translate]Ensembl Metazoa [translate] *C. elegans* [translate]\n\n   🔗 [https://metazoa.ensembl.org/Caenorhabditis\\_elegans/Info/Index](https://metazoa.ensembl.org/Caenorhabditis_elegans/Info/Index)\n\n2. [translate]「Gene annotation」[translate]「GFF3」[translate]\n\n  （[translate]「Genome assembly and annotation」[translate]「Gene annotation」[translate]。[translate]「GFF3」[translate]、GFF3[translate]。）\n\n   🔗 [https://ftp.ensemblgenomes.ebi.ac.uk/pub/metazoa/release-61/gff3/caenorhabditis_elegans/](https://ftp.ensemblgenomes.ebi.ac.uk/pub/metazoa/release-61/gff3/caenorhabditis_elegans/)\n\n2. [translate]：\n\n   ```\n   [[translate]].gff3.gz\n   ```\n\n<font color=\"red\">[translate]「Caenorhabditis_elegans.WBcel235.61.chromosome.I.gff3.gz」[translate]。</font> 🔗 [URL](https://ftp.ensemblgenomes.ebi.ac.uk/pub/metazoa/release-61/gff3/caenorhabditis_elegans/Caenorhabditis_elegans.WBcel235.61.chromosome.I.gff3.gz)\n\n<br>"
      ],
      "metadata": {
        "id": "j1_G7Vg_apwF"
      },
      "id": "j1_G7Vg_apwF"
    },
    {
      "cell_type": "markdown",
      "source": [
        "---\n## [translate]Colab[translate]\n\n### ✅ 1. `files.upload()` [translate]\n\n| [translate]           | [translate]                                        |\n| ------------ | ----------------------------------------- |\n| **[translate]**       | Colab[translate]、[translate] |\n| **[translate]** | [translate]（`/content/`）                   |\n| **[translate]**      | Python[translate]UI[translate]                    |\n| **[translate]**     | [translate]、[translate]                            |\n| **[translate]**    | [translate]、[translate]（100MB[translate]）   |\n\n<br>\n\n**[translate]：**\n\n```python\nfrom google.colab import files\nuploaded = files.upload()  # [translate] /content [translate]\n```\n\n**[translate]（[translate]）：**\n\n```python\n# [translate] \"example.txt\" [translate]\nwith open(\"/content/example.txt\") as f:\n    content = f.read()\n```\n\n<br>\n\n### ✅ 2. [translate]「[translate]」[translate] →「[translate]」\n\n| [translate]           | [translate]                                            |\n| ------------ | --------------------------------------------- |\n| **[translate]**       | Colab[translate]「[translate]」[translate]＆[translate]「[translate]」[translate] |\n| **[translate]** | `/content/` [translate]                                |\n| **[translate]**      | GUI[translate]。[translate] `/content/[translate]` [translate]         |\n| **[translate]**     | [translate]                           |\n| **[translate]**    | [translate]、[translate]                           |\n\n<br>\n\n**[translate]（[translate]）：**\n\n```python\ndf = pd.read_csv(\"/content/genes.gff3\")\n```\n\n<br>\n\n### ✅ 3. Google Drive [translate]\n\n| [translate]           | [translate]                                       |\n| ------------ | ---------------------------------------- |\n| **[translate]**       | [translate] Google Drive [translate] Colab [translate]    |\n| **[translate]** | [translate]Drive[translate] (`/content/drive/MyDrive/...`) |\n| **[translate]**      | Colab[translate]                           |\n| **[translate]**     | [translate]。[translate]OK                    |\n| **[translate]**    | [translate]1[translate]。[translate]。**Drive[translate]。**                    |\n\n<br>\n\n**[translate]：**\n\n```python\nfrom google.colab import drive\ndrive.mount('/content/drive')\n```\n\n**[translate]（[translate]）：**\n\n```python\n# [translate]Drive[translate] \"data\" [translate]\npath = \"/content/drive/MyDrive/data/example.fa\"\n```\n\n<br>\n\n### ✅ 4. [translate]URL[translate]（`wget`, `curl`）\n\n| [translate]           | [translate]                                     |\n| ------------ | -------------------------------------- |\n| **[translate]**       | [translate]URL[translate]               |\n| **[translate]** | `/content/`（[translate]）                |\n| **[translate]**      | Colab[translate]Linux[translate]（[translate] `!` [translate]） |\n| **[translate]**     | [translate]。[translate]                 |\n| **[translate]**    | [translate]。[translate]（[translate]）    |\n\n<br>\n\n**[translate]：**\n\n```python\n!wget https://ftp.ensembl.org/pub/release-111/fasta/caenorhabditis_elegans/dna/Caenorhabditis_elegans.WBcel235.dna.toplevel.fa.gz\n```\n\n**[translate]（[translate]）：**\n\n```python\nwith open(\"/content/Caenorhabditis_elegans.WBcel235.dna.toplevel.fa.gz\", \"rb\") as f:\n    ...\n```\n\n<br>\n\n### 💡[translate]\n\n| [translate]                 | [translate]            | [translate] | [translate]        | [translate] | [translate]                         |\n| ------------------ | ---------------- | ---- | ----------- | -- | ---------------------------- |\n| `files.upload()`   | [translate] | ❌    | \\~100MB     | [translate] | `/content/`                  |\n| [translate] → [translate]    | [translate]    | ❌    | \\~100MB     | [translate] | `/content/`                  |\n| Google Drive [translate] | [translate]・[translate]     | ✅    | Drive[translate] | [translate]  | `/content/drive/MyDrive/...` |\n| [translate]URL[translate]      | [translate]       | ❌    | \\~100MB, [translate]＆[translate]   | [translate] | `/content/`                  |\n\n<br>\n"
      ],
      "metadata": {
        "id": "TD3_LQ1eelo0"
      },
      "id": "TD3_LQ1eelo0"
    },
    {
      "cell_type": "markdown",
      "source": [
        "---\n## GFF3[translate]\n\n[translate]、**GFF3[translate]、[translate]**[translate]。\n\n* [translate]ID\n* [translate]（start, end）\n* [translate]（[translate]）\n* [translate]\n* [translate]\n* [translate]\n* biotype [translate]（attributes[translate]）\n\n<br>\n\n### [translate]\n\n[translate]、**GFF3[translate] `gffutils` [translate]**[translate]。\ngffutils [translate]、GFF3[translate]（SQLite）[translate]、[translate]。\n\n<br>\n\n### [translate]\n\n1. GFF3[translate]。\n3. `.db` [translate]、[translate]。\n4. [translate] gene [translate]：\n\n   * [translate]・[translate]・[translate]\n   * attributes[translate]（gene\\_name[translate]biotype[translate]）\n   * [translate]（mRNA[translate]ncRNA[translate]）[translate]\n   * [translate] exon [translate]\n5. [translate] pandas [translate] DataFrame [translate]、[translate]。\n6. [translate] TSV[translate]、Colab [translate]。\n\n<br>\n\n🔽🔽🔽 ⬇ **[translate]！** 🔽🔽🔽"
      ],
      "metadata": {
        "id": "tw3o8NYEkzSh"
      },
      "id": "tw3o8NYEkzSh"
    },
    {
      "cell_type": "code",
      "source": [
        "# gffutils [translate: comment]\n",
        "try:\n",
        "    import gffutils\n",
        "except ImportError:\n",
        "    !pip install gffutils\n",
        "    import gffutils\n",
        "\n",
        "import pandas as pd\n",
        "import os\n",
        "\n",
        "# GFF3[translate: comment]（[translate: comment]）\n",
        "gff_file = \"/content/Caenorhabditis_elegans.WBcel235.61.chromosome.I.gff3.gz\"\n",
        "db_fn = gff_file.removesuffix(\".gz\") + \".db\"\n",
        "output_path = gff_file.removesuffix(\".gz\").removesuffix(\".gff3\") + \".gene_info.tsv\"\n",
        "\n",
        "# GFF[translate: comment]\n",
        "if not os.path.exists(db_fn):\n",
        "    print(\"[translate: string]\")\n",
        "    # [translate: comment]keep_order=True, disable_infer_transcripts=False, merge_strategy=\"merge\"\n",
        "    # [translate: comment]keep_order=False, disable_infer_transcripts=True, merge_strategy=\"create_unique\"\n",
        "    db = gffutils.create_db(\n",
        "        gff_file, db_fn, force=True, keep_order=False, disable_infer_transcripts=True,\n",
        "        merge_strategy=\"create_unique\", sort_attribute_values=True\n",
        "    )\n",
        "    # GFF[translate: comment]\n",
        "    files.download(db_fn)\n",
        "else:\n",
        "    db = gffutils.FeatureDB(db_fn)\n",
        "\n",
        "# gene[translate: comment]、attribute[translate: comment]\n",
        "attribute_keys = set()\n",
        "rows = []\n",
        "\n",
        "transcript_types = [\n",
        "    \"transcript\", \"mRNA\", \"ncRNA\", \"lnc_RNA\", \"miRNA\", \"tRNA\",\n",
        "    \"rRNA\", \"snRNA\", \"snoRNA\", \"scRNA\", \"antisense_RNA\",\n",
        "    \"pseudogenic_transcript\", \"processed_transcript\"\n",
        "]\n",
        "\n",
        "for gene in db.features_of_type(\"gene\"):\n",
        "    gene_id = gene.id\n",
        "    chrom = gene.chrom\n",
        "    start = gene.start\n",
        "    end = gene.end\n",
        "    strand = gene.strand\n",
        "    length = end - start + 1\n",
        "\n",
        "    attr_dict = {k: v[0] for k, v in gene.attributes.items()}\n",
        "    attribute_keys.update(attr_dict.keys())\n",
        "\n",
        "    # [translate: comment]exon[translate: comment]\n",
        "    transcript_count = 0\n",
        "    exon_set = set()\n",
        "    for transcript in db.children(gene, featuretype=transcript_types, level=1):\n",
        "        transcript_count += 1\n",
        "        for exon in db.children(transcript, featuretype=\"exon\"):\n",
        "            exon_set.add((exon.start, exon.end))\n",
        "\n",
        "    row = {\n",
        "        \"Name\": None,\n",
        "        \"gene_id\": None,\n",
        "        \"Chromosome\": chrom,\n",
        "        \"Start\": start,\n",
        "        \"End\": end,\n",
        "        \"Strand\": strand,\n",
        "        \"Length\": length,\n",
        "        \"Transcript Count\": transcript_count,\n",
        "        \"Exon Count\": len(exon_set),\n",
        "    }\n",
        "    row.update(attr_dict)\n",
        "    rows.append(row)\n",
        "\n",
        "# [translate: comment]DataFrame[translate: comment]\n",
        "main_cols = [\"Name\", \"gene_id\", \"Chromosome\", \"Start\", \"End\", \"Strand\", \"Length\", \"Transcript Count\", \"Exon Count\"]\n",
        "attribute_keys.remove(\"Name\")\n",
        "attribute_keys.remove(\"gene_id\")\n",
        "attribute_cols = sorted(attribute_keys)\n",
        "gene_df = pd.DataFrame(rows)[main_cols + attribute_cols]\n",
        "\n",
        "# [translate: comment]\n",
        "display(gene_df)\n",
        "\n",
        "# [translate: comment]\n",
        "with open(output_path, \"w\") as f:\n",
        "    gene_df.to_csv(f, sep=\"\\t\", index=False)\n",
        "\n",
        "# [translate: comment]\n",
        "files.download(output_path)\n"
      ],
      "metadata": {
        "id": "FDIpMt67kv-T"
      },
      "id": "FDIpMt67kv-T",
      "execution_count": null,
      "outputs": []
    },
    {
      "cell_type": "markdown",
      "source": [
        "---\n## FASTA[translate]\n\n[translate]、**GFF3[translate]FASTA[translate]、[translate]・[translate]**[translate]。Colab[translate]、**[translate]（[translate]100[translate]）[translate]、mRNA[translate]（UTR、CDS、[translate]、[translate]、[translate]）[translate]**[translate]、[translate]・[translate]。\n\n<br>\n\n### 📦 [translate]\n\n* `.gff3.gz`：[translate]（Ensembl GFF3[translate]）\n* `.fa.gz`：[translate]（gzip[translate]FASTA[translate]）\n\n<br>\n\n### [translate]\n\n1. GFF3[translate]FASTA[translate]。\n\n2. `.db` [translate]（gffutils[translate]）[translate]、[translate]。\n\n3. GFF3[translate]gene[translate]100[translate]（[translate]）。\n\n4. [translate] gene [translate]、[translate]：\n\n   * gene\\_id、gene\\_name、[translate]、[translate]\n   * [translate]（mRNA[translate]ncRNA[translate]）\n   * [translate]、exon[translate]\n   * 5'UTR、CDS、3'UTR [translate]\n   * CDS[translate]（Protein）\n   * [translate] upstream [translate]、[translate] downstream [translate]\n\n5. [translate] `pandas` [translate] DataFrame [translate]、[translate]。\n\n6. [translate] TSV[translate]、Colab[translate]。\n\n<br>\n\n🔽🔽🔽 ⬇ **[translate]！** 🔽🔽🔽"
      ],
      "metadata": {
        "id": "QKE3Li1esQNU"
      },
      "id": "QKE3Li1esQNU"
    },
    {
      "cell_type": "code",
      "source": [
        "# gffutils [translate: comment]\n",
        "try:\n",
        "    import gffutils\n",
        "except ImportError:\n",
        "    !pip install gffutils\n",
        "    import gffutils\n",
        "\n",
        "# biopython [translate: comment]\n",
        "try:\n",
        "    from Bio import SeqIO\n",
        "    from Bio.Seq import Seq\n",
        "except ImportError:\n",
        "    !pip install biopython\n",
        "    from Bio import SeqIO\n",
        "    from Bio.Seq import Seq\n",
        "\n",
        "import pandas as pd\n",
        "import random\n",
        "import gzip\n",
        "import os\n",
        "\n",
        "# ▼ [translate: comment]（[translate: comment]）\n",
        "gff_file = \"/content/Caenorhabditis_elegans.WBcel235.61.chromosome.I.gff3.gz\"\n",
        "fasta_file = \"/content/Caenorhabditis_elegans.WBcel235.dna.chromosome.I.fa.gz\"\n",
        "db_fn = gff_file.removesuffix(\".gz\") + \".db\"\n",
        "output_path = gff_file.removesuffix(\".gz\").removesuffix(\".gff3\") + \".rna_seq.tsv\"\n",
        "\n",
        "# [translate: comment]\n",
        "promoter_len = 100\n",
        "terminator_len = 100\n",
        "\n",
        "# GFF[translate: comment]\n",
        "if not os.path.exists(db_fn):\n",
        "    print(\"[translate: string]\")\n",
        "    # [translate: comment]keep_order=True, disable_infer_transcripts=False, merge_strategy=\"merge\"\n",
        "    # [translate: comment]keep_order=False, disable_infer_transcripts=True, merge_strategy=\"create_unique\"\n",
        "    db = gffutils.create_db(\n",
        "        gff_file, db_fn, force=True, keep_order=False, disable_infer_transcripts=True,\n",
        "        merge_strategy=\"create_unique\", sort_attribute_values=True\n",
        "    )\n",
        "    # GFF[translate: comment]\n",
        "    files.download(db_fn)\n",
        "else:\n",
        "    db = gffutils.FeatureDB(db_fn)\n",
        "\n",
        "# [translate: comment]100[translate: comment]\n",
        "sample_genes = random.sample(list(db.features_of_type(\"gene\")), 100)\n",
        "\n",
        "# [translate: comment]\n",
        "# sample_genes = list(db.features_of_type(\"gene\"))\n",
        "\n",
        "# [translate: comment]（[translate: comment]）\n",
        "with gzip.open(fasta_file, \"rt\") as handle:\n",
        "    genome = {record.id: record.seq for record in SeqIO.parse(handle, \"fasta\")}\n",
        "\n",
        "# [translate: comment]（mRNA[translate: comment]ncRNA[translate: comment]）\n",
        "transcript_types = [\n",
        "    \"transcript\", \"mRNA\", \"ncRNA\", \"lnc_RNA\", \"miRNA\", \"tRNA\",\n",
        "    \"rRNA\", \"snRNA\", \"snoRNA\", \"scRNA\", \"antisense_RNA\",\n",
        "    \"pseudogenic_transcript\", \"processed_transcript\"\n",
        "]\n",
        "\n",
        "# [translate: comment]・[translate: comment]\n",
        "attribute_keys = set()\n",
        "rows = []\n",
        "\n",
        "for gene in sample_genes:\n",
        "    gene_id = gene.attributes.get(\"gene_id\", [\"\"])[0]\n",
        "    gene_name = gene.attributes.get(\"Name\", [\"\"])[0]\n",
        "    chrom = gene.chrom\n",
        "    strand = gene.strand\n",
        "\n",
        "    for tx in db.children(gene, featuretype=transcript_types, level=1):\n",
        "        tx_id = tx.id\n",
        "        transcript_id = tx.attributes.get(\"transcript_id\", [tx_id])[0]\n",
        "        tx_name = tx.attributes.get(\"Name\", [tx_id])[0]\n",
        "        biotype = tx.attributes.get(\"biotype\", [\"\"[translate: string]\"\".join(str(genome[chrom][f.start-1:f.end]) for f in parts))\n",
        "                if strand == \"-\":\n",
        "                    seq = seq.reverse_complement()\n",
        "            else:\n",
        "                seq = None\n",
        "            return seq\n",
        "\n",
        "        utr5 = get_concat_seq(\"five_prime_UTR\")\n",
        "        cds = get_concat_seq(\"CDS\")\n",
        "        utr3 = get_concat_seq(\"three_prime_UTR\")\n",
        "\n",
        "        # [translate: comment]・[translate: comment]（[translate: comment]・[translate: comment]）\n",
        "        if strand == \"+\":\n",
        "            promoter = extract_sequence(tx.start - promoter_len-1, tx.start - 1)\n",
        "            terminator = extract_sequence(tx.end, tx.end + terminator_len)\n",
        "        else:\n",
        "            promoter = extract_sequence(tx.end, tx.end + promoter_len)\n",
        "            terminator = extract_sequence(tx.start - terminator_len-1, tx.start - 1)\n",
        "\n",
        "        # [translate: comment]\n",
        "        row = {\n",
        "            \"gene_id\": gene_id,\n",
        "            \"gene_name\": gene_name,\n",
        "            \"transcript_id\": transcript_id,\n",
        "            # \"trans_name\": tx_name,\n",
        "            # \"biotype\": biotype,\n",
        "            \"Exon Count\": exon_count,\n",
        "            \"5'UTR\": str(utr5) if utr5 else None,\n",
        "            \"CDS\": str(cds) if cds else None,\n",
        "            \"3'UTR\": str(utr3) if utr3 else None,\n",
        "            \"Protein\": str(cds.translate()) if cds else None,\n",
        "            \"Promoter\": str(promoter),\n",
        "            \"Terminator\": str(terminator),\n",
        "        }\n",
        "        # row.update(attr_dict)\n",
        "        rows.append(row)\n",
        "\n",
        "# [translate: comment]DataFrame[translate: comment]\n",
        "main_cols = [\"gene_id\", \"gene_name\", \"trans_id\", \"trans_name\", \"biotype\", \"Exon Count\", \"5'UTR\", \"CDS\", \"3'UTR\", \"Protein\", \"Promoter\", \"Terminator\"]\n",
        "# attribute_cols = sorted(attribute_keys)\n",
        "# rna_seq_df = pd.DataFrame(rows)[main_cols + attribute_cols]\n",
        "rna_seq_df = pd.DataFrame(rows)\n",
        "\n",
        "# [translate: comment]\n",
        "display(rna_seq_df)\n",
        "\n",
        "# [translate: comment]\n",
        "with open(output_path, \"w\") as f:\n",
        "    rna_seq_df.to_csv(f, sep=\"\\t\", index=False)\n",
        "\n",
        "# [translate: comment]\n",
        "files.download(output_path)\n"
      ],
      "metadata": {
        "id": "s2SPhld7vLSE"
      },
      "id": "s2SPhld7vLSE",
      "execution_count": null,
      "outputs": []
    },
    {
      "cell_type": "markdown",
      "source": [
        "---\n---\n# FASTA[translate]\n"
      ],
      "metadata": {
        "id": "oKiuIPX2u0s-"
      },
      "id": "oKiuIPX2u0s-"
    },
    {
      "cell_type": "markdown",
      "source": [
        "---\n## [translate]（DataFrame）[translate]FASTA[translate]・[translate]\n\n<br>\n\n### ✅ [translate]\n\n`rna_seq_df` [translate]、FASTA[translate]（`test_output.fa`）[translate]：\n\n* `transcript_id` [translate] **FASTA[translate]**（`>[translate]`）[translate]。\n* `gene_id` [translate] `gene_name` [translate] **FASTA[translate]**[translate]、[translate]（[translate]：`>transcript_id gene_id gene_name`）。\n* `5'UTR` [translate] **FASTA[translate]**[translate]。\n\n[translate]、**`5'UTR` [translate] `None` [translate]（[translate]0）[translate]**[translate]。\n\n[translate] **60[translate]**[translate]、FASTA[translate]（`SeqIO.write` [translate]）。\n\n<br>\n\n🔽🔽🔽 ⬇ **[translate]！** 🔽🔽🔽"
      ],
      "metadata": {
        "id": "N_oLQxUa7yZ1"
      },
      "id": "N_oLQxUa7yZ1"
    },
    {
      "cell_type": "code",
      "source": [
        "from Bio.Seq import Seq\n",
        "from Bio.SeqRecord import SeqRecord\n",
        "from Bio import SeqIO\n",
        "\n",
        "records = []\n",
        "\n",
        "for _, row in rna_seq_df.iterrows():\n",
        "    seq = row.get(\"5'UTR\", None)\n",
        "    if not seq or len(seq) == 0:\n",
        "        continue\n",
        "\n",
        "    # [translate: comment]\n",
        "    record = SeqRecord(\n",
        "        Seq(seq),\n",
        "        id=row.get(\"transcript_id\", \"\"),\n",
        "        description=f\"{row.get('gene_id', '')} {row.get('gene_name', '')}\"\n",
        "    )\n",
        "    records.append(record)\n",
        "\n",
        "# [translate: comment]\n",
        "output_path = \"test_output.fa\"\n",
        "SeqIO.write(records, output_path, \"fasta\")\n",
        "\n",
        "# [translate: comment]\n",
        "files.download(output_path)"
      ],
      "metadata": {
        "id": "rEe3TpEt8Pql"
      },
      "id": "rEe3TpEt8Pql",
      "execution_count": null,
      "outputs": []
    },
    {
      "cell_type": "markdown",
      "source": [
        "\n---\n\n## FASTA[translate]（DataFrame）[translate]・[translate]\n\n### ✅ [translate]\n\n* `test_output.fa` [translate]、\n\n  * **[translate]（transcript\\_id）**\n  * **[translate]（gene\\_id[translate]gene\\_name）**\n  * **[translate]**\n* [translate]1[translate]、TSV[translate] `test_output.tsv` [translate]。\n\n<br>\n\n🔽🔽🔽 ⬇ **[translate]！** 🔽🔽🔽\n\n"
      ],
      "metadata": {
        "id": "nRWHgu4s7_VU"
      },
      "id": "nRWHgu4s7_VU"
    },
    {
      "cell_type": "code",
      "source": [
        "from Bio import SeqIO\n",
        "import pandas as pd\n",
        "\n",
        "records = list(SeqIO.parse(\"test_output.fa\", \"fasta\"))\n",
        "\n",
        "data = []\n",
        "for r in records:\n",
        "    parts = r.description.split(\" \", 1)\n",
        "    name = parts[0]\n",
        "    desc = parts[1] if len(parts) > 1 else \"\"\n",
        "    data.append({\"Name\": name, \"Description\": desc, \"Sequence\": str(r.seq)})\n",
        "\n",
        "df_fasta = pd.DataFrame(data)\n",
        "display(df_fasta)\n",
        "\n",
        "# [translate: comment]\n",
        "output_path = \"test_output.tsv\"\n",
        "df_fasta.to_csv(output_path, sep=\"\\t\", index=False)\n",
        "\n",
        "# [translate: comment]\n",
        "files.download(output_path)\n"
      ],
      "metadata": {
        "id": "lxZjHIcD8oN-"
      },
      "id": "lxZjHIcD8oN-",
      "execution_count": null,
      "outputs": []
    },
    {
      "cell_type": "markdown",
      "source": [
        "---\n\n## FASTA[translate]10[translate]・[translate]\n\n### ✅ [translate]\n\n* `test_output.fa` [translate]10[translate]、[translate]FASTA[translate] `test_output_2.fa` [translate]。\n\n<br>\n\n🔽🔽🔽 ⬇ **[translate]！** 🔽🔽🔽"
      ],
      "metadata": {
        "id": "RQTEUSMQ8BAU"
      },
      "id": "RQTEUSMQ8BAU"
    },
    {
      "cell_type": "code",
      "source": [
        "from Bio import SeqIO\n",
        "\n",
        "records = list(SeqIO.parse(\"test_output.fa\", \"fasta\"))\n",
        "subset = records[:10]\n",
        "\n",
        "# [translate: comment]\n",
        "output_path = \"test_output_2.fa\"\n",
        "with open(output_path, \"w\") as f:\n",
        "    SeqIO.write(subset, f, \"fasta\")\n",
        "\n",
        "# [translate: comment]\n",
        "files.download(output_path)\n"
      ],
      "metadata": {
        "id": "8nq9sSA98-WW"
      },
      "id": "8nq9sSA98-WW",
      "execution_count": null,
      "outputs": []
    },
    {
      "cell_type": "markdown",
      "source": [
        "---\n\n## [translate]10[translate]\n\n### ✅ [translate]\n\n* `test_output.fa` [translate]、**[translate]10[translate]**[translate]、`test_output_3.fa` [translate]。\n\n<br>\n\n🔽🔽🔽 ⬇ **[translate]！** 🔽🔽🔽"
      ],
      "metadata": {
        "id": "A0qKXK9E8B81"
      },
      "id": "A0qKXK9E8B81"
    },
    {
      "cell_type": "code",
      "source": [
        "from Bio import SeqRecord\n",
        "\n",
        "short_records = []\n",
        "for r in SeqIO.parse(\"test_output.fa\", \"fasta\"):\n",
        "    short_seq = r.seq[:10]\n",
        "    new_record = SeqRecord.SeqRecord(\n",
        "        short_seq, id=r.id, description=r.description\n",
        "    )\n",
        "    short_records.append(new_record)\n",
        "\n",
        "# [translate: comment]\n",
        "output_path = \"test_output_3.fa\"\n",
        "with open(output_path, \"w\") as f:\n",
        "    SeqIO.write(short_records, f, \"fasta\")\n",
        "\n",
        "# [translate: comment]\n",
        "files.download(output_path)\n"
      ],
      "metadata": {
        "id": "ezxpmB6t9PCE"
      },
      "id": "ezxpmB6t9PCE",
      "execution_count": null,
      "outputs": []
    },
    {
      "cell_type": "markdown",
      "source": [
        "---\n---\n# 🎉 [translate]！\n---\n\n<br>\n\n[translate]、[translate]、Web[translate]、[translate]。[translate]、「FASTA[translate]」[translate]。\n[translate]、[translate]。\n"
      ],
      "metadata": {
        "id": "ntB_mKHuWN_z"
      },
      "id": "ntB_mKHuWN_z"
    }
  ],
  "metadata": {
    "hide_input": false,
    "kernelspec": {
      "display_name": "Python 3 (ipykernel)",
      "language": "python",
      "name": "python3"
    },
    "language_info": {
      "codemirror_mode": {
        "name": "ipython",
        "version": 3
      },
      "file_extension": ".py",
      "mimetype": "text/x-python",
      "name": "python",
      "nbconvert_exporter": "python",
      "pygments_lexer": "ipython3",
      "version": "3.11.9"
    },
    "toc": {
      "base_numbering": 1,
      "nav_menu": {},
      "number_sections": true,
      "sideBar": true,
      "skip_h1_title": false,
      "title_cell": "Table of Contents",
      "title_sidebar": "Contents",
      "toc_cell": false,
      "toc_position": {},
      "toc_section_display": true,
      "toc_window_display": false
    },
    "colab": {
      "provenance": []
    }
  },
  "nbformat": 4,
  "nbformat_minor": 5
}