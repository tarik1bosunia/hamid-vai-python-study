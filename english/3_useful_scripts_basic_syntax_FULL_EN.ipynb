{
  "cells": [
    {
      "cell_type": "markdown",
      "source": [
        "<font size=\"+3\"><strong>OUBIC[translate]</strong></font>\n\n<font size=\"+3\"><strong>[translate]1[translate] [[translate]] Colab[translate]＋Python[translate]\n</strong></font>\n\n<font size=\"+3\"><strong>[translate]</strong></font>\n- [translate]: 2025-06-29\n- [translate]: [translate]﨑 [translate]（[translate]・OUBIC・RNA[translate]）\n\n※ [translate]、[translate]・[translate]、[translate] ChatGPT（OpenAI）[translate]。[translate]。\n\n<br>\n\n---\n---\n# [translate]\n\n## ✅ [translate]\n\n1. [translate] **「[translate]」→「[translate]」** [translate]  \n   → [translate]Google[translate]。[translate]「Colab Notebooks」[translate]、[translate]。\n\n2. [translate]。  \n   [translate]。\n\n<br>\n\n## 🗂️ [translate]\n\n[translate]、**[translate]（[translate]）**[translate]。  \n[translate]、**[translate]**。\n\n<br>\n"
      ],
      "metadata": {
        "id": "etjoncTMvz0i"
      },
      "id": "etjoncTMvz0i"
    },
    {
      "cell_type": "markdown",
      "source": [
        "\n---\n## [translate]Colab Notebook[translate]\n\n**[translate]。**\n\n[translate]。\n\n"
      ],
      "metadata": {
        "id": "M8EzQpsTBkDl"
      },
      "id": "M8EzQpsTBkDl"
    },
    {
      "cell_type": "markdown",
      "source": [
        "---\n## [translate]\n\n[translate]、[translate]：\n\n> **Creative Commons Attribution-NonCommercial 4.0 International (CC BY-NC 4.0)**  \n> https://creativecommons.org/licenses/by-nc/4.0/\n\n- [translate]・[translate]、[translate]、[translate]。\n- [translate]（[translate]：[translate]、[translate]）[translate]。\n- [translate]・[translate]、[translate]。\n- [translate]、[translate]。[translate]Python[translate]、[translate]。\n  [translate]、[translate]・[translate]（[translate]）[translate]、[translate]：  \n  - `# Based on code by Shotaro Yamasaki (Osaka University, OUBIC)`\n- [translate]、[translate]・[translate]。\n"
      ],
      "metadata": {
        "id": "8by8u-4QBnE7"
      },
      "id": "8by8u-4QBnE7"
    },
    {
      "cell_type": "markdown",
      "source": [
        "---\n## [translate]\n\n- [translate] Google Colab [translate]、[translate]。\n- [translate]、[translate]。[translate]。\n- [translate]。[translate]・[translate]、[translate]。[translate]、[translate]（[translate]・[translate]）[translate]。\n- [translate]（Colab[translate]）。"
      ],
      "metadata": {
        "id": "f9Q66HU6BoNM"
      },
      "id": "f9Q66HU6BoNM"
    },
    {
      "cell_type": "markdown",
      "source": [
        "---\n---\n# 🔰 Google Colab[translate]（[translate]）\n---\n\n<br>\n\n<details>\n<summary>🔍 [translate]</summary>\n\n[translate]、Python [translate]、Google Colab [translate]。  \n[translate]、[translate]。\n\n<br>\n\n---\n\n## 💡 Google Colab[translate]？\n\nGoogle Colab（[translate]）[translate]、**[translate]Python[translate]**[translate]。  \n[translate]Python[translate]、[translate]。\n\n- Google[translate]「[translate]」[translate]。\n- Google[translate]、[translate]。\n- [translate]、[translate]。\n\n<br>\n\n---\n\n## 🧱 「[translate]」[translate]？\n\nGoogle Colab [translate]、「[translate]」[translate]**[translate]**[translate]。\n\n- 📄 **[translate]**：[translate]（[translate]）\n- 🧮 **[translate]**：Python [translate]（[translate] `print(\"Hello\")` [translate]）\n\n👇 [translate]、**[translate] ▶（[translate]）[translate]**[translate]。\n\n💡 [translate]（[translate]）：\n- **Shift + Enter**：[translate]、[translate]\n- **Ctrl + Enter**（[translate] Mac [translate] Cmd + Enter）：[translate]、[translate]\n\n<br>\n\n---\n\n## 🖥 [translate]？[translate]\n\nGoogle Colab[translate]、[translate]**[translate]（＝[translate]）**[translate]。\n\n### 💻 [translate]（＝[translate]）[translate]\n\n- [translate]、**[translate]「[translate]」**[translate]。\n- [translate]、**[translate]**[translate]。\n- [translate]、[translate]、[translate]、**[translate]**。\n\n### 🧾 [translate]（print[translate]）[translate]\n\n- [translate]、**[translate]「[translate]」[translate]**。\n- [translate]（[translate]）[translate]、**[translate]**。\n\n<br>\n\n---\n\n## 💾 [translate]\n\nColab[translate]、**[translate]**。  \n[translate]、**[translate]**[translate]。\n\n- [translate] **[translate]**[translate]、  \n- **Google[translate]「[translate]USB[translate]」**[translate]、[translate]。\n\n👉 [translate]（[translate]）[translate]。[translate]**[translate]（CSV[translate]）[translate]**[translate]。\n\n</details>\n\n<br>\n"
      ],
      "metadata": {
        "id": "FxcYarJy6HFN"
      },
      "id": "FxcYarJy6HFN"
    },
    {
      "cell_type": "markdown",
      "source": [
        "---\n---\n# [translate]\n---\n\n[translate]、**[translate]**[translate]。\n[translate]、[translate]：\n\n<br>\n\n## 🎯 [translate]\n\n1. **[translate]**[translate]\n\n   → [translate]\n\n2. **[translate]**[translate]\n\n   → 「[translate]」[translate]「[translate]」、「spoiler」[translate]\n\n<br>\n\n## 🔁 [translate]（[translate]）\n\n1. **[translate]**\n\n   → [translate]10[translate]\n\n2. **[translate]**\n   - [translate]（[translate]：\"great\", \"brilliant\" [translate]）\n   - [translate]（[translate]：\"Yasu\", \"spoiler\", \"culprit\"）\n\n3. **[translate]2[translate]**：\n\n    - **① [translate]？**\n        - [translate]？（[translate]：40[translate]）\n        - [translate]？\n\n    → [translate]「[translate]」[translate]\n\n    - **② [translate]？**\n        - [translate]\n        - 2[translate]「[translate]」[translate]\n\n4. **[translate]**\n   　- [translate]\n\n<br>\n\n## 🔬 [translate]\n\n- [translate]\n- [translate]\n- [translate]（1[translate]）\n\n<br>\n\n[translate]ChatGPT[translate]「[translate]」[translate]、[translate]**[translate]。**\n\n[translate]、[translate]、[translate]。[translate]。[translate]「[translate]」、「[translate]」、「[translate]」[translate]2[translate]。\n\n\n<br>\n\n---\n\n🔽🔽🔽 ⬇ **[translate]！** 🔽🔽🔽\n"
      ],
      "metadata": {
        "id": "7sue13YdyqO-"
      },
      "id": "7sue13YdyqO-"
    },
    {
      "cell_type": "code",
      "source": [
        "# [translate: comment]（[translate: comment]）\n",
        "comments = [\n",
        "    \"The plot twist was absolutely brilliant and unexpected!\",\n",
        "    \"I loved the ending, especially how the culprit was finally revealed.\",\n",
        "    \"Yasu is definitely the murderer. Total spoiler!\",\n",
        "    \"This is boring.\",\n",
        "    \"Great suspense and strong characters. Excellent acting too!\",\n",
        "    \"Spoiler alert: Yasu is the culprit. What a twist!\",\n",
        "    \"Nice one.\",\n",
        "    \"The cinematography was stunning. So intense and emotional.\",\n",
        "    \"Honestly, the story was too predictable.\",\n",
        "    \"Can't believe it was Yasu all along! Such a clever reveal. Spoiler for sure.\"\n",
        "]\n",
        "\n",
        "# [translate: comment]\n",
        "positive_keywords = [\"brilliant\", \"great\", \"excellent\", \"intense\", \"emotional\", \"loved\", \"stunning\", \"clever\"]\n",
        "\n",
        "# [translate: comment]（[translate: comment]・[translate: comment]・[translate: comment]）\n",
        "danger_keywords = [\"culprit\", \"Yasu\", \"spoiler\"]\n",
        "\n",
        "# [translate: comment]（[translate: comment]）\n",
        "min_length = 40\n",
        "\n",
        "# [translate: comment]\n",
        "positive_results = []\n",
        "danger_results = []\n",
        "\n",
        "for comment in comments:\n",
        "    # [translate: comment]①：[translate: comment]、[translate: comment]\n",
        "    if len(comment) >= min_length and any(word in comment.lower() for word in positive_keywords):\n",
        "        positive_results.append(comment)\n",
        "\n",
        "    # [translate: comment]②：[translate: comment]2[translate: comment]\n",
        "    count = sum(1 for word in danger_keywords if word.lower() in comment.lower())\n",
        "    if count >= 2:\n",
        "        danger_results.append(comment)\n",
        "\n",
        "# [translate: comment]\n",
        "print(\"[translate: string]\")\n",
        "for c in positive_results:\n",
        "    print(\"-\", c)\n",
        "\n",
        "print(\"[translate: string]\")\n",
        "for c in danger_results:\n",
        "    print(\"-\", c)\n"
      ],
      "metadata": {
        "id": "RJR0Zj54yqXU"
      },
      "id": "RJR0Zj54yqXU",
      "execution_count": null,
      "outputs": []
    },
    {
      "cell_type": "markdown",
      "source": [
        "---\n## [translate]\n\n[translate]、[translate]。[translate]、ChatGPT[translate]、[translate]。\n\n[translate]、[translate]ChatGPT[translate]。\n\n<br>\n\n---\n\n🔽🔽🔽 ⬇ **[translate]「[translate]」[translate]！** 🔽🔽🔽\n"
      ],
      "metadata": {
        "id": "9K3tl96O1cf7"
      },
      "id": "9K3tl96O1cf7"
    },
    {
      "cell_type": "code",
      "source": [
        "# [translate: comment]（[translate: comment]）\n",
        "comments = [\n",
        "    \"The plot twist was absolutely brilliant and unexpected!\",\n",
        "    \"I loved the ending, especially how the culprit was finally revealed.\",\n",
        "    \"Yasu is definitely the murderer. Total spoiler!\",\n",
        "    \"This is boring.\",\n",
        "    \"Great suspense and strong characters. Excellent acting too!\",\n",
        "    \"Spoiler alert: Yasu is the culprit. What a twist!\",\n",
        "    \"Nice one.\",\n",
        "    \"The cinematography was stunning. So intense and emotional.\",\n",
        "    \"Honestly, the story was too predictable.\",\n",
        "    \"Can't believe it was Yasu all along! Such a clever reveal. Spoiler for sure.\"\n",
        "]\n",
        "\n",
        "# [translate: comment]\n",
        "positive_keywords = [\"brilliant\", \"great\", \"excellent\", \"intense\", \"emotional\", \"loved\", \"stunning\", \"clever\"]\n",
        "\n",
        "# [translate: comment]（[translate: comment]・[translate: comment]・[translate: comment]）\n",
        "danger_keywords = [\"culprit\", \"Yasu\", \"spoiler\"]\n",
        "\n",
        "# [translate: comment]（[translate: comment]）\n",
        "min_length = 40\n",
        "\n",
        "# [translate: comment]\n",
        "positive_results = []\n",
        "danger_results = []\n",
        "\n",
        "# [translate: comment]1[translate: comment]\n",
        "for comment in comments:\n",
        "\n",
        "    # ------------------------------\n",
        "    # [translate: comment]①：[translate: comment]、[translate: comment]\n",
        "    # ------------------------------\n",
        "\n",
        "    # [translate: comment]？\n",
        "    if len(comment) >= min_length:\n",
        "        found = False  # [translate: comment]\n",
        "\n",
        "        # [translate: comment]1[translate: comment]\n",
        "        for word in positive_keywords:\n",
        "            # [translate: comment]？\n",
        "            if word in comment.lower():\n",
        "                found = True  # [translate: comment]True[translate: comment]\n",
        "                break         # 1[translate: comment]\n",
        "\n",
        "        # [translate: comment]\n",
        "        if found:\n",
        "            positive_results.append(comment)\n",
        "\n",
        "    # ------------------------------\n",
        "    # [translate: comment]②：[translate: comment]2[translate: comment]\n",
        "    # ------------------------------\n",
        "\n",
        "    # [translate: comment]「[translate: comment]（[translate: comment]）」[translate: comment]0[translate: comment]\n",
        "    count = 0\n",
        "\n",
        "    # danger_keywords [translate: comment]（\"culprit\", \"Yasu\", \"spoiler\"）[translate: comment]1[translate: comment]\n",
        "    for word in danger_keywords:\n",
        "\n",
        "        # [translate: comment]、[translate: comment]\n",
        "        # [translate: comment]: \"spoiler\" in \"spoiler alert: Yasu is the culprit.\" → True\n",
        "        if word.lower() in comment.lower():\n",
        "\n",
        "            # [translate: comment]、[translate: comment]1[translate: comment]\n",
        "            count += 1\n",
        "\n",
        "    # [translate: comment]2[translate: comment]「[translate: comment]」[translate: comment]\n",
        "    if count >= 2:\n",
        "        danger_results.append(comment)\n",
        "\n",
        "\n",
        "# [translate: comment]\n",
        "print(\"[translate: string]\")\n",
        "for c in positive_results:\n",
        "    print(\"-\", c)\n",
        "\n",
        "print(\"[translate: string]\")\n",
        "for c in danger_results:\n",
        "    print(\"-\", c)\n"
      ],
      "metadata": {
        "id": "h73baJCgyiSF"
      },
      "id": "h73baJCgyiSF",
      "execution_count": null,
      "outputs": []
    },
    {
      "cell_type": "markdown",
      "source": [
        "---\n---\n# [translate]（[translate]）\n---\n\n## 🎯 [translate]\n\n[translate]、\n\n- **60[translate]（[translate]）**\n- **60[translate]（[translate]）**\n\n   [translate]。\n\n<br>\n\n[translate]ChatGPT[translate]。[translate]。\n\n<br>\n\n---\n\n🔽🔽🔽 ⬇ **[translate]「[translate]」[translate]！** 🔽🔽🔽\n"
      ],
      "metadata": {
        "id": "q8hLAmZ63iw8"
      },
      "id": "q8hLAmZ63iw8"
    },
    {
      "cell_type": "code",
      "source": [
        "# 🔰 [translate: comment]（matplotlib：[translate: comment]）\n",
        "import matplotlib.pyplot as plt\n",
        "\n",
        "# 🧑‍🎓 [translate: comment]\n",
        "# [translate: comment]1[translate: comment]「[translate: comment]」[translate: comment]\n",
        "scores = [\n",
        "    (\"Alice\", 85),\n",
        "    (\"Bob\", 55),\n",
        "    (\"Charlie\", 78),\n",
        "    (\"David\", 0),\n",
        "    (\"Eva\", 48),\n",
        "    (\"Frank\", 90),\n",
        "    (\"Grace\", 58)\n",
        "]\n",
        "\n",
        "# 📝 [translate: comment]\n",
        "# 🟥 [translate: comment]\n",
        "names = []     # [translate: comment]\n",
        "values = []    # [translate: comment]\n",
        "colors = []    # [translate: comment]（[translate: comment]）\n",
        "\n",
        "# 🔁 [translate: comment]\n",
        "for name, score in scores:\n",
        "    names.append(name)       # [translate: comment]\n",
        "    values.append(score)     # [translate: comment]\n",
        "\n",
        "    # 🎨 [translate: comment]（[translate: comment]）\n",
        "    if score >= 60:\n",
        "        colors.append(\"skyblue\")  # [translate: comment]：[translate: comment]（[translate: comment]）\n",
        "    else:\n",
        "        colors.append(\"salmon\")   # [translate: comment]：[translate: comment]（[translate: comment]）\n",
        "\n",
        "# 📊 [translate: comment]\n",
        "plt.figure(figsize=(10, 5))            # [translate: comment]\n",
        "plt.bar(names, values, color=colors)   # [translate: comment]（[translate: comment]）\n",
        "\n",
        "# 📎 [translate: comment]\n",
        "plt.title(\"Test Scores by Student\")\n",
        "plt.xlabel(\"Student\")\n",
        "plt.ylabel(\"Score\")\n",
        "plt.ylim(0, 100)   # [translate: comment]0〜100[translate: comment]\n",
        "\n",
        "# 💬 [translate: comment]（[translate: comment]）\n",
        "plt.axhline(y=60, color='gray', linestyle='--', label=\"Passing Line\")\n",
        "\n",
        "# 🔎 [translate: comment]（[translate: comment]）\n",
        "plt.legend()\n",
        "\n",
        "# 🎉 [translate: comment]\n",
        "plt.show()\n"
      ],
      "metadata": {
        "id": "Sei968gA4Hve"
      },
      "id": "Sei968gA4Hve",
      "execution_count": null,
      "outputs": []
    },
    {
      "cell_type": "markdown",
      "source": [
        "\n---\n\n## [translate]\n\n[translate]。\n\n🔽🔽🔽 ⬇ **[translate]「[translate]」[translate]！** 🔽🔽🔽\n\n- score[translate]80[translate]。\n- score[translate]0[translate]（[translate]）[translate]。\n- score[translate]（[translate]: 「[translate]」[translate]2[translate]（[translate]1）[translate]）\n\n※ ChatGPT[translate]。\n"
      ],
      "metadata": {
        "id": "3JlC0K-z5js7"
      },
      "id": "3JlC0K-z5js7"
    },
    {
      "cell_type": "code",
      "source": [
        "# 🔰 [translate: comment]（matplotlib：[translate: comment]）\n",
        "import matplotlib.pyplot as plt\n",
        "\n",
        "# 🧑‍🎓 [translate: comment]\n",
        "# [translate: comment]1[translate: comment]「[translate: comment]」[translate: comment]\n",
        "scores = [\n",
        "    (\"Alice\", 85),\n",
        "    (\"Bob\", 55),\n",
        "    (\"Charlie\", 78),\n",
        "    (\"David\", 0),\n",
        "    (\"Eva\", 48),\n",
        "    (\"Frank\", 90),\n",
        "    (\"Grace\", 58)\n",
        "]\n",
        "\n",
        "# 📝 [translate: comment]\n",
        "# 🟥 [translate: comment]\n",
        "names = []     # [translate: comment]\n",
        "values = []    # [translate: comment]\n",
        "colors = []    # [translate: comment]（[translate: comment]）\n",
        "\n",
        "# 🔁 [translate: comment]\n",
        "for name, score in scores:\n",
        "    names.append(name)       # [translate: comment]\n",
        "    values.append(score)     # [translate: comment]\n",
        "\n",
        "    # 🎨 [translate: comment]（[translate: comment]）\n",
        "    if score >= 60:\n",
        "        colors.append(\"skyblue\")  # [translate: comment]：[translate: comment]（[translate: comment]）\n",
        "    else:\n",
        "        colors.append(\"salmon\")   # [translate: comment]：[translate: comment]（[translate: comment]）\n",
        "\n",
        "# 📊 [translate: comment]\n",
        "plt.figure(figsize=(10, 5))            # [translate: comment]\n",
        "plt.bar(names, values, color=colors)   # [translate: comment]（[translate: comment]）\n",
        "\n",
        "# 📎 [translate: comment]\n",
        "plt.title(\"Test Scores by Student\")\n",
        "plt.xlabel(\"Student\")\n",
        "plt.ylabel(\"Score\")\n",
        "plt.ylim(0, 100)   # [translate: comment]0〜100[translate: comment]\n",
        "\n",
        "# 💬 [translate: comment]（[translate: comment]）\n",
        "plt.axhline(y=60, color='gray', linestyle='--', label=\"Passing Line\")\n",
        "\n",
        "# 🔎 [translate: comment]（[translate: comment]）\n",
        "plt.legend()\n",
        "\n",
        "# 🎉 [translate: comment]\n",
        "plt.show()\n"
      ],
      "metadata": {
        "id": "gsIBYsan5o6E"
      },
      "id": "gsIBYsan5o6E",
      "execution_count": null,
      "outputs": []
    }
  ],
  "metadata": {
    "hide_input": false,
    "kernelspec": {
      "display_name": "Python 3 (ipykernel)",
      "language": "python",
      "name": "python3"
    },
    "language_info": {
      "codemirror_mode": {
        "name": "ipython",
        "version": 3
      },
      "file_extension": ".py",
      "mimetype": "text/x-python",
      "name": "python",
      "nbconvert_exporter": "python",
      "pygments_lexer": "ipython3",
      "version": "3.11.9"
    },
    "toc": {
      "base_numbering": 1,
      "nav_menu": {},
      "number_sections": true,
      "sideBar": true,
      "skip_h1_title": false,
      "title_cell": "Table of Contents",
      "title_sidebar": "Contents",
      "toc_cell": false,
      "toc_position": {},
      "toc_section_display": true,
      "toc_window_display": false
    },
    "colab": {
      "provenance": [],
      "toc_visible": true
    }
  },
  "nbformat": 4,
  "nbformat_minor": 5
}