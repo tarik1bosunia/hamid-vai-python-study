{
  "cells": [
    {
      "cell_type": "markdown",
      "source": [
        "<font size=\"+3\"><strong>OUBIC[translate]</strong></font>\n\n<font size=\"+3\"><strong>[translate]1[translate] 【[translate]】[translate]\n</strong></font>\n\n<font size=\"+3\"><strong>[translate]</strong></font>\n- [translate]: 2025-06-29\n- [translate]: [translate]﨑 [translate]（[translate]・OUBIC・RNA[translate]）\n\n※ [translate]、[translate]・[translate]、[translate] ChatGPT（OpenAI）[translate]。[translate]。\n\n<br>\n\n---\n---\n# [translate]\n\n## ✅ [translate]\n\n1. [translate] **「[translate]」→「[translate]」** [translate]  \n   → [translate]Google[translate]。[translate]「Colab Notebooks」[translate]、[translate]。\n\n2. [translate]。  \n   [translate]。\n\n<br>\n\n## 🗂️ [translate]\n\n[translate]、**[translate]（[translate]）**[translate]。  \n[translate]、**[translate]**。\n\n<br>\n"
      ],
      "metadata": {
        "id": "etjoncTMvz0i"
      },
      "id": "etjoncTMvz0i"
    },
    {
      "cell_type": "markdown",
      "source": [
        "\n---\n## [translate]Colab Notebook[translate]\n\n[translate]。\n\n[translate]、[translate]。[translate]Colab[translate]、Web[translate]。\n\n[translate]、[translate]、[translate]「[translate]」[translate]「[translate]」[translate]。\n\n<br>\n\n### ✅ [translate]「[translate]」[translate]「[translate]」【[translate]！】\n\n- [translate]「**[translate]**」[translate]。[translate]、[translate]。\n- [translate]。\n- [translate]、**[translate]・[translate]**[translate]。\n\n<br>\n"
      ],
      "metadata": {
        "id": "M8EzQpsTBkDl"
      },
      "id": "M8EzQpsTBkDl"
    },
    {
      "cell_type": "markdown",
      "source": [
        "---\n## [translate]\n\n\n### 🔹 **Python[translate]**\n\nPython[translate]、DNA[translate]RNA、[translate]、[translate]。\n\n| [translate]                       | [translate]                                                   |\n| -------------------------- | ------------------------------------------------------ |\n| [translate]（[translate]） | [translate]                                 |\n| [translate]・[translate]     | [translate]                             |\n| [translate]・[translate]       | `.translate()`, `.count()` [translate]            |\n| for [translate]、if [translate]（[translate]）  | [translate]、[translate] |\n\n<br>\n\n### 🔹 **[translate]**\n\n| [translate]                       | [translate]                                                  |\n| -------------------------- | ----------------------------------------------------- |\n| DNA・RNA・[translate] | `transcribe()`, `translate()` [translate]            |\n| [translate]・[translate]     | `.complement()` [translate] `.reverse_complement()` [translate] |\n| [translate]         | [translate]（`translate()`）[translate]     |\n\n<br>\n"
      ],
      "metadata": {
        "id": "_FWV8_0D2CF6"
      },
      "id": "_FWV8_0D2CF6"
    },
    {
      "cell_type": "markdown",
      "source": [
        "---\n## [translate]\n\n[translate]、[translate]：\n\n> **Creative Commons Attribution-NonCommercial 4.0 International (CC BY-NC 4.0)**  \n> https://creativecommons.org/licenses/by-nc/4.0/\n\n- [translate]・[translate]、[translate]、[translate]。\n- [translate]（[translate]：[translate]、[translate]）[translate]。\n- [translate]・[translate]、[translate]。\n- [translate]、[translate]。[translate]Python[translate]、[translate]。\n  [translate]、[translate]・[translate]（[translate]）[translate]、[translate]：  \n  - `# Based on code by Shotaro Yamasaki (Osaka University, OUBIC)`\n- [translate]、[translate]・[translate]。\n"
      ],
      "metadata": {
        "id": "8by8u-4QBnE7"
      },
      "id": "8by8u-4QBnE7"
    },
    {
      "cell_type": "markdown",
      "source": [
        "---\n## [translate]\n\n- [translate] Google Colab [translate]、[translate]。\n- [translate]、[translate]。[translate]。\n- [translate]。[translate]・[translate]、[translate]。[translate]、[translate]（[translate]・[translate]）[translate]。\n- [translate]（Colab[translate]）。"
      ],
      "metadata": {
        "id": "f9Q66HU6BoNM"
      },
      "id": "f9Q66HU6BoNM"
    },
    {
      "cell_type": "markdown",
      "source": [
        "---\n---\n# 🔰 Google Colab[translate]（[translate]）\n---\n\n<br>\n\n<details>\n<summary>🔍 [translate]</summary>\n\n[translate]、Python [translate]、Google Colab [translate]。  \n[translate]、[translate]。\n\n<br>\n\n---\n\n## 💡 Google Colab[translate]？\n\nGoogle Colab（[translate]）[translate]、**[translate]Python[translate]**[translate]。  \n[translate]Python[translate]、[translate]。\n\n- Google[translate]「[translate]」[translate]。\n- Google[translate]、[translate]。\n- [translate]、[translate]。\n\n<br>\n\n---\n\n## 🧱 「[translate]」[translate]？\n\nGoogle Colab [translate]、「[translate]」[translate]**[translate]**[translate]。\n\n- 📄 **[translate]**：[translate]（[translate]）\n- 🧮 **[translate]**：Python [translate]（[translate] `print(\"Hello\")` [translate]）\n\n👇 [translate]、**[translate] ▶（[translate]）[translate]**[translate]。\n\n💡 [translate]（[translate]）：\n- **Shift + Enter**：[translate]、[translate]\n- **Ctrl + Enter**（[translate] Mac [translate] Cmd + Enter）：[translate]、[translate]\n\n<br>\n\n---\n\n## 🖥 [translate]？[translate]\n\nGoogle Colab[translate]、[translate]**[translate]（＝[translate]）**[translate]。\n\n### 💻 [translate]（＝[translate]）[translate]\n\n- [translate]、**[translate]「[translate]」**[translate]。\n- [translate]、**[translate]**[translate]。\n- [translate]、[translate]、[translate]、**[translate]**。\n\n### 🧾 [translate]（print[translate]）[translate]\n\n- [translate]、**[translate]「[translate]」[translate]**。\n- [translate]（[translate]）[translate]、**[translate]**。\n\n<br>\n\n---\n\n## 💾 [translate]\n\nColab[translate]、**[translate]**。  \n[translate]、**[translate]**[translate]。\n\n- [translate] **[translate]**[translate]、  \n- **Google[translate]「[translate]USB[translate]」**[translate]、[translate]。\n\n👉 [translate]（[translate]）[translate]。[translate]**[translate]（CSV[translate]）[translate]**[translate]。\n\n</details>\n\n<br>\n"
      ],
      "metadata": {
        "id": "FxcYarJy6HFN"
      },
      "id": "FxcYarJy6HFN"
    },
    {
      "cell_type": "markdown",
      "source": [
        "---\n---\n# [translate]：[translate]\n---\n\n[translate]、[translate]（A）、[translate]（T）、[translate]（G）、[translate]（C）[translate]。[translate]、[translate]「[translate]（string）」[translate]。\n\nBiopython[translate]、[translate]Seq[translate]。[translate]、[translate]、Seq[translate]。\n\n<br>\n"
      ],
      "metadata": {
        "id": "opKiIjQF33sS"
      },
      "id": "opKiIjQF33sS"
    },
    {
      "cell_type": "markdown",
      "source": [
        "---\n\n## [translate]？\n\n[translate]「[translate]（string）」[translate]、[translate]。Python[translate]、[translate]、[translate]、[translate]。\n\n[translate]、**[translate] `\" \"` [translate] `' '` [translate]**。[translate]、[translate]。\n\n[translate]、[translate] **1[translate]（[translate]）[translate]**[translate]、[translate]1[translate]、[translate]。\n\n<br>\n\n🔽🔽🔽 ⬇ **[translate]！** 🔽🔽🔽"
      ],
      "metadata": {
        "id": "e9fAgHMy43-r"
      },
      "id": "e9fAgHMy43-r"
    },
    {
      "cell_type": "code",
      "source": [
        "# [translate: comment]、[translate: comment]\n",
        "seq1 = \"ATGC\"\n",
        "seq2 = 'GATTACA'\n",
        "\n",
        "# [translate: comment]\n",
        "print(seq1)\n",
        "print(seq2)\n",
        "\n",
        "# 【[translate: comment]】[translate: comment]\n",
        "number = 123\n",
        "str_number = str(number)\n",
        "print(\"[translate: string]\", number + number)\n",
        "print(\"[translate: string]\", str_number + str_number)\n"
      ],
      "metadata": {
        "id": "vhx_DLSE5DoZ"
      },
      "id": "vhx_DLSE5DoZ",
      "execution_count": null,
      "outputs": []
    },
    {
      "cell_type": "markdown",
      "source": [
        "---\n\n## [translate]\n\n[translate]、**[translate]「[translate]（[translate]）」[translate]**。Python[translate]、[translate]。\n\n[translate] **0[translate]** [translate]。[translate]、`\"ATGC\"` [translate]、[translate]：\n\n```\n A  T  G  C\n[0][1][2][3]\n```\n\n[translate]、[translate]。[translate]、-1 [translate]：\n\n```\n A  T  G  C\n[-4][-3][-2][-1]\n```\n\n<br>\n\n🔽🔽🔽 ⬇ **[translate]！** 🔽🔽🔽\n"
      ],
      "metadata": {
        "id": "QSU45L3b5wA7"
      },
      "id": "QSU45L3b5wA7"
    },
    {
      "cell_type": "code",
      "source": [
        "seq = \"ATGC\"\n",
        "\n",
        "# 0[translate: comment]（[translate: comment]）[translate: comment]\n",
        "print(\"[translate: string]\", seq[0])\n",
        "\n",
        "# 2[translate: comment]（3[translate: comment]）[translate: comment]\n",
        "print(\"[translate: string]\", seq[2])\n",
        "\n",
        "# [translate: comment]\n",
        "print(\"[translate: string]\", seq[-1])"
      ],
      "metadata": {
        "id": "GcT__chR5wMa"
      },
      "id": "GcT__chR5wMa",
      "execution_count": null,
      "outputs": []
    },
    {
      "cell_type": "code",
      "source": [
        "# [translate: comment]\n",
        "print(seq[4])"
      ],
      "metadata": {
        "id": "vXKHlv8T57-y"
      },
      "id": "vXKHlv8T57-y",
      "execution_count": null,
      "outputs": []
    },
    {
      "cell_type": "code",
      "source": [
        "# [translate: comment]\n",
        "print(seq[-5])"
      ],
      "metadata": {
        "id": "nsX6ABXO58Ch"
      },
      "id": "nsX6ABXO58Ch",
      "execution_count": null,
      "outputs": []
    },
    {
      "cell_type": "markdown",
      "source": [
        "---\n\n## [translate]\n\n[translate]、**[translate]（slice）** [translate]。[translate]、**[translate]「[translate] `:`」[translate]**[translate]。\n\n```python\n[translate][[translate]:[translate]]\n```\n\n[translate]、**「[translate]」[translate]、「[translate]」[translate]**[translate]。\n\n※ [translate]、[translate]、「[translate]+1」[translate]。\n\n<br>\n\n[translate] `\"ATGCTA\"` [translate] `0:3` [translate] `\"ATG\"` [translate]：\n\n```\n A  T  G  C  T  A\n[0][1][2][3][4][5]\n ↑        ↑\n[translate]     [translate]（[translate]）\n```\n\n<br>\n\n### [translate]「[translate]+1」[translate]\n\n<br>\n\n<details>\n<summary>🔍 [translate]</summary>\n\n<br>\n\n#### 「[translate]**[translate]**」[translate]（Python[translate]）\n\n[translate]、0[translate]3[translate]（`\"012\"`）[translate]、[translate] `0`、[translate] `3` [translate]、\n\n```python\nstart = 0\nlength = 3\nend = start + length\ntext[start:end]  # → \"012\"\n```\n\n[translate]、\\*\\*「end = start + length」\\*\\*[translate]、**[translate]**[translate]。\n\n[translate] 1 [translate] 0 [translate]：\n\n```python\ntext = \"0123456789\"\n\nprint(text[0:3])  # \"012\"\nprint(text[0:1])  # \"0\"\nprint(text[0:0])  # \"\"（[translate]）\n```\n\n<br>\n\n#### 「[translate]**[translate]**」[translate]？\n\n[translate] `end` [translate]「**[translate]**」[translate]：\n\n* `\"012\"` [translate] `start = 0`、`end = 2`（0[translate]〜2[translate]）\n* `end = start + length - 1` [translate]\n\n[translate]、**length = 0 [translate] `end = -1`** [translate]、\n\n```python\ntext[0:-1]\n```\n\n[translate]：\n\n* Python[translate] `\"[:-1]\"` [translate]「[translate]1[translate]」[translate]\n* **「0[translate]」[translate]、「[translate]1[translate]」[translate]**\n\n<br>\n\n#### 💡 [translate]\n\nPython[translate]「[translate]、[translate]」[translate]、start + length [translate]、0[translate]。\n\n</details>\n\n<br>\n\n🔽🔽🔽 ⬇ **[translate]！** 🔽🔽🔽\n"
      ],
      "metadata": {
        "id": "b5Fnvacs6Nr9"
      },
      "id": "b5Fnvacs6Nr9"
    },
    {
      "cell_type": "code",
      "source": [
        "seq = \"ATGCTA\"\n",
        "\n",
        "# [translate: comment]3[translate: comment]（0[translate: comment]2[translate: comment]）\n",
        "print(\"[translate: string]\", seq[0:3])\n",
        "\n",
        "# 2[translate: comment]\n",
        "print(\"[translate: string]\", seq[2:])\n",
        "\n",
        "# [translate: comment]4[translate: comment]（4[translate: comment]）\n",
        "print(\"[translate: string]\", seq[:4])\n",
        "\n",
        "# [translate: comment]（[translate: comment]）\n",
        "print(\"[translate: string]\", seq[:])"
      ],
      "metadata": {
        "id": "H081Pp1V6oYI"
      },
      "id": "H081Pp1V6oYI",
      "execution_count": null,
      "outputs": []
    },
    {
      "cell_type": "code",
      "source": [
        "text = \"0123456789\"\n",
        "\n",
        "print(\"[translate: string]\")\n",
        "print(f\"text[0:2] = {text[0:2]}\")\n",
        "print(f\"text[2:4] = {text[2:4]}\")\n",
        "print(f\"text[0:4] = {text[0:4]}\")\n",
        "print(f\"text[:4] = {text[:4]}\")\n",
        "print(f\"text[8:10] = {text[8:10]}\")\n",
        "print(f\"text[8:] = {text[8:]}\")"
      ],
      "metadata": {
        "id": "zKY6qCIC_7EC"
      },
      "id": "zKY6qCIC_7EC",
      "execution_count": null,
      "outputs": []
    },
    {
      "cell_type": "code",
      "source": [
        "print(\"[translate: string]\")\n",
        "print(f\"text[-4:-2] = {text[-4:-2]}\")\n",
        "print(f\"text[:-2] = {text[:-2]}\")\n",
        "print(f\"text[-4:] = {text[-4:]}\")"
      ],
      "metadata": {
        "id": "UX9ruETtAAep"
      },
      "id": "UX9ruETtAAep",
      "execution_count": null,
      "outputs": []
    },
    {
      "cell_type": "code",
      "source": [
        "print(\"[translate: string]\")\n",
        "print(f\"text[2:-2] = {text[2:-2]}\")\n",
        "print(f\"text[-8:8] = {text[-8:8]}\")"
      ],
      "metadata": {
        "id": "vMlL1JyLAD0h"
      },
      "id": "vMlL1JyLAD0h",
      "execution_count": null,
      "outputs": []
    },
    {
      "cell_type": "code",
      "source": [
        "print(\"[translate: string]\")\n",
        "print(f\"text[2:2] = {text[2:2]}\")\n",
        "print(f\"text[2:999] = {text[2:999]}\")\n",
        "print(f\"text[99:999] = {text[99:999]}\")\n",
        "print(f\"text[-2:-2] = {text[-2:-2]}\")\n",
        "print(f\"text[-999:-2] = {text[-999:-2]}\")\n",
        "print(f\"text[-999:-99] = {text[-999:-99]}\")"
      ],
      "metadata": {
        "id": "2Guc_5X0AIWa"
      },
      "id": "2Guc_5X0AIWa",
      "execution_count": null,
      "outputs": []
    },
    {
      "cell_type": "code",
      "source": [
        "print(\"[translate: string]\")\n",
        "# index[translate: comment]、index[translate: comment]0[translate: comment]。\n",
        "# [translate: comment]、index[translate: comment]0、[translate: comment]、[translate: comment]（[translate: comment]）[translate: comment]。\n",
        "# [translate: comment]、[translate: comment]、text[-4:-0][translate: comment]6789[translate: comment]。\n",
        "print(f\"text[-4:-3] = {text[-4:-3]}\")\n",
        "print(f\"text[-4:-2] = {text[-4:-2]}\")\n",
        "print(f\"text[-4:-1] = {text[-4:-1]}\")\n",
        "print(f\"text[-4:-0] = {text[-4:-0]}\")  # == text[-4:0] → [translate: comment]\n",
        "print(f\"text[-4:] = {text[-4:]}\")  # if end == 0:[translate: comment]"
      ],
      "metadata": {
        "id": "6Alj_K6AAO-h"
      },
      "id": "6Alj_K6AAO-h",
      "execution_count": null,
      "outputs": []
    },
    {
      "cell_type": "code",
      "source": [
        "print(\"[translate: string]\")\n",
        "print(f\"text[2:3] = {text[2:3]}\")\n",
        "print(f\"text[2] = {text[2]}\")\n",
        "\n",
        "# [translate: comment]''（[translate: comment]）[translate: comment]。\n",
        "print(f\"text[99:100] = {text[99:100]}\")\n",
        "# index[translate: comment]IndexError[translate: comment]。\n",
        "print(f\"text[99] = {text[99]}\")"
      ],
      "metadata": {
        "id": "avlPrGSjAi-J"
      },
      "id": "avlPrGSjAi-J",
      "execution_count": null,
      "outputs": []
    },
    {
      "cell_type": "markdown",
      "source": [
        "---\n\n## [translate]（in, find, index, rfind, rindex、re）\n\nPython [translate]、[translate]。[translate]、**[translate]**[translate]**[translate]（[translate]）**[translate]。\n\n<br>\n\n### 🔹 [translate]\n\n| [translate]          | [translate]                                          |\n| ----------- | ------------------------------------------- |\n| `in`        | [translate]（[translate] `True` [translate] `False`） |\n| `.find()`   | [translate]（[translate]）[translate]。[translate] `-1`          |\n| `.index()`  | `.find()` [translate]、[translate] **[translate]**          |\n| `.rfind()`  | **[translate]**[translate]。[translate] `-1`              |\n| `.rindex()` | `.rfind()` [translate]、[translate] **[translate]**         |\n| `re`[translate] | [translate]        |\n\n<br>\n\n🔽🔽🔽 ⬇ **[translate]！** 🔽🔽🔽\n"
      ],
      "metadata": {
        "id": "Z8TgoeNABWxZ"
      },
      "id": "Z8TgoeNABWxZ"
    },
    {
      "cell_type": "code",
      "source": [
        "seq = \"ATGCGTCGCGT\"\n",
        "\n",
        "# in[translate: comment]\n",
        "print(\"[translate: string]\", \"ATG\" in seq)\n",
        "print(\"[translate: string]\", \"TATA\" in seq)\n",
        "\n",
        "# find: [translate: comment]\n",
        "print(\"[translate: string]\", seq.find(\"CGT\"))\n",
        "print(\"[translate: string]\", seq.find(\"GCT\"))\n",
        "\n",
        "# index: [translate: comment]（[translate: comment]）\n",
        "print(\"[translate: string]\", seq.index(\"CGT\"))\n",
        "# print(\"[translate: string]\", seq.index(\"GCT\"))\n",
        "\n",
        "# rfind: [translate: comment]\n",
        "print(\"[translate: string]\", seq.rfind(\"CGT\"))\n",
        "print(\"[translate: string]\", seq.rfind(\"GCT\"))\n",
        "\n",
        "# rindex: [translate: comment]（[translate: comment]）\n",
        "print(\"[translate: string]\", seq.rindex(\"CGT\"))\n",
        "# print(\"[translate: string]\", seq.rindex(\"GCT\"))\n"
      ],
      "metadata": {
        "id": "OzEOPyOLCPYa"
      },
      "id": "OzEOPyOLCPYa",
      "execution_count": null,
      "outputs": []
    },
    {
      "cell_type": "code",
      "source": [
        "# [translate: comment]、Python[translate: comment]「re」[translate: comment]\n",
        "import re\n",
        "\n",
        "# [translate: comment]DNA[translate: comment]（[translate: comment]ATGCGC...[translate: comment]）\n",
        "seq = \"ATGCGCATCGCATAGCGCTATGGCGCATCCGC\"\n",
        "\n",
        "# 「AT[translate: comment]G[translate: comment]C[translate: comment]2[translate: comment]」[translate: comment]\n",
        "# [translate: comment]、AT + [G[translate: comment]C] + [G[translate: comment]C] [translate: comment]4[translate: comment]\n",
        "pattern1 = r\"AT[GC][GC]\"\n",
        "\n",
        "# re.finditer() [translate: comment]、[translate: comment]\n",
        "# [translate: comment]「[translate: comment]」[translate: comment]（[translate: comment]）\n",
        "matches1 = list(re.finditer(pattern1, seq))\n",
        "\n",
        "# [translate: comment]\n",
        "print(\"[translate: string]\")\n",
        "print(\"[translate: string]\", len(matches1))\n",
        "\n",
        "# [translate: comment]、[translate: comment]\n",
        "for m in matches1:\n",
        "    # m.start(): [translate: comment]\n",
        "    # m.end()-1: [translate: comment]（-1[translate: comment]「[translate: comment]」[translate: comment]）\n",
        "    # m.group(): [translate: comment]（[translate: comment]：ATGC[translate: comment]）\n",
        "    print(f\"[translate: string]\")\n"
      ],
      "metadata": {
        "id": "vFuidOcJCPsB"
      },
      "id": "vFuidOcJCPsB",
      "execution_count": null,
      "outputs": []
    },
    {
      "cell_type": "code",
      "source": [
        "seq = \"ATGCGCATCGCATAGCGCTATGGCGCATCCGC\"\n",
        "\n",
        "# [translate: comment]2: 「AT[translate: comment]2[translate: comment]、[translate: comment]GC」\n",
        "pattern2 = r\"AT..GC\"\n",
        "matches2 = list(re.finditer(pattern2, seq))\n",
        "\n",
        "print(\"[translate: string]\")\n",
        "print(\"[translate: string]\", len(matches2))\n",
        "\n",
        "for m in matches2:\n",
        "    print(f\"[translate: string]\")"
      ],
      "metadata": {
        "id": "N_SpSOReCZYY"
      },
      "id": "N_SpSOReCZYY",
      "execution_count": null,
      "outputs": []
    },
    {
      "cell_type": "markdown",
      "source": [
        "---\n\n## [translate]・[translate]（split, +[translate], \\*[translate], join）\n\n[translate]、**[translate]**、**[translate]**[translate]。Python[translate]、[translate]。\n\n<br>\n\n### 🔹 [translate]\n\n| [translate]       | [translate]                       |\n| ---------- | -------------------------- |\n| `.split()` | [translate]           |\n| `+`        | [translate]（[translate]）       |\n| `*`        | [translate]           |\n| `.join()`  | [translate] |\n\n<br>\n\n🔽🔽🔽 ⬇ **[translate]！** 🔽🔽🔽\n"
      ],
      "metadata": {
        "id": "l3oQUlzhDkmZ"
      },
      "id": "l3oQUlzhDkmZ"
    },
    {
      "cell_type": "code",
      "source": [
        "# [translate: comment]：FASTA[translate: comment]\n",
        "text = \"ATG,CGA,TAA\"\n",
        "split_seq = text.split(\",\")\n",
        "print(\"[translate: string]\", split_seq)\n",
        "\n",
        "# [translate: comment]：+ [translate: comment]\n",
        "part1 = \"ATG\"\n",
        "part2 = \"CGA\"\n",
        "combined = part1 + part2\n",
        "print(\"[translate: string]\", combined)\n",
        "\n",
        "# [translate: comment]：* [translate: comment]\n",
        "repeat_seq = \"AT\" * 4\n",
        "print(\"[translate: string]\", repeat_seq)\n",
        "\n",
        "# join：[translate: comment]\n",
        "list_seq = ['A', 'T', 'G', 'C']\n",
        "joined = \"\".join(list_seq)\n",
        "print(\"[translate: string]\", joined)\n"
      ],
      "metadata": {
        "id": "p6vxNFU3Dpax"
      },
      "id": "p6vxNFU3Dpax",
      "execution_count": null,
      "outputs": []
    },
    {
      "cell_type": "markdown",
      "source": [
        "---\n\n## [translate]（[translate]、[translate]、[translate]）\n\nPython[translate]（`str`）[translate]「**[translate]（immutable）**」[translate]。[translate]、[translate]、**[translate]、[translate]**[translate]。\n\n[translate]、[translate]、**[translate]**[translate]。\n\n<br>\n\n### 🔹 [translate]\n\n| [translate]                  | [translate]                           |\n| --------------------- | ------------------------------ |\n| [translate]                  | [translate]           |\n| [translate] `.replace(old, new)`     | [translate] |\n| [translate] `re.sub(pattern, repl, s)`     | [translate] |\n| [translate] `.strip()`     | [translate] |\n| [translate] `.lstrip()`     | [translate] |\n| [translate] `.rstrip()`     | [translate] |\n| [translate] `.upper()` | [translate]→[translate]                  |\n| [translate] `.lower()` | [translate]→[translate]                  |\n\n※ `str[[translate]] = [translate]` [translate]**[translate]**。[translate]、[translate]。\n\n<br>\n\n🔽🔽🔽 ⬇ **[translate]！** 🔽🔽🔽\n"
      ],
      "metadata": {
        "id": "diJHf6otEQhR"
      },
      "id": "diJHf6otEQhR"
    },
    {
      "cell_type": "code",
      "source": [
        "seq = \"atgcgtgg\"\n",
        "\n",
        "# [translate: comment]\n",
        "upper_seq = seq.upper()\n",
        "print(\"[translate: string]\", upper_seq)\n",
        "\n",
        "# [translate: comment]\n",
        "reversed_seq = upper_seq[::-1]\n",
        "print(\"[translate: string]\", reversed_seq)\n",
        "\n",
        "# [translate: comment]（T → U）\n",
        "replaced_seq = upper_seq.replace(\"T\", \"U\")\n",
        "print(\"[translate: string]\", replaced_seq)\n",
        "\n",
        "# [translate: comment]、[translate: comment]（[translate: comment]）\n",
        "# upper_seq[2] = \"T\"  # ← [translate: comment]\n",
        "\n",
        "# [translate: comment]\n",
        "seq_list = list(upper_seq)\n",
        "seq_list[2] = \"T\"\n",
        "edited_seq = \"\".join(seq_list)\n",
        "print(\"[translate: string]\", edited_seq)"
      ],
      "metadata": {
        "id": "OJf2XJK2EvtC"
      },
      "id": "OJf2XJK2EvtC",
      "execution_count": null,
      "outputs": []
    },
    {
      "cell_type": "code",
      "source": [
        "text = \"  ATGC,,,,,  \"\n",
        "print(\"[translate: string]\", text)\n",
        "print(\"strip()      :\", text.strip())  # [translate: comment]、[translate: comment]、[translate: comment]、[translate: comment]\n",
        "print(\"strip(', ')      :\", text.strip(\", \"))  # [translate: comment]（[translate: comment]2[translate: comment]）\n",
        "print(\"lstrip() :\", text.lstrip())\n",
        "print(\"rstrip():\", text.rstrip())\n",
        "print(\"rstrip(', ')):\", text.rstrip(\", \"))  # [translate: comment]（[translate: comment]2[translate: comment]）"
      ],
      "metadata": {
        "id": "ijd1CKTLItNL"
      },
      "id": "ijd1CKTLItNL",
      "execution_count": null,
      "outputs": []
    },
    {
      "cell_type": "code",
      "source": [
        "seq = \"ATCGATCGTATAATCGTAGCTATCGGCTGTACGTATACGTACGTAGCGTATATA\"\n",
        "\n",
        "# [translate: comment]（TATA → [TATA]）\n",
        "replaced_seq = seq.replace(\"TATA\", \" [TATA] \")\n",
        "print(\"[translate: string]\", replaced_seq)"
      ],
      "metadata": {
        "id": "_l4J0oIUE2Ja"
      },
      "id": "_l4J0oIUE2Ja",
      "execution_count": null,
      "outputs": []
    },
    {
      "cell_type": "code",
      "source": [
        "import re\n",
        "\n",
        "seq = \"ATCGATCGTATAATCGTAGCTATCGGCTGTACGTATACGTACGTAGCGTATATA\"\n",
        "\n",
        "# [translate: comment]：TATA + T or A + T or A（[translate: comment] TATA[TA][TA]）\n",
        "pattern = r\"(TATA[TA][TA])\"  # [translate: comment]\n",
        "\n",
        "# [translate: comment]\n",
        "replaced_seq = re.sub(pattern, r\" [\\1] \", seq)\n",
        "\n",
        "print(\"[translate: string]\", replaced_seq)\n",
        "\n",
        "# [translate: comment]：AT[translate: comment]2[translate: comment]、[translate: comment]GC（[translate: comment] AT..GC）\n",
        "pattern = r\"(AT..GC)\"\n",
        "\n",
        "# [translate: comment]\n",
        "replaced_seq = re.sub(pattern, r\" [\\1] \", seq)\n",
        "\n",
        "print(\"[translate: string]\", replaced_seq)"
      ],
      "metadata": {
        "id": "Z2nYSHR1FQNK"
      },
      "id": "Z2nYSHR1FQNK",
      "execution_count": null,
      "outputs": []
    },
    {
      "cell_type": "markdown",
      "source": [
        "---\n\n## 10. [translate]（[translate]）\n\n[translate]**[translate]、[translate]**[translate]、[translate]。Python[translate]。\n\n[translate]、**`count()` [translate]「[translate]」**[translate]。[translate] `\"AAAA\"` [translate] `\"AA\"` [translate]、[translate]。\n\n<br>\n\n### 🔹 [translate]\n\n| [translate]           | [translate]                      | [translate]          |\n| -------------- | ---------------------- | ----------- |\n| `len(s)`       | `len(\"ATGC\")`          | 4（[translate]）      |\n| `.count(x)`    | `\"GATTACA\".count(\"A\")` | 3（\"A\" [translate]3[translate]）  |\n| `.count(\"AA\")` | `\"AAAA\".count(\"AA\")`   | 2（[translate]） |\n\n<br>\n\n🔽🔽🔽 ⬇ **[translate]！** 🔽🔽🔽\n"
      ],
      "metadata": {
        "id": "sIVi4DcNJHrp"
      },
      "id": "sIVi4DcNJHrp"
    },
    {
      "cell_type": "code",
      "source": [
        "seq = \"GATTACA\"\n",
        "\n",
        "# [translate: comment]\n",
        "print(\"[translate: string]\", len(seq))\n",
        "\n",
        "# [translate: comment]\n",
        "for nuc in \"ATGC\":\n",
        "    print(f\"[translate: string]\", seq.count(nuc))\n",
        "\n",
        "# 2[translate: comment]\n",
        "repeats = \"AAAAAA\"\n",
        "print(\"[translate: string]\", repeats.count(\"AA\"))  # → 3\n",
        "\n",
        "# [translate: comment]（[translate: comment]）\n",
        "import re  # [translate: comment]import[translate: comment]\n",
        "\n",
        "matches = re.findall(r\"(?=(AA))\", repeats)  # (?=(AA))[translate: comment]\n",
        "print(\"[translate: string]\", len(matches))  # → 5"
      ],
      "metadata": {
        "id": "HTp2Eg8sJO8R"
      },
      "id": "HTp2Eg8sJO8R",
      "execution_count": null,
      "outputs": []
    },
    {
      "cell_type": "markdown",
      "source": [
        "---\n---\n# [translate]"
      ],
      "metadata": {
        "id": "RG-DqI6ZK1Bo"
      },
      "id": "RG-DqI6ZK1Bo"
    },
    {
      "cell_type": "markdown",
      "source": [
        "---\n\n## Bio.Seq.Seq [translate]（[translate]）\n\n[translate] Python [translate]、[translate]（`str`）[translate]。[translate]、BioPython [translate] `Seq` [translate]、**[translate]。**\n\n`Seq` [translate]、**[translate]、[translate]**[translate]。\n\n[translate]、Python[translate] `str` [translate]**[translate]、[translate]、[translate]、[translate]、[translate]。**\n\n[translate]、Biopython[translate]1.85[translate]。\n\n<br>\n\n🔽🔽🔽 ⬇ **[translate]！** 🔽🔽🔽\n"
      ],
      "metadata": {
        "id": "9e8fd1J1K5a5"
      },
      "id": "9e8fd1J1K5a5"
    },
    {
      "cell_type": "code",
      "source": [
        "# [translate: comment]Colab[translate: comment]Biopython[translate: comment]\n",
        "!pip install biopython\n",
        "\n",
        "# Biopython [translate: comment]\n",
        "import Bio\n",
        "from Bio.Seq import Seq, MutableSeq\n",
        "\n",
        "# [translate: comment]\n",
        "print(\"[translate: string]\", Bio.__version__)\n"
      ],
      "metadata": {
        "id": "xLK4EZq5Lihx"
      },
      "id": "xLK4EZq5Lihx",
      "execution_count": null,
      "outputs": []
    },
    {
      "cell_type": "code",
      "source": [
        "# [translate: comment]\n",
        "s = \"ATGCATGAA\"\n",
        "\n",
        "# BioPython[translate: comment]Seq[translate: comment]\n",
        "seq = Seq(s)\n",
        "\n",
        "# [translate: comment]（[translate: comment]）\n",
        "print(\"[translate: string]\", seq[2])\n",
        "print(\"[translate: string]\", seq[2:6])\n",
        "print(\"[translate: string]\", seq * 2)\n",
        "print(\"[translate: string]\", \"CAT\" in seq)\n"
      ],
      "metadata": {
        "id": "XQRd_pogLGPJ"
      },
      "id": "XQRd_pogLGPJ",
      "execution_count": null,
      "outputs": []
    },
    {
      "cell_type": "markdown",
      "source": [
        "---\n\n## 14. [translate]\n\nDNA[translate]2[translate]、[translate]（A, T, G, C）[translate]**[translate]**[translate]：\n\n* A（[translate]） ⇔ T（[translate]）\n* G（[translate]） ⇔ C（[translate]）\n\n`Seq` [translate]、[translate]**[translate]（complement）**[translate]、**[translate]（[translate] = reverse complement）**[translate]。\n\n* `complement()` [translate]**[translate]**\n* `reverse_complement()` [translate]**complement[translate]**\n\n[translate]、PCR[translate]。\n\n<br>\n\nDNA[translate]、[translate] A（[translate]）、T（[translate]）、G（[translate]）、C（[translate]）[translate]、**[translate]「[translate]」**[translate]。\n\nBioPython [translate] `Seq` [translate]、[translate] **[translate]**[translate]。\n\n<br>\n\n### 🔹 [translate]\n\n| [translate]    | [translate]           | [translate] | [translate]・[translate]                           |\n| ----- | ---------------- | ---- | ------------------------------------ |\n| **A** | A（[translate]）          | T    | Adenine                              |\n| **T** | T（[translate]）           | A    | Thymine                              |\n| **G** | G（[translate]）          | C    | Guanine                              |\n| **C** | C（[translate]）          | G    | Cytosine                             |\n| **R** | A or G（[translate]）      | Y    | **R** = pu**R**ine（[translate]）             |\n| **Y** | C or T（[translate]）    | R    | **Y** = p**Y**rimidine（[translate]）       |\n| **S** | G or C           | S    | **S** = Strong（G≡C[translate]）          |\n| **W** | A or T           | W    | **W** = Weak（A=T[translate]）            |\n| **K** | G or T           | M    | **K** = Keto[translate]                     |\n| **M** | A or C           | K    | **M** = aMino[translate]                    |\n| **B** | C or G or T（[translate]A）  | V    | **B** = **B** comes **a**fter A（A[translate]） |\n| **D** | A or G or T（[translate]C）  | H    | **D** = **D** comes **a**fter C（C[translate]） |\n| **H** | A or C or T（[translate]G）  | D    | **H** = **H** comes **a**fter G（G[translate]） |\n| **V** | A or C or G（[translate]T）  | B    | **V** = **V** comes **a**fter T（T[translate]） |\n| **N** | A or T or G or C | N    | **N** = a**N**y（[translate]）               |\n\n\n<br>\n\n🔽🔽🔽 ⬇ **[translate]！** 🔽🔽🔽\n"
      ],
      "metadata": {
        "id": "xvy5n3fcSbKK"
      },
      "id": "xvy5n3fcSbKK"
    },
    {
      "cell_type": "code",
      "source": [
        "# DNA[translate: comment]Seq[translate: comment]\n",
        "seq = Seq(\"ATGCGTAAGG\")\n",
        "print(\"[translate: string]\", seq)\n",
        "\n",
        "# [translate: comment]\n",
        "complement_seq = seq.complement()\n",
        "print(\"[translate: string]\", complement_seq)\n",
        "\n",
        "# [translate: comment]\n",
        "rev_complement_seq = seq.reverse_complement()\n",
        "print(\"[translate: string]\", rev_complement_seq)\n"
      ],
      "metadata": {
        "id": "r1BvfuDWSzRa"
      },
      "id": "r1BvfuDWSzRa",
      "execution_count": null,
      "outputs": []
    },
    {
      "cell_type": "code",
      "source": [
        "# [translate: comment]\n",
        "seq = Seq(\"ATGCRYWSMKHBVDN\")\n",
        "print(\"[translate: string]\", seq)\n",
        "\n",
        "# [translate: comment]\n",
        "complement_seq = seq.complement()\n",
        "print(\"[translate: string]\", complement_seq)\n",
        "\n",
        "# [translate: comment]\n",
        "rev_complement_seq = seq.reverse_complement()\n",
        "print(\"[translate: string]\", rev_complement_seq)\n"
      ],
      "metadata": {
        "id": "1iGr6PN4UCZi"
      },
      "id": "1iGr6PN4UCZi",
      "execution_count": null,
      "outputs": []
    },
    {
      "cell_type": "markdown",
      "source": [
        "---\n\n## [translate]（DNA[translate]RNA[translate]）\n\nBioPython [translate] `Seq` [translate]、DNA[translate]RNA[translate] **`transcribe()`** [translate] **`back_transcribe()`** [translate]。\n\n<br>\n\n### 🔹 1. `Seq` [translate]・[translate]\n\n```python\nfrom Bio.Seq import Seq\n\n# DNA[translate]\ndna = Seq(\"ATGCGTAA\")\n\n# [translate]（DNA → RNA）\nrna = dna.transcribe()\nprint(\"RNA[translate]（[translate]）:\", rna)\n\n# [translate]（RNA → DNA）\ndna_back = rna.back_transcribe()\nprint(\"DNA[translate]（[translate]）:\", dna_back)\n```\n\n<br>\n\n### 🔹 2. `str` [translate]\n\nPython [translate]（`str`）[translate]、**`replace()` [translate]**[translate]。\n\n```python\n# DNA[translate]\ndna_str = \"ATGCGTAA\"\n\n# RNA[translate]（T → U）\nrna_str = dna_str.replace(\"T\", \"U\")\nprint(\"RNA[translate]（str）:\", rna_str)\n\n# [translate]（U → T）\ndna_back_str = rna_str.replace(\"U\", \"T\")\nprint(\"DNA[translate]（str）:\", dna_back_str)\n```\n\n<br>\n\n🔽🔽🔽 ⬇ **[translate]！** 🔽🔽🔽\n"
      ],
      "metadata": {
        "id": "B5MaYC6PMjKp"
      },
      "id": "B5MaYC6PMjKp"
    },
    {
      "cell_type": "code",
      "source": [
        "# DNA[translate: comment]\n",
        "dna = Seq(\"ATGCGTAAGG\")\n",
        "\n",
        "# [translate: comment]（DNA → RNA）\n",
        "rna = dna.transcribe()\n",
        "print(\"[translate: string]\", rna)\n",
        "\n",
        "# [translate: comment]（RNA → DNA）\n",
        "dna_back = rna.back_transcribe()\n",
        "print(\"[translate: string]\", dna_back)"
      ],
      "metadata": {
        "id": "8BBsA318NUQ0"
      },
      "id": "8BBsA318NUQ0",
      "execution_count": null,
      "outputs": []
    },
    {
      "cell_type": "code",
      "source": [
        "# DNA[translate: comment]\n",
        "dna_str = \"ATGCGTAAGG\"\n",
        "\n",
        "# RNA[translate: comment]（T → U）\n",
        "rna_str = dna_str.replace(\"T\", \"U\")\n",
        "print(\"[translate: string]\", rna_str)\n",
        "\n",
        "# [translate: comment]（U → T）\n",
        "dna_back_str = rna_str.replace(\"U\", \"T\")\n",
        "print(\"[translate: string]\", dna_back_str)"
      ],
      "metadata": {
        "id": "kEyZfoABNWaB"
      },
      "id": "kEyZfoABNWaB",
      "execution_count": null,
      "outputs": []
    },
    {
      "cell_type": "code",
      "source": [
        "# DNA[translate: comment]\n",
        "dna_str = \"atgcgtaagg\"\n",
        "dna = Seq(dna_str)\n",
        "\n",
        "# RNA[translate: comment]\n",
        "# [translate: comment]\n",
        "# dna_str.replace(\"T\", \"U\").replace(\"t\", \"u\")[translate: comment]\n",
        "rna_str = dna_str.replace(\"T\", \"U\")\n",
        "print('[translate: string]', rna_str)\n",
        "rna_str = dna_str.replace(\"t\", \"u\")\n",
        "print('[translate: string]', rna_str)\n",
        "\n",
        "# RNA[translate: comment]\n",
        "# [translate: comment]\n",
        "rna = dna.transcribe()\n",
        "print(\"[translate: string]\", rna)\n"
      ],
      "metadata": {
        "id": "aqRm_SYlNYNS"
      },
      "id": "aqRm_SYlNYNS",
      "execution_count": null,
      "outputs": []
    },
    {
      "cell_type": "markdown",
      "source": [
        "---\n\n## [translate]（[translate]）\n\nmRNA[translate]（RNA）[translate]、3[translate]（[translate]）[translate]（translation）[translate]、[translate]。\n[translate]、**RNA[translate]DNA[translate] `Seq` [translate]、 `.translate()` [translate]**[translate]。\n\nBioPython[translate] `.translate()` [translate]、**[translate]（[translate]/[translate]）[translate]、1[translate]**[translate]。\n\n<br>\n\n### 🔹 [translate]\n\n* DNA[translate]RNA[translate] `.translate()` [translate]。\n* [translate] `*` [translate]（[translate]：`\"MAIVMGR*\"`）\n* [translate]3[translate]、[translate]。\n* `table=1`（[translate]）、`to_stop=True`（[translate]）[translate]。\n\n<br>\n\n🔽🔽🔽 ⬇ **[translate]！** 🔽🔽🔽\n"
      ],
      "metadata": {
        "id": "00SkxGjDOXeC"
      },
      "id": "00SkxGjDOXeC"
    },
    {
      "cell_type": "code",
      "source": [
        "# DNA[translate: comment]（3[translate: comment]）\n",
        "dna = Seq(\"ATGGCCATTGTAATGGGCCGCCGAAAGGGTGCCCGATAG\")\n",
        "\n",
        "# [translate: comment]\n",
        "protein = dna.translate()\n",
        "print(\"[translate: string]\", protein)\n",
        "\n",
        "# [translate: comment]\n",
        "protein_partial = dna.translate(to_stop=True)\n",
        "print(\"[translate: string]\", protein_partial)"
      ],
      "metadata": {
        "id": "789b1lFGOkGi"
      },
      "id": "789b1lFGOkGi",
      "execution_count": null,
      "outputs": []
    },
    {
      "cell_type": "code",
      "source": [
        "# DNA[translate: comment]（3[translate: comment]）\n",
        "dna = Seq(\"ATGGCCATTGTAATGGGCCGCTGAAAGGGTGCCCGATAG\")\n",
        "\n",
        "# [translate: comment]\n",
        "protein = dna.translate()\n",
        "print(\"[translate: string]\", protein)\n",
        "\n",
        "# [translate: comment]\n",
        "protein_partial = dna.translate(to_stop=True)\n",
        "print(\"[translate: string]\", protein_partial)"
      ],
      "metadata": {
        "id": "-BMdnGw-O5bJ"
      },
      "id": "-BMdnGw-O5bJ",
      "execution_count": null,
      "outputs": []
    },
    {
      "cell_type": "markdown",
      "source": [
        "---\n## [translate]：[translate]\n\n<br>\n\n### ✅ 1. [translate]**[translate]**[translate]\n\n* `.translate()` [translate] **[translate]3[translate]**[translate]。\n* **[translate]（ATG/AUG）[translate]。**\n\n```python\nfrom Bio.Seq import Seq\n\nseq = Seq(\"GCCGCTGAA\")  # [translate]\nprint(seq.translate())  # → \"AAE\"\n```\n\n📝 **[translate]**：[translate]、`translate()` [translate]**[translate]**[translate]。\n\n<br>\n\n### ✅ 2. [translate]**[translate]**[translate]\n\n* `translate()` [translate]、**[translate]3[translate]**[translate]。\n* [translate]**[translate]**[translate]。\n\n```python\nseq = Seq(\"TTTATGGGCCC\")  # [translate]3[translate]\nprint(seq.translate())         # → \"FMP\"\nprint(seq[3:].translate())     # → \"MP\"\n```\n\n<br>\n\n### ✅ 3. [translate]（TAA, TAG, TGA）[translate]\n\n* [translate] **[translate] `*` [translate]**[translate]、[translate]。\n* `to_stop=True` [translate]、**[translate]**[translate]。\n\n```python\nseq = Seq(\"ATGGGGTAATTT\")  # [translate]TAA\nprint(seq.translate())               # → \"MG*F\"\nprint(seq.translate(to_stop=True))  # → \"MG\"\n```\n\n<br>\n\n### ✅ 4. [translate]**[translate]**[translate]\n\n* `.translate()` [translate]。\n* [translate]3[translate]、**[translate]**[translate]。\n\n```python\nseq = Seq(\"ATGGGGT\")  # [translate]7 → 2[translate] + 1[translate]\nprint(seq.translate())  # → \"MG\"\n```\n\n<br>\n\n### ✅ 5. A/T/U/G/C[translate]**[translate]**[translate]\n\n* [translate]（[translate]：N, R, Y[translate]）[translate]、[translate]X（[translate]）[translate]。\n\n```python\nseq = Seq(\"ATGNCC\")  # \"N\"[translate]\nprint(seq.translate())  # → \"MX\"\n```\n\n<br>\n\n### ✅ 6. [translate]（-）[translate]\n\n* 3[translate]`\"-\"`（[translate]）[translate]、[translate]。\n\n```python\nseq = Seq(\"ATG---GGC\")\nprint(seq.translate(gap=\"-\"))  # → \"M-G\"\n```\n\n<br>\n\n🔽🔽🔽 ⬇ **[translate]！** 🔽🔽🔽\n"
      ],
      "metadata": {
        "id": "ngRMA_hKPTrz"
      },
      "id": "ngRMA_hKPTrz"
    },
    {
      "cell_type": "code",
      "source": [
        "print(\"[translate: string]\")\n",
        "seq = Seq(\"GCCGCTGAA\")  # [translate: comment]\n",
        "print(seq.translate())  # → \"AAE\"\n",
        "\n",
        "print(\"[translate: string]\")\n",
        "seq = Seq(\"TATGGGCCC\")  # [translate: comment]1[translate: comment]\n",
        "print(seq.translate())         # → \"YGP\"\n",
        "print(seq[1:].translate())     # → \"MG\"\n",
        "\n",
        "print(\"[translate: string]\")\n",
        "seq = Seq(\"ATGGGGTAATTT\")  # [translate: comment]TAA\n",
        "print(seq.translate())               # → \"MG*F\"\n",
        "print(seq.translate(to_stop=True))  # → \"MG\"\n",
        "\n",
        "print(\"[translate: string]\")\n",
        "seq = Seq(\"ATGGGGT\")  # [translate: comment]7 → 2[translate: comment] + 1[translate: comment]\n",
        "print(seq.translate())  # → \"MG\"\n",
        "\n",
        "print(\"[translate: string]\")\n",
        "seq = Seq(\"ATGNCC\")  # \"N\"[translate: comment]\n",
        "print(seq.translate())  # → \"MX\"\n",
        "\n",
        "print(\"[translate: string]\")\n",
        "seq = Seq(\"ATG---GGC\")\n",
        "print(seq.translate(gap=\"-\"))  # → \"M-G\"\n"
      ],
      "metadata": {
        "id": "o9IwTUPROpmJ"
      },
      "id": "o9IwTUPROpmJ",
      "execution_count": null,
      "outputs": []
    },
    {
      "cell_type": "markdown",
      "source": [
        "---\n\n## 17. [translate]（`count()` [translate] `count_overlap()`）\n\n[translate] **[translate]（[translate]）[translate]**[translate]、[translate]。\n\n`Seq` [translate]、[translate]2[translate]：\n\n| [translate]                     | [translate]                  |\n| ------------------------ | ------------------- |\n| `.count(subseq)`         | [translate]（**[translate]**） |\n| `.count_overlap(subseq)` | **[translate]**[translate]     |\n\n[translate]、**[translate]「[translate]／[translate]」[translate]**[translate]。\n\n<br>\n\n### 🔹 [translate]：[translate]？\n\n* `\"AAAAGAAAAAA\"` [translate]、`\"AAA\"` [translate] **[translate]**[translate]。\n* [translate] `.count()` [translate]「[translate]」[translate]、**[translate]**。\n* `.count_overlap()` [translate] **1[translate]**[translate]、[translate]。\n\n<br>\n\n🔽🔽🔽 ⬇ **[translate]！** 🔽🔽🔽\n"
      ],
      "metadata": {
        "id": "jb73aF64R4t8"
      },
      "id": "jb73aF64R4t8"
    },
    {
      "cell_type": "code",
      "source": [
        "# [translate: comment]、[translate: comment]\n",
        "seq = Seq(\"AAAAGAAAAAA\")\n",
        "\n",
        "# 'AAA' [translate: comment]（[translate: comment]）\n",
        "count_non_overlap = seq.count(\"AAA\")\n",
        "print(\"[translate: string]\", count_non_overlap)\n",
        "\n",
        "# [translate: comment]\n",
        "count_with_overlap = seq.count_overlap(\"AAA\")\n",
        "print(\"[translate: string]\", count_with_overlap)\n"
      ],
      "metadata": {
        "id": "DJJ204nER8AJ"
      },
      "id": "DJJ204nER8AJ",
      "execution_count": null,
      "outputs": []
    },
    {
      "cell_type": "markdown",
      "source": [
        "---\n\n## [translate]（MutableSeq [translate]）\n\nBioPython [translate] `Seq` [translate]（immutable）[translate]、[translate]。\n[translate]、[translate]**[translate]・[translate]・[translate]・[translate]**[translate]、**`MutableSeq`（[translate]）**[translate]、[translate]。\n\n<br>\n\n### 🔹 [translate]\n\n| [translate]    | [translate]                 | [translate]                       |\n| ----- | --------------------- | ------------------------ |\n| [translate]    | `mseq = MutableSeq(seq)`  | `Seq` → `MutableSeq` [translate] |\n| [translate]    | `mseq[i] = \"A\"`       | [translate]               |\n| [translate]    | `mseq.insert(i, \"T\")` | [translate]               |\n| [translate]    | `del mseq[i]`         | [translate]               |\n| [translate]① | `mseq.append(\"G\")`    | 1[translate]                |\n| [translate]② | `mseq.extend(\"TAA\")`  | [translate]1[translate]             |\n| [translate]  | `Seq(mseq)`           | `MutableSeq` → `Seq` [translate] |\n\n<br>\n\n### 🔹 [translate]：[translate] `Seq` [translate]？\n\n* `MutableSeq` [translate]、**[translate] `Seq` [translate]**[translate]。\n* `Seq` [translate]、**[translate]**[translate]。\n\n[translate]：\n\n* **[translate]：`MutableSeq`**\n* **[translate]：`Seq` [translate]**\n\n[translate]。\n\n<br>\n\n🔽🔽🔽 ⬇ **[translate]！** 🔽🔽🔽\n"
      ],
      "metadata": {
        "id": "vsYlOCj7R7VR"
      },
      "id": "vsYlOCj7R7VR"
    },
    {
      "cell_type": "code",
      "source": [
        "# [translate: comment]（[translate: comment]）\n",
        "seq = Seq(\"ATGCGTAA\")\n",
        "\n",
        "# [translate: comment]MutableSeq[translate: comment]\n",
        "mseq = MutableSeq(seq)\n",
        "\n",
        "# 3[translate: comment]（G）[translate: comment]T[translate: comment]\n",
        "mseq[2] = \"T\"\n",
        "\n",
        "# [translate: comment]1[translate: comment]（insert）\n",
        "mseq.insert(0, \"A\")\n",
        "\n",
        "# [translate: comment]1[translate: comment]（append）\n",
        "mseq.append(\"G\")\n",
        "\n",
        "# [translate: comment]（extend）\n",
        "mseq.extend(\"TAC\")\n",
        "\n",
        "# 5[translate: comment]\n",
        "del mseq[4]\n",
        "\n",
        "# Seq[translate: comment]（[translate: comment]）\n",
        "edited = Seq(mseq)\n",
        "print(\"[translate: string]\", seq)\n",
        "print(\"[translate: string]\", edited)"
      ],
      "metadata": {
        "id": "o_fyNhg2Ul5j"
      },
      "id": "o_fyNhg2Ul5j",
      "execution_count": null,
      "outputs": []
    },
    {
      "cell_type": "markdown",
      "source": [
        "---\n---\n# 🎉 [translate]！\n---\n\n<br>\n\n[translate]、[translate]「[translate]」[translate]「[translate]」[translate]。"
      ],
      "metadata": {
        "id": "ntB_mKHuWN_z"
      },
      "id": "ntB_mKHuWN_z"
    }
  ],
  "metadata": {
    "hide_input": false,
    "kernelspec": {
      "display_name": "Python 3 (ipykernel)",
      "language": "python",
      "name": "python3"
    },
    "language_info": {
      "codemirror_mode": {
        "name": "ipython",
        "version": 3
      },
      "file_extension": ".py",
      "mimetype": "text/x-python",
      "name": "python",
      "nbconvert_exporter": "python",
      "pygments_lexer": "ipython3",
      "version": "3.11.9"
    },
    "toc": {
      "base_numbering": 1,
      "nav_menu": {},
      "number_sections": true,
      "sideBar": true,
      "skip_h1_title": false,
      "title_cell": "Table of Contents",
      "title_sidebar": "Contents",
      "toc_cell": false,
      "toc_position": {},
      "toc_section_display": true,
      "toc_window_display": false
    },
    "colab": {
      "provenance": [],
      "toc_visible": true
    }
  },
  "nbformat": 4,
  "nbformat_minor": 5
}