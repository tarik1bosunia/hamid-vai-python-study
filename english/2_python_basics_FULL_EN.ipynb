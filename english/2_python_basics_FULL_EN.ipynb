{
  "cells": [
    {
      "cell_type": "markdown",
      "source": [
        "<font size=\"+3\"><strong>OUBIC[translate]</strong></font>\n\n<font size=\"+3\"><strong>[translate]1[translate] [[translate]] Colab[translate]＋Python[translate]\n</strong></font>\n\n<font size=\"+3\"><strong>Python[translate]</strong></font>\n- [translate]: 2025-06-29\n- [translate]: [translate]﨑 [translate]（[translate]・OUBIC・RNA[translate]）\n\n※ [translate]、[translate]・[translate]、[translate] ChatGPT（OpenAI）[translate]。[translate]。\n\n<br>\n\n---\n---\n# [translate]\n\n## ✅ [translate]\n\n1. [translate] **「[translate]」→「[translate]」** [translate]  \n   → [translate]Google[translate]。[translate]「Colab Notebooks」[translate]、[translate]。\n\n2. [translate]。  \n   [translate]。\n\n<br>\n\n## 🗂️ [translate]\n\n[translate]、**[translate]（[translate]）**[translate]。  \n[translate]、**[translate]**。\n\n<br>\n"
      ],
      "metadata": {
        "id": "etjoncTMvz0i"
      },
      "id": "etjoncTMvz0i"
    },
    {
      "cell_type": "markdown",
      "source": [
        "\n---\n## [translate]Colab Notebook[translate]\n\n**Python[translate]。**\n\n[translate]。\n\n"
      ],
      "metadata": {
        "id": "M8EzQpsTBkDl"
      },
      "id": "M8EzQpsTBkDl"
    },
    {
      "cell_type": "markdown",
      "source": [
        "---\n## [translate]\n\n[translate]、[translate]：\n\n> **Creative Commons Attribution-NonCommercial 4.0 International (CC BY-NC 4.0)**  \n> https://creativecommons.org/licenses/by-nc/4.0/\n\n- [translate]・[translate]、[translate]、[translate]。\n- [translate]（[translate]：[translate]、[translate]）[translate]。\n- [translate]・[translate]、[translate]。\n- [translate]、[translate]。[translate]Python[translate]、[translate]。\n  [translate]、[translate]・[translate]（[translate]）[translate]、[translate]：  \n  - `# Based on code by Shotaro Yamasaki (Osaka University, OUBIC)`\n- [translate]、[translate]・[translate]。\n"
      ],
      "metadata": {
        "id": "8by8u-4QBnE7"
      },
      "id": "8by8u-4QBnE7"
    },
    {
      "cell_type": "markdown",
      "source": [
        "---\n## [translate]\n\n- [translate] Google Colab [translate]、[translate]。\n- [translate]、[translate]。[translate]。\n- [translate]。[translate]・[translate]、[translate]。[translate]、[translate]（[translate]・[translate]）[translate]。\n- [translate]（Colab[translate]）。"
      ],
      "metadata": {
        "id": "f9Q66HU6BoNM"
      },
      "id": "f9Q66HU6BoNM"
    },
    {
      "cell_type": "markdown",
      "source": [
        "---\n---\n# 🔰 Google Colab[translate]（[translate]）\n---\n\n<br>\n\n<details>\n<summary>🔍 [translate]</summary>\n\n[translate]、Python [translate]、Google Colab [translate]。  \n[translate]、[translate]。\n\n<br>\n\n---\n\n## 💡 Google Colab[translate]？\n\nGoogle Colab（[translate]）[translate]、**[translate]Python[translate]**[translate]。  \n[translate]Python[translate]、[translate]。\n\n- Google[translate]「[translate]」[translate]。\n- Google[translate]、[translate]。\n- [translate]、[translate]。\n\n<br>\n\n---\n\n## 🧱 「[translate]」[translate]？\n\nGoogle Colab [translate]、「[translate]」[translate]**[translate]**[translate]。\n\n- 📄 **[translate]**：[translate]（[translate]）\n- 🧮 **[translate]**：Python [translate]（[translate] `print(\"Hello\")` [translate]）\n\n👇 [translate]、**[translate] ▶（[translate]）[translate]**[translate]。\n\n💡 [translate]（[translate]）：\n- **Shift + Enter**：[translate]、[translate]\n- **Ctrl + Enter**（[translate] Mac [translate] Cmd + Enter）：[translate]、[translate]\n\n<br>\n\n---\n\n## 🖥 [translate]？[translate]\n\nGoogle Colab[translate]、[translate]**[translate]（＝[translate]）**[translate]。\n\n### 💻 [translate]（＝[translate]）[translate]\n\n- [translate]、**[translate]「[translate]」**[translate]。\n- [translate]、**[translate]**[translate]。\n- [translate]、[translate]、[translate]、**[translate]**。\n\n### 🧾 [translate]（print[translate]）[translate]\n\n- [translate]、**[translate]「[translate]」[translate]**。\n- [translate]（[translate]）[translate]、**[translate]**。\n\n<br>\n\n---\n\n## 💾 [translate]\n\nColab[translate]、**[translate]**。  \n[translate]、**[translate]**[translate]。\n\n- [translate] **[translate]**[translate]、  \n- **Google[translate]「[translate]USB[translate]」**[translate]、[translate]。\n\n👉 [translate]（[translate]）[translate]。[translate]**[translate]（CSV[translate]）[translate]**[translate]。\n\n</details>\n\n<br>\n"
      ],
      "metadata": {
        "id": "FxcYarJy6HFN"
      },
      "id": "FxcYarJy6HFN"
    },
    {
      "cell_type": "markdown",
      "source": [
        "---\n---\n# [translate]\n---\n\n## 🧾 [translate]：[translate]、[translate]\n\n[translate]、**[translate]1[translate]**[translate]、[translate]。\n\n```python\nx = 5\ny = 3\nprint(x + y)\n```\n\n[translate]。\n\n1. `x = 5` → x [translate] 5 [translate]\n2. `y = 3` → y [translate] 3 [translate]\n3. `print(x + y)` → x [translate] y [translate]（8）[translate]\n\n<br>\n\n---\n\n## 🧪 Google Colab [translate]：**[translate]**\n\nGoogle Colab [translate]、[translate]「[translate]」[translate]。\n\n[translate]、[translate]**[translate]**。\n\n```python\n# [translate]1\nx = 1  # x[translate]1[translate]\n```\n\n```python\n# [translate]2\nx += 1  # x[translate]1[translate]\n```\n\n```python\n# [translate]3\nprint(x)  # x[translate]（[translate]）[translate]\n```\n\n- [translate]1 [translate]**[translate]**[translate]、[translate]2 [translate] [translate]3 [translate]（x = 1 [translate]）\n- **[translate]1 [translate]**[translate]（x [translate]）\n- [translate]2 [translate]。[translate]3 [translate]、[translate] 2 [translate]、[translate] 1 [translate]。\n- [translate]2 [translate]。[translate]2 [translate]、x[translate]。\n- [translate]2 [translate] [translate]1 [translate] 1 [translate]。\n\n**[translate]、[translate]1[translate]。**\n[translate]、[translate]、[translate]、[translate]、[translate]。\n\n<br>\n\n---\n\n## 🛠️ [translate]\n\n- [translate]\n- [translate]\n- [translate]\n\n[translate]、「[translate]」[translate]。\n\n\n1. [translate]「**[translate]（Runtime）**」[translate]\n2. 「**[translate]**」[translate]「**[translate]**」[translate]\n\n🚨 [translate]：[translate]！\n\n[translate]、[translate]「[translate]」[translate]、「[translate]」[translate]。[translate]、[translate]。\n\n<br>\n\n🔽🔽🔽 ⬇ **[translate]！** 🔽🔽🔽\n"
      ],
      "metadata": {
        "id": "7sue13YdyqO-"
      },
      "id": "7sue13YdyqO-"
    },
    {
      "cell_type": "code",
      "source": [
        "# [translate: comment]1\n",
        "x = 1  # x[translate: comment]1[translate: comment]"
      ],
      "metadata": {
        "id": "RJR0Zj54yqXU"
      },
      "id": "RJR0Zj54yqXU",
      "execution_count": null,
      "outputs": []
    },
    {
      "cell_type": "code",
      "source": [
        "# [translate: comment]2\n",
        "x += 1  # x[translate: comment]1[translate: comment]"
      ],
      "metadata": {
        "id": "SKZWbiXKAKeL"
      },
      "id": "SKZWbiXKAKeL",
      "execution_count": null,
      "outputs": []
    },
    {
      "cell_type": "code",
      "source": [
        "# [translate: comment]3\n",
        "print(x)  # x[translate: comment]（[translate: comment]）[translate: comment]"
      ],
      "metadata": {
        "id": "6eQ-1iWFAKko"
      },
      "id": "6eQ-1iWFAKko",
      "execution_count": null,
      "outputs": []
    },
    {
      "cell_type": "markdown",
      "source": [
        "---\n---\n# 🔸 [translate]\n---\n\n[translate] `#` [translate]、[translate]「[translate]」[translate]、**[translate]**。  \n[translate]、[translate]。\n[translate]。\n\n```python\n# [translate]（[translate]）\nprint(\"[translate]\")  # [translate]（[translate]）\n```\n\n- [translate]、[translate]。\n- [translate]、[translate]2[translate]、[translate]、[translate]、[translate]。\n- [translate]「[translate]」[translate]、Python[translate]PEP8[translate]。 [URL](https://pep8-ja.readthedocs.io/ja/latest/)\n\n<br>\n\n---\n\n## 【[translate]】⌨️ [translate]（[translate]！）\n\n- **Windows / Chromebook**： `Ctrl` + `/`\n- **Mac**： `Command` + `/`\n\n※ [translate]、[translate]／[translate]！\n\n<br>\n\n---\n\n🔽🔽🔽 ⬇ **[translate]！** 🔽🔽🔽\n"
      ],
      "metadata": {
        "id": "UklmyC73AR1g"
      },
      "id": "UklmyC73AR1g"
    },
    {
      "cell_type": "code",
      "source": [
        "これをコメントにする必要があります\n",
        "# print(\"[translate: string]\")"
      ],
      "metadata": {
        "id": "-Rqvu2hjB1ci"
      },
      "id": "-Rqvu2hjB1ci",
      "execution_count": null,
      "outputs": []
    },
    {
      "cell_type": "markdown",
      "source": [
        "---\n---\n# [translate]\n"
      ],
      "metadata": {
        "id": "wh7dvAJaFI4g"
      },
      "id": "wh7dvAJaFI4g"
    },
    {
      "cell_type": "markdown",
      "source": [
        "---\n## [translate]？\n\n\n[translate]、**[translate]**[translate]。[translate]、[translate]、[translate]、[translate]。\n\n[translate]、[translate]：\n\n```python\nx = 10\n```\n\n[translate]、「x [translate] 10 [translate]」[translate]。[translate]、`x` [translate] `10` [translate]。\n\n<br>\n"
      ],
      "metadata": {
        "id": "Z1UGhARyFQoZ"
      },
      "id": "Z1UGhARyFQoZ"
    },
    {
      "cell_type": "markdown",
      "source": [
        "---\n## [translate]\n\n[translate]。\n\n- [translate]（a〜z、A〜Z）、[translate]（0〜9）、[translate]（_）[translate]\n- **[translate]**\n- [translate]（-）[translate]、[translate]（@, %, # [translate]）[translate]\n- **Python[translate]（`for`, `if`, `class` [translate]）[translate]**\n\n[translate]：\n\n```python\nvalid_name = 123    # [translate]\n_underscore = \"OK\"  # [translate]（[translate]）\nValue_A = 0         # [translate]（[translate]、[translate]）\nValueA = 0          # [translate]（[translate]、[translate]）\nVALUE_A = 0         # [translate]（[translate]）\n2nd_value = 5       # [translate]（[translate]）\nmy-name = \"NG\"      # [translate]（[translate]）\nmy name = \"NG\"      # [translate]（[translate]）\n```\n\n[translate]、[translate]（[translate]）[translate]。\n\n<br>\n\n---\n\n🔽🔽🔽 ⬇ **[translate]、[translate]！** 🔽🔽🔽\n"
      ],
      "metadata": {
        "id": "Iz_Ms-qeFuXg"
      },
      "id": "Iz_Ms-qeFuXg"
    },
    {
      "cell_type": "code",
      "source": [
        "valid_name = 123    # [translate: comment]\n",
        "_underscore = \"OK\"  # [translate: comment]（[translate: comment]）\n",
        "Value_A = 0         # [translate: comment]（[translate: comment]、[translate: comment]）\n",
        "ValueA = 0          # [translate: comment]（[translate: comment]、[translate: comment]）\n",
        "VALUE_A = 0         # [translate: comment]（[translate: comment]）\n",
        "print(\"[translate: string]\")"
      ],
      "metadata": {
        "id": "VxoiSO79G8Si"
      },
      "id": "VxoiSO79G8Si",
      "execution_count": null,
      "outputs": []
    },
    {
      "cell_type": "code",
      "source": [
        "2nd_value = 5       # [translate: comment]（[translate: comment]）"
      ],
      "metadata": {
        "id": "kIImSMOeHj3K"
      },
      "id": "kIImSMOeHj3K",
      "execution_count": null,
      "outputs": []
    },
    {
      "cell_type": "code",
      "source": [
        "my-name = \"NG\"      # [translate: comment]（[translate: comment]）"
      ],
      "metadata": {
        "id": "bsJm90zmHmJ5"
      },
      "id": "bsJm90zmHmJ5",
      "execution_count": null,
      "outputs": []
    },
    {
      "cell_type": "code",
      "source": [
        "my_name = \"NG\"      # [translate: comment]（[translate: comment]）"
      ],
      "metadata": {
        "id": "yWizcnXvHmOB"
      },
      "id": "yWizcnXvHmOB",
      "execution_count": null,
      "outputs": []
    },
    {
      "cell_type": "markdown",
      "source": [
        "---\n## `=` [translate]「=」[translate]\n\nPython[translate] `=` [translate]、**「[translate]」[translate]「[translate]」**[translate]。\n\n[translate]、[translate]：\n\n```python\nx = x + 1\n```\n\n[translate]、[translate]（x [translate]1[translate]）[translate]、[translate]、\n\n- [translate] `x + 1` [translate]、\n- [translate] `x` [translate]「[translate]」\n\n[translate]。[translate]、[translate]「x [translate]1[translate]」[translate]（`x += 1`[translate]）。\n\n<br>\n\nPython[translate]「[translate]」[translate]、`==` [translate]。\n\n```python\nx = 5      # [translate]\nx == 5     # x [translate] 5 [translate]\n```\n\n<br>\n\n---\n\n🔽🔽🔽 ⬇ **[translate]！** 🔽🔽🔽\n"
      ],
      "metadata": {
        "id": "nTu8L9DUH_KZ"
      },
      "id": "nTu8L9DUH_KZ"
    },
    {
      "cell_type": "code",
      "source": [
        "x = 5         # [translate: comment]\n",
        "a = (x == 5)  # x [translate: comment] 5 [translate: comment]、[translate: comment]\n",
        "print(a)"
      ],
      "metadata": {
        "id": "kH3iQbcZIRwp"
      },
      "id": "kH3iQbcZIRwp",
      "execution_count": null,
      "outputs": []
    },
    {
      "cell_type": "markdown",
      "source": [
        "---\n## [translate]？\n\n\n[translate]、**[translate]、[translate]、[translate]**[translate]。[translate]、[translate]、**[translate]・[translate]・[translate]**[translate]。\n\n<br>\n\n---\n\n### [translate]：[translate]\n\n#### （[translate]）\n\n```python\n# [translate]5[translate]\nprint(3.14 * 5 * 5)\n```\n\n#### （[translate]）\n\n```python\nradius = 5\npi = 3.14\narea = pi * radius * radius\nprint(area)\n```\n\n[translate]、「[translate]」[translate]、[translate]。[translate]、[translate]、[translate]。\n\n<br>\n\n----\n\n### [translate]：[translate]・[translate]\n\n#### （[translate]）\n\n```python\nprint(\"A[translate]：[translate]、B[translate]。[translate]。\")\nprint(\"B[translate]：[translate]、A[translate]。[translate]。\")\nprint(\"A[translate]：B[translate]？\")\nprint(\"B[translate]：A[translate]。\")\nprint(\"A[translate]：[translate]、B[translate]。[translate]。\")\n```\n\n#### （[translate]）\n\n```python\nname_a = \"A[translate]\"\nname_b = \"B[translate]\"\n\nprint(name_a + \"：[translate]、\" + name_b + \"。[translate]。\")\nprint(name_b + \"：[translate]、\" + name_a + \"。[translate]。\")\nprint(name_a + \"：\" + name_b + \"[translate]？\")\nprint(name_b + \"：\" + name_a + \"[translate]。\")\nprint(name_a + \"：[translate]、\" + name_b + \"。[translate]。\")\n```\n\n[translate]、**[translate]、[translate]**[translate]。\n\n<br>\n\n---\n\n🔽🔽🔽 ⬇ **[translate]！** 🔽🔽🔽\n"
      ],
      "metadata": {
        "id": "IeXnoxRW1Nq-"
      },
      "id": "IeXnoxRW1Nq-"
    },
    {
      "cell_type": "code",
      "source": [
        "name_a = \"[translate: string]\"\n",
        "name_b = \"[translate: string]\"\n",
        "\n",
        "print(name_a + \"[translate: string]\" + name_b + \"[translate: string]\")\n",
        "print(name_b + \"[translate: string]\" + name_a + \"[translate: string]\")\n",
        "print(name_a + \"：\" + name_b + \"[translate: string]\")\n",
        "print(name_b + \"：\" + name_a + \"[translate: string]\")\n",
        "print(name_a + \"[translate: string]\" + name_b + \"[translate: string]\")"
      ],
      "metadata": {
        "id": "diSJhDnk9NaG"
      },
      "id": "diSJhDnk9NaG",
      "execution_count": null,
      "outputs": []
    },
    {
      "cell_type": "markdown",
      "source": [
        "---\n## [translate]「[translate]」: [translate]\n\nPython [translate]、[translate]（[translate]）[translate]。[translate]。**[translate]（[translate]）** [translate]。\n\n| [translate]       | [translate]                    | [translate]                             |\n| -------------- | --------------------- | -------------------------------- |\n| [translate]（int）    | `10`, `-3`            | [translate]                 |\n| [translate]（float）  | `3.14`, `0.0`         | [translate]                 |\n| [translate]（str）  | `\"hello\"`, `'abc123'` | [translate]（[translate]）       |\n| [translate]（bool） | `True`, `False`       | 「[translate]」[translate]「[translate]」[translate] |\n\n[translate]、[translate]、[translate]、[translate]、[translate]。[translate]、[translate]、[translate]。\n\n<br>\n\n### 🔍 「[translate]」[translate]？\n\n[translate]、[translate]・[translate]・[translate]、[translate]。[translate]、[translate]**[translate]、[translate]（[translate]）[translate]**。\n\n[translate]：\n\n* [translate]、[translate]、[translate]。\n* [translate]（`True` / `False`）[translate]「1[translate]0[translate]」[translate]、[translate]。\n\n[translate]、**[translate]「[translate]」[translate]**[translate]。\n\nPython [translate]、[translate]（[translate]）[translate]、**[translate]、[translate]**[translate]。\n\n[translate]、[translate]、[translate]。\n\n<br>\n"
      ],
      "metadata": {
        "id": "d3ovfA8E9W3c"
      },
      "id": "d3ovfA8E9W3c"
    },
    {
      "cell_type": "markdown",
      "source": [
        "---\n## [translate]（[translate]）\n\n\n**[translate]、[translate]。**\n\n[translate]（[translate] `123` [translate] `\"123\"`）[translate]、**[translate]「[translate]」[translate]「[translate]」[translate]**[translate]、[translate]。\n\n`\"123\" + 1` [translate]、[translate]。[translate]、**[translate]**。\n\n<br>\n\n### [translate]1：`123 + 123` [translate] `\"123\" + \"123\"` [translate]\n\n```python\nprint(123 + 123)        # → 246（[translate]）\nprint(\"123\" + \"123\")    # → \"123123\"（[translate]）\n```\n\n- [translate]（int [translate] float）[translate]、[translate]・[translate]。\n- [translate]（str）[translate]、**[translate]**[translate]、[translate]「[translate]」[translate]。\n\n<br>\n\n### [translate]2：`12 * 5` [translate] `\"12\" * 5` [translate]\n\n```python\nprint(12 * 5)         # → 60（[translate]）\nprint(\"12\" * 5)       # → \"1212121212\"（[translate]）\n```\n\n- `12 * 5` [translate]、[translate]。\n- `\"12\" * 5` [translate]、「[translate] '12' [translate]5[translate]」[translate]。\n\n<br>\n\n---\n\n### 🔁 [translate]\n\nPython [translate]、**[translate]**。[translate]、**[translate]（[translate]）**[translate]。\n\n#### 🔸 [translate] → [translate] [translate]\n\n```python\nx = 123\nstr_x = str(x)  # \"123\" [translate]\n```\n\n#### 🔸 [translate] → [translate] [translate]\n\n```python\ns = \"123\"\nint_s = int(s)      # [translate]（[translate]: 123）\nfloat_s = float(s)  # [translate]（[translate]: 123.0）\n```\n\n<br>\n\n\n---\n\n🔽🔽🔽 ⬇ **[translate]！** 🔽🔽🔽\n"
      ],
      "metadata": {
        "id": "7brG7B0K-qKm"
      },
      "id": "7brG7B0K-qKm"
    },
    {
      "cell_type": "code",
      "source": [
        "print(123 + 123)\n",
        "print(123 + 123.1)\n",
        "print(\"123\" + \"123\")\n",
        "print(\"123\" + \"123.1\")"
      ],
      "metadata": {
        "id": "WJRiC2d99WN8"
      },
      "id": "WJRiC2d99WN8",
      "execution_count": null,
      "outputs": []
    },
    {
      "cell_type": "code",
      "source": [
        "print(12 * 5)\n",
        "print(\"12\" * 5)"
      ],
      "metadata": {
        "id": "Z5WtBOul_e02"
      },
      "id": "Z5WtBOul_e02",
      "execution_count": null,
      "outputs": []
    },
    {
      "cell_type": "code",
      "source": [
        "x = 123\n",
        "str_x = str(x)\n",
        "print(x * 2)\n",
        "print(str_x * 2)"
      ],
      "metadata": {
        "id": "an9MbCarAQm_"
      },
      "id": "an9MbCarAQm_",
      "execution_count": null,
      "outputs": []
    },
    {
      "cell_type": "code",
      "source": [
        "s = \"123\"\n",
        "int_s = int(s)\n",
        "float_s = float(s)\n",
        "print(int_s * 2)\n",
        "print(float_s * 2)"
      ],
      "metadata": {
        "id": "0vcQZLRIAQtV"
      },
      "id": "0vcQZLRIAQtV",
      "execution_count": null,
      "outputs": []
    },
    {
      "cell_type": "code",
      "source": [
        "print(123 + \"123\")"
      ],
      "metadata": {
        "id": "oQ3rZYM7AQc2"
      },
      "id": "oQ3rZYM7AQc2",
      "execution_count": null,
      "outputs": []
    },
    {
      "cell_type": "code",
      "source": [
        "s = \"123.1\"\n",
        "int_s = int(s)"
      ],
      "metadata": {
        "id": "kOaa2ToaAnOd"
      },
      "id": "kOaa2ToaAnOd",
      "execution_count": null,
      "outputs": []
    },
    {
      "cell_type": "markdown",
      "source": [
        "---\n## [translate]「[translate]」: [translate]\n\n\n\n[translate]、**[translate]（[translate]）[translate]1[translate]**[translate]。\n[translate]、[translate]1[translate]、1[translate]。\n\n```python\nfruits = [\"apple\", \"banana\", \"orange\"]\n```\n\n[translate]、**[translate]（`[]`）[translate]**[translate]、[translate]1[translate]。\n\n<br>\n\n---\n\n### ✅ [translate]「[translate]」[translate]「[translate]」<font color=\"red\">【[translate]！】</font>\n\n[translate]、[translate]：\n\n* 「**[translate]**[translate]**[translate]**」\n* 「**[translate]**[translate]」\n* 「[translate]、[translate]、[translate]」\n\n[translate]、**「[translate]」[translate]**[translate]。\n\n<br>\n\n### ✅ [translate]、[translate] <font color=\"red\">【[translate]！】</font>\n\n* [translate]、[translate]。\n* [translate]、**[translate]・[translate]**[translate]。\n\n<br>\n\n<details>\n<summary>🔍 [translate]</summary>\n\n---\n\n### 🔍 [translate]（[translate]）\n\n[translate]（[translate]）[translate]、**[translate]（[translate]）[translate]**[translate]。[translate] **0[translate]** [translate]。\n\n```python\nprint(fruits[0])  # → \"apple\"\nprint(fruits[2])  # → \"orange\"\n```\n\n#### ❗ [translate]：\n\n* **[translate]**[translate]。\n\n```python\nprint(fruits[10])  # IndexError（[translate]）\n```\n\n* **[translate]**[translate]、[translate]。\n\n```python\nprint(fruits[-1])  # → \"orange\"（[translate]）\nprint(fruits[-2])  # → \"banana\"（[translate]2[translate]）\n```\n\n<br>\n\n---\n\n### ✂ [translate]（[translate]）\n\n[translate]、**[translate]**[translate]。[translate]「[translate]」[translate]。\n\n```python\nprint(fruits[0:2])  # → [\"apple\", \"banana\"]\n```\n\n* `0:2` [translate]「0[translate]2[translate]**[translate]**」[translate]。\n\n[translate]：\n\n```python\nprint(fruits[:2])    # → [\"apple\", \"banana\"]\nprint(fruits[1:])    # → [\"banana\", \"orange\"]\nprint(fruits[-2:])   # → [\"banana\", \"orange\"]\nprint(fruits[:-1])   # → [\"apple\", \"banana\"]\n```\n\n#### ❗ [translate]：\n\n* [translate]、**[translate] `[]` [translate]**。\n\n```python\nprint(fruits[5:10])  # → []\n```\n\n<br>\n\n---\n\n### ➕ [translate]\n\n[translate]、`append()` [translate]。\n\n```python\nfruits.append(\"grape\")\nprint(fruits)  # → [\"apple\", \"banana\", \"orange\", \"grape\"]\n```\n\n#### 💡[translate]：\n\n* **[translate]**。\n\n```python\nfruits.append(\"banana\")\nprint(fruits)  # → [\"apple\", \"banana\", \"orange\", \"grape\", \"banana\"]\n```\n\n* **[translate]、[translate]**[translate]。\n\n```python\nnumbers = []\nnumbers.append(1)\nnumbers.append(2)\nprint(numbers)  # → [1, 2]\n```\n\n<br>\n\n---\n\n### ➖ [translate]\n\n[translate]、`remove()` [translate] `del` [translate]。\n\n```python\nfruits.remove(\"banana\")  # [translate]（[translate]1[translate]）\nprint(fruits)\n\ndel fruits[1]  # [translate]\nprint(fruits)\n```\n\n<br>\n\n---\n\n### 🔃 [translate]（[translate]）\n\n[translate]、`sort()` [translate]。\n\n```python\nnumbers = [5, 1, 3, 4]\nnumbers.sort()\nprint(numbers)  # → [1, 3, 4, 5]\n```\n\n[translate] `reverse=True` [translate]：\n\n```python\nnumbers.sort(reverse=True)\nprint(numbers)  # → [5, 4, 3, 1]\n```\n\n<br>\n\n---\n\n### 💡 [translate]（[translate]）\n\n* `insert()`：[translate]\n* `pop()`：[translate]\n* `index()`：[translate]\n* `count()`：[translate]\n* `copy()`：[translate]\n* `extend()`：[translate]\n* [translate]（list comprehension）\n* [translate]（[translate]）\n\n</details>\n\n<br>\n"
      ],
      "metadata": {
        "id": "16mRPx6jBhtW"
      },
      "id": "16mRPx6jBhtW"
    },
    {
      "cell_type": "markdown",
      "source": [
        "---\n\n## [translate]「[translate]」：[translate]\n\n[translate]、**「[translate]」[translate]「[translate]」[translate]**[translate]。\nPython [translate]、「[translate]（key）」[translate]「[translate]（value）」[translate]。\n\n```python\nperson = {\"name\": \"Taro\", \"age\": 20}\n```\n\n[translate]：\n\n* `\"name\"` [translate]、`\"Taro\"` [translate]\n* `\"age\"` [translate]、`20` [translate]\n\n[translate]「[translate]」[translate]、**[translate]（[translate]）[translate]**[translate]。\n\n<br>\n\n---\n\n### [translate]「[translate]」[translate]「[translate]」 <font color=\"red\">【[translate]！】</font>\n\n[translate]、**[translate]「[translate]」[translate]**。[translate]、[translate]。\n\n<br>\n\n<details>\n<summary>🔍 [translate]</summary>\n\n---\n\n### 🔍 [translate]（[translate]）\n\n[translate]、[translate]**[translate]**[translate]。\n\n```python\nprint(person[\"name\"])  # → \"Taro\"\nprint(person[\"age\"])   # → 20\n```\n\n#### ❗ [translate]：\n\n* [translate]。\n\n```python\nprint(person[\"height\"])  # KeyError（[translate]）\n```\n\n* [translate]、`get()` [translate]。[translate]、[translate]`None`[translate]、[translate]。\n\n```python\nprint(person.get(\"height\"))        # → None\nprint(person.get(\"height\", \"[translate]\")) # → \"[translate]\"\n```\n\n<br>\n\n---\n\n### 🆕 [translate]・[translate]\n\n[translate]、[translate]。[translate]（`new_dict = {}`）[translate]、[translate]。\n\n```python\nperson[\"height\"] = 170  # [translate]\nperson[\"age\"] = 21      # [translate]\n```\n\n<br>\n\n---\n\n### ➖ [translate]\n\n[translate] `del` [translate]。\n\n```python\ndel person[\"height\"]\n```\n\n[translate]。\n\n<br>\n\n---\n\n### 🔄 [translate]\n\n[translate]：\n\n```python\nprint(person.keys())    # → dict_keys(['name', 'age'])\nprint(person.values())  # → dict_values(['Taro', 21])\nprint(person.items())   # → dict_items([('name', 'Taro'), ('age', 21)])\n```\n\n* `keys()`：[translate]\n* `values()`：[translate]\n* `items()`：[translate]\n\n<br>\n\n---\n\n### 🧠 [translate]（[translate]）\n\n* `update()`：[translate]・[translate]\n* `pop()`：[translate]\n* `clear()`：[translate]\n* [translate]（[translate]）\n* [translate]（dictionary comprehension）\n\n[translate]、[translate]（[translate]key[translate]（[translate]OK））。\n\n</details>\n\n<br>\n"
      ],
      "metadata": {
        "id": "xdIqPjVwGpoW"
      },
      "id": "xdIqPjVwGpoW"
    },
    {
      "cell_type": "markdown",
      "source": [
        "---\n\n## [translate]「[translate]」：[translate]\n\n**[translate]（set）**[translate]、**[translate]**[translate]。\n[translate]「[translate]」[translate]。\n\n```python\ncolors = {\"red\", \"blue\", \"green\"}\n```\n\n* `{\"...\"}` [translate]（[translate]）。\n* **[translate]2[translate]、[translate]1[translate]。**\n* **[translate]**（[translate]）。\n* **[translate]。**\n\n<br>\n\n---\n\n### [translate]「[translate]」[translate]「[translate]」 <font color=\"red\">【[translate]！】</font>\n\n\n[translate]、**[translate]「[translate]」[translate]、[translate]。**\n[translate]、[translate]。\n\n<br>\n\n<details>\n<summary>🔍 [translate]</summary>\n\n<br>\n\n---\n\n### 🔁 [translate]\n\n```python\ncolors = {\"red\", \"blue\", \"red\"}\nprint(colors)  # → {\"red\", \"blue\"}\n```\n\n\"red\" [translate]2[translate]、1[translate]。\n\n<br>\n\n---\n\n### 🆕 [translate]\n\n`add()` [translate]1[translate]。\n\n```python\ncolors.add(\"yellow\")\nprint(colors)  # → {\"red\", \"blue\", \"yellow\", ...}\n```\n\n* [translate]、1[translate]。\n* [translate]、[translate]。\n* **[translate] `{}` [translate]**[translate]、[translate]：\n\n```python\nempty_set = set()  # [translate]\nempty_dict = {}    # [translate]\n```\n\n<br>\n\n---\n\n### ➖ [translate]\n\n[translate] `remove()` [translate] `discard()` [translate]。\n\n```python\ncolors.remove(\"blue\")\n```\n\n#### ❗[translate]：\n\n* `remove()` [translate]、**[translate]**\n* `discard()` [translate]、**[translate]**\n\n```python\ncolors.discard(\"pink\")  # [translate]\n```\n\n<br>\n\n---\n\n### 🔄 [translate]（[translate]）\n\n[translate]、**[translate]**（[translate]）[translate]：\n\n```python\na = {1, 2, 3}\nb = {3, 4, 5}\n```\n\n| [translate]  | [translate]          | [translate]     | [translate]             |                   |\n| --- | ----------- | ------- | -------------- | ----------------- |\n| [translate] | [translate]  | `a \\| b`            | `{1, 2, 3, 4, 5}` |\n| [translate] | [translate]   | `a & b` | `{3}`          |                   |\n| [translate] | a[translate]b[translate] | `a - b` | `{1, 2}`       |                   |\n| [translate] | [translate]   | `a ^ b` | `{1, 2, 4, 5}` |                   |\n\n<br>\n\n---\n\n### ❗ [translate]\n\n* [translate]、**[translate]**。\n\n  * [translate] `colors[0]` [translate]（[translate]）\n* **[translate] `{}` [translate]**[translate]、[translate]：\n\n```python\nempty_set = set()  # [translate]\nempty_dict = {}    # [translate]\n```\n\n<br>\n\n---\n\n### 🧠 [translate]（[translate]）\n\n* `union()`, `intersection()`, `difference()`：[translate]\n* `issubset()`, `issuperset()`：[translate]\n* `copy()`：[translate]\n* `clear()`：[translate]\n* [translate]（set comprehension）\n\n</details>\n\n<br>\n"
      ],
      "metadata": {
        "id": "MGS7p8lYKq9l"
      },
      "id": "MGS7p8lYKq9l"
    },
    {
      "cell_type": "markdown",
      "source": [
        "---\n---\n# [translate]\n---\n"
      ],
      "metadata": {
        "id": "C9QzVj88O5rG"
      },
      "id": "C9QzVj88O5rG"
    },
    {
      "cell_type": "markdown",
      "source": [
        "---\n## [translate]？\n\n[translate]、**[translate]**[translate]。\n[translate]、`print()` [translate]、[translate]。\n\n[translate]、**[translate] `()` [translate]**[translate]。\n\n```python\nprint(\"[translate]\")\n```\n\n**[translate]、[translate]。**\n\n<br>\n\n---\n\n## 🗣️ [translate]「[translate]」\n\n[translate]、「〇〇[translate]！」[translate]。\n\n| [translate]        | [translate]      | [translate]                  |\n| --------- | ------- | ------------------ |\n| `print()` | [translate]   | `print(\"[translate]\")`   |\n| `len()`   | [translate] | `len(\"apple\")` → 5 |\n| `int()`   | [translate]  | `int(\"123\")` → 123 |\n\n<br>\n"
      ],
      "metadata": {
        "id": "f33ThJWIShkd"
      },
      "id": "f33ThJWIShkd"
    },
    {
      "cell_type": "markdown",
      "source": [
        "\n---\n\n## 🔸 [translate]\n\n[translate]、[translate]。\n\n<br>\n\n### ✅ [translate]（[translate]）\n\n```python\nprint(\"[translate]\")\nlen(\"apple\")\n```\n\n* **[translate]**\n* `print`, `len`, `int`, `str`, [translate]、Python[translate]\n* [translate]、[translate]（Python[translate]）[translate]\n\n<br>\n\n### ✅ [translate]（[translate]）\n\n```python\nfruits = [\"apple\", \"banana\"]\nfruits.append(\"orange\")\n```\n\n* **[translate].[translate](...)** [translate]\n* `append()` [translate]（[translate]「[translate]」[translate]）\n* **[translate]、[translate]**\n* [translate]、[translate]\n\n<br>\n\n\n### ✅ [translate]（[translate]）\n\n```python\nimport numpy as np\nnp.sum([1, 2, 3])\n```\n\n* **[translate].[translate](...)**\n* NumPy [translate]\n* `np` [translate] `numpy` [translate]**[translate]（[translate]）**\n* [translate]、[translate]（[translate]）[translate]\n\n<br>\n"
      ],
      "metadata": {
        "id": "PnP-ZK2jSmr1"
      },
      "id": "PnP-ZK2jSmr1"
    },
    {
      "cell_type": "markdown",
      "source": [
        "\n---\n\n## 🧳 [translate]「[translate]」[translate]（[translate]）\n\n[translate]、「[translate]」[translate]**[translate]**。[translate]**[translate]（[translate]）**[translate]。\n\n```python\nprint(\"[translate]\")  # 「[translate]」[translate]\nlen(\"banana\")      # \"banana\" [translate] → 6\n```\n\n[translate]、**[translate]1[translate]、[translate]、[translate]**[translate]。\n\n<br>\n\n### ✅ [translate]（[translate]）\n\n```python\nprint(\"Hello\")\nrange(1, 11, 2)\n```\n\n* [translate]1[translate]\n* [translate]**[translate]**\n* [translate]「[translate]」[translate]\n\n<br>\n\n### ✅ [translate]=[translate] [translate]（[translate]）\n\n```python\nsorted(numbers, reverse=True)\n```\n\n* **[translate]**[translate]\n* [translate]\n* [translate]**[translate]**\n* [translate]、[translate]・[translate]\n\n<br>\n"
      ],
      "metadata": {
        "id": "s7UnMZqKSrcd"
      },
      "id": "s7UnMZqKSrcd"
    },
    {
      "cell_type": "markdown",
      "source": [
        "\n---\n\n## 🔁 [translate]「[translate]」[translate]\n\n[translate]、**[translate]（[translate]）[translate]**[translate]。\n\n```python\nlength = len(\"apple\")\nprint(length)  # → 5\n```\n\n[translate]、[translate]**[translate]**[translate]。\n\n<br>\n\n### ✅ [translate]（[translate]）\n\n```python\nprint(\"Hello\")\nmylist.append(\"orange\")\n```\n\n* `print()` [translate] `append()` [translate]、**[translate]**[translate]\n* [translate] `None`（＝[translate]）[translate]\n\n```python\nresult = print(\"Hello\")  # → result [translate] None\n```\n\n<br>\n\n### ✅ [translate]\n\n```python\nimport os\nname, ext = os.path.splitext(\"data.csv\")\n```\n\n* `return` [translate]\n* [translate]、**[translate]**\n\n<br>\n"
      ],
      "metadata": {
        "id": "1nwhFUUNSwaU"
      },
      "id": "1nwhFUUNSwaU"
    },
    {
      "cell_type": "markdown",
      "source": [
        "---\n---\n# [translate]\n"
      ],
      "metadata": {
        "id": "GB1BdmMDT_0u"
      },
      "id": "GB1BdmMDT_0u"
    },
    {
      "cell_type": "markdown",
      "source": [
        "\n---\n\n## 🔀 [translate]？\n\n**「[translate]」「[translate]」**[translate]「[translate]」[translate]。\nPython [translate]、**`if` [translate]**[translate]。\n\n<br>\n\n\n"
      ],
      "metadata": {
        "id": "c1RbM_sdUC_W"
      },
      "id": "c1RbM_sdUC_W"
    },
    {
      "cell_type": "markdown",
      "source": [
        "\n---\n\n## ✅ [translate]（if [translate]）\n\n```python\nx = 10\n\nif x > 5:\n    print(\"x [translate] 5 [translate]\")\n```\n\n* `if` [translate] **[translate]**（[translate]：`x > 5`）[translate]\n* `:` [translate]、[translate]**[translate]（[translate]）**[translate]\n* [translate] **True（[translate]）** [translate]\n\n<br>\n"
      ],
      "metadata": {
        "id": "7sEVZfBlVnr9"
      },
      "id": "7sEVZfBlVnr9"
    },
    {
      "cell_type": "markdown",
      "source": [
        "\n---\n\n## 🔁 [translate]・[translate]\n\n| [translate]       | [translate]      | [translate]                        |\n| -------- | ------- | ------------------------ |\n| `==`     | [translate]     | `x == 5`                 |\n| `!=`     | [translate]   | `x != 3`                 |\n| `>`      | [translate]   | `x > 2`                  |\n| `<`      | [translate]   | `x < 10`                 |\n| `>=`     | [translate]      | `x >= 7`                 |\n| `<=`     | [translate]      | `x <= 10`                |\n| `in`     | [translate]  | `\"apple\" in fruits`      |\n| `not in` | [translate] | `\"banana\" not in fruits` |\n\n* `=` [translate]、`==` [translate]（[translate]）。\n* `fruits` [translate]（[translate]：`[\"apple\", \"orange\"]`）[translate]。\n* `in` / `not in` [translate] [translate]・[translate]・[translate]（[translate]）・[translate] [translate]。\n\n<br>\n"
      ],
      "metadata": {
        "id": "adzW0M9nVpit"
      },
      "id": "adzW0M9nVpit"
    },
    {
      "cell_type": "markdown",
      "source": [
        "\n---\n\n## 🔄 if 〜 else（[translate]）\n\n```python\nx = 3\n\nif x >= 5:\n    print(\"5[translate]\")\nelse:\n    print(\"5[translate]\")\n```\n\n* [translate] `if` [translate]\n* [translate] `else` [translate]\n\n<br>\n"
      ],
      "metadata": {
        "id": "kCZI00TzVq_9"
      },
      "id": "kCZI00TzVq_9"
    },
    {
      "cell_type": "markdown",
      "source": [
        "\n---\n\n## 🔀 if 〜 elif 〜 else（[translate]）\n\n```python\nscore = 85\n\nif score >= 90:\n    print(\"[translate]\")\nelif score >= 70:\n    print(\"[translate]\")\nelse:\n    print(\"[translate]\")\n```\n\n* `elif` [translate]「else if」[translate]、[translate]\n* [translate]、**[translate]1[translate]**[translate]\n\n<br>\n"
      ],
      "metadata": {
        "id": "NP_mmZeGVsO1"
      },
      "id": "NP_mmZeGVsO1"
    },
    {
      "cell_type": "markdown",
      "source": [
        "---\n\n## 🔗 [translate]（`and`, `or`）\n\n### ✅ `and`：「[translate] True」\n\n```python\nage = 20\nis_student = True\n\nif age >= 18 and is_student:\n    print(\"[translate]\")\n```\n\n→ [translate]（[translate]18[translate]、[translate]）[translate]。\n\n<br>\n\n### ✅ `or`：「[translate] True」\n\n```python\nscore = 92\n\nif score >= 90 or score == 77:\n    print(\"[translate]\")\n```\n\n→ 「90[translate]」[translate]「77[translate]」[translate]。\n\n<br>\n\n### ✅ `not`：「[translate]」\n\n```python\nis_logged_in = False\n\nif not is_logged_in:\n    print(\"[translate]\")\n```\n\n→ `is_logged_in` [translate] False [translate]。\n\n<br>\n"
      ],
      "metadata": {
        "id": "MbhhgpnZWLol"
      },
      "id": "MbhhgpnZWLol"
    },
    {
      "cell_type": "markdown",
      "source": [
        "---\n\n## 【[translate]】📝 [translate]（[translate]／[translate]）\n\nPython [translate]、`if` [translate] `for` [translate]、[translate]**[translate]（[translate]）**[translate]。[translate]、**[translate]**[translate]。\n\n| [translate]        | Windows         | Mac             |\n| --------- | --------------- | --------------- |\n| [translate]（[translate]） | `Tab`           | `Tab`           |\n| [translate]（[translate]） | `Shift` + `Tab` | `Shift` + `Tab` |\n\n- 💡 [translate]、**[translate]**[translate]。\n\n<br>\n"
      ],
      "metadata": {
        "id": "rc4ucve6bu_-"
      },
      "id": "rc4ucve6bu_-"
    },
    {
      "cell_type": "markdown",
      "source": [
        "---\n## ⚠️ if [translate]\n\n- ❌ :（[translate]）[translate]\n- ❌ =（[translate]）[translate] ==（[translate]）[translate]\n- ❌ [translate]・[translate]\n- ❌ [translate]（[translate]）[translate]／[translate]\n- ❌ [translate]（[translate]）\n\n---\n\n🔽🔽🔽 ⬇ **[translate]！** 🔽🔽🔽\n"
      ],
      "metadata": {
        "id": "mya-IcLCWZEf"
      },
      "id": "mya-IcLCWZEf"
    },
    {
      "cell_type": "code",
      "source": [
        "score = \"100\"\n",
        "\n",
        "print(\"[translate: string]\")\n",
        "\n",
        "    if score >= 70\n",
        "print(\"[translate: string]\")\n",
        "elif score >= 90:\n",
        "print(\"[translate: string]\")\n",
        "if score = 100:\n",
        "print(\"[translate: string]\")\n",
        "else\n",
        "print(\"[translate: string]\")\n",
        "print(\"[translate: string]\")\n"
      ],
      "metadata": {
        "id": "AeVYf7XZO-hE"
      },
      "id": "AeVYf7XZO-hE",
      "execution_count": null,
      "outputs": []
    },
    {
      "cell_type": "markdown",
      "source": [
        "<br>\n\n<details>\n<summary>🔍 [translate]</summary>\n\n~~~python\nscore = 100  # [translate]\n\nprint(\"[translate]！\")\n\n# [translate]\nif score == 100:  # [translate]、==[translate]\n    print(\"[translate]\")\nelif score >= 90:\n    print(\"[translate]\")\nelif score >= 70:  # [translate]、:[translate]\n    print(\"[translate]\")\nelse:  # :[translate]\n    print(\"[translate]\")\n\nprint(\"[translate]\")  # [translate]if[translate]\n~~~\n\n</details>\n\n<br>\n\n---\n\n🔽🔽🔽 ⬇ **[translate]＆[translate]、[translate]、77[translate]「[translate]」[translate]「[translate]！」[translate]。** 🔽🔽🔽\n\n~~~python\nif score == 77:\n    print(\"[translate]！\")\n~~~\n\n* [translate]1：if [translate]、[translate] if [translate]。\n\n  [translate]「[translate]（[translate]）」[translate]。[translate]。\n\n* [translate]2：if [translate]、[translate]（[translate]）[translate]1[translate]。\n\n  Python [translate]、[translate]。\n"
      ],
      "metadata": {
        "id": "A5LDNXHSYtj8"
      },
      "id": "A5LDNXHSYtj8"
    },
    {
      "cell_type": "code",
      "source": [],
      "metadata": {
        "id": "7mAp5wpOa8Nv"
      },
      "id": "7mAp5wpOa8Nv",
      "execution_count": null,
      "outputs": []
    },
    {
      "cell_type": "markdown",
      "source": [
        "<br>\n\n<details>\n<summary>🔍 [translate]</summary>\n\n~~~python\nscore = 77\n\nprint(\"[translate]！\")\n\nif score == 100:\n    print(\"[translate]\")\nelif score >= 90:\n    print(\"[translate]\")\nelif score >= 70:\n    print(\"[translate]\")\n    if score == 77:\n        print(\"[translate]！\")\nelse:\n    print(\"[translate]\")\n\nprint(\"[translate]\")\n~~~\n\n</details>\n\n<br>\n"
      ],
      "metadata": {
        "id": "VVfxxvLoYmhO"
      },
      "id": "VVfxxvLoYmhO"
    },
    {
      "cell_type": "markdown",
      "source": [
        "---\n---\n# [translate]\n"
      ],
      "metadata": {
        "id": "W2mkbqxOcUNG"
      },
      "id": "W2mkbqxOcUNG"
    },
    {
      "cell_type": "markdown",
      "source": [
        "---\n\n## 🔁 [translate]？\n\n**[translate]（[translate]）[translate]**[translate]、[translate]**[translate]**[translate]。\n\n* [translate]、**1[translate]**。\n* [translate]。\n\n<br>\n\n### ✅ [translate]print[translate]（for[translate]）\n\n~~~python\ni = 1\nif i % 2 == 0:\n    print(i)\n\ni = 2\nif i % 2 == 0:\n    print(i)\n\ni = 3\nif i % 2 == 0:\n    print(i)\n\ni = 4\nif i % 2 == 0:\n    print(i)\n\ni = 5\nif i % 2 == 0:\n    print(i)\n~~~\n\n- `i % 2 == 0` [translate]（2[translate]0）\n\n<br>\n\n### ✅ [translate]print[translate]（for[translate]）\n\n~~~python\nfor i in range(1, 6):\n    if i % 2 == 0:\n        print(i)\n~~~\n\n- `range(1, 6)` [translate] 1～5 [translate]（※6[translate]）\n\n1. [translate]1: 1[translate]（`for i in range(1, 6):`）[translate]、`i` [translate] `1` [translate]\n2. [translate]1: 2[translate]（`if i % 2 == 0:`）[translate]、`i` [translate] `1` [translate]、`1 % 2` [translate] `1` → **False** [translate]\n3. [translate]1: [translate] False [translate]、3[translate]（`print(i)`）[translate] **[translate]**\n1. [translate]2: 1[translate]、`i` [translate] `2` [translate]\n2. [translate]2: 2[translate]、`2 % 2` [translate] `0` → **True** [translate]\n3. [translate]2: [translate] True [translate]、3[translate]、**`2` [translate]**\n1. [translate]3: [translate]、`i` [translate] `3` [translate]\n2. [translate]3: 2[translate]、`3 % 2` [translate] `1` → **False**\n3. [translate]3: [translate] False [translate]、3[translate] **[translate]**\n1. [translate]4: [translate]、`i` [translate] `4` [translate]\n2. [translate]4: 2[translate]、`4 % 2` [translate] `0` → **True**\n3. [translate]4: [translate] True [translate]、3[translate]、**`4` [translate]**\n1. [translate]5: [translate]、`i` [translate] `5` [translate]\n2. [translate]5: 2[translate]、`5 % 2` [translate] `1` → **False**\n3. [translate]5: [translate] False [translate]、3[translate] **[translate]**\n1. `range(1, 6)` [translate]、`for` **[translate]**\n* [translate]：\n\n<br>\n\n---\n\n🔽🔽🔽 ⬇ **[translate]！** 🔽🔽🔽\n"
      ],
      "metadata": {
        "id": "wCZiaOgAcZE9"
      },
      "id": "wCZiaOgAcZE9"
    },
    {
      "cell_type": "code",
      "source": [
        "print(\"[translate: string]\")\n",
        "\n",
        "for i in range(1, 6):\n",
        "    print(f\"[translate: string]\")\n",
        "    print(f\"[translate: string]\")\n",
        "    if i % 2 == 0:\n",
        "        print(f\"[translate: string]\")\n",
        "    print(f\"[translate: string]\")\n",
        "\n",
        "print(\"[translate: string]\")\n",
        "print(f\"[translate: string]\")\n"
      ],
      "metadata": {
        "id": "f8sIhUd5KgjV"
      },
      "id": "f8sIhUd5KgjV",
      "execution_count": null,
      "outputs": []
    },
    {
      "cell_type": "markdown",
      "source": [
        "\n---\n\n## 🔹 Python[translate]：`for` [translate]\n\nPython[translate] `for` [translate]。\n[translate]：\n\n```python\nfor [translate] in [translate]:\n    [translate]\n```\n\n[translate]（[translate]）[translate]、**[translate]**[translate]。\n\n<br>\n\n### ✅ [translate]1：[translate]\n\n```python\nfruits = [\"apple\", \"banana\", \"orange\"]\n\nfor fruit in fruits:\n    print(fruit)\n```\n\n[translate]：\n\n```\napple\nbanana\norange\n```\n\n▶ `fruits` [translate]1[translate]、`fruit` [translate]、[translate]。\n\n<br>\n\n### ✅ [translate]2：[translate] – `range()` [translate]\n\n```python\nfor i in range(5):\n    print(i)\n```\n\n[translate]：\n\n```\n0\n1\n2\n3\n4\n```\n\n▶ `range(5)` [translate]「0[translate]4[translate]」[translate]。\n　[translate]「[translate]」[translate]。\n\n[translate]、[translate] **「for[translate]for[translate]（[translate]・[translate]）」[translate]**[translate]。\n\n<br>\n\n### 🧪 [translate]3：for [translate] for [translate]（[translate]）\n\n```python\nfor i in range(1, 4):\n    for j in range(1, 4):\n        print(i, j)\n```\n\n[translate]：\n\n```\n1 1\n1 2\n1 3\n2 1\n2 2\n2 3\n3 1\n3 2\n3 3\n```\n\n<br>\n\n---\n\n🔽🔽🔽 ⬇ **[translate]、3[translate]！** 🔽🔽🔽\n"
      ],
      "metadata": {
        "id": "YbIsxTb6gzEF"
      },
      "id": "YbIsxTb6gzEF"
    },
    {
      "cell_type": "code",
      "source": [
        "# [translate: comment]1[translate: comment]\n",
        "for nuc1 in \"ATGC\":\n",
        "    for nuc2 in \"atgc\":\n",
        "        print(nuc1+nuc2)"
      ],
      "metadata": {
        "id": "msRUh7Q2jAF-"
      },
      "id": "msRUh7Q2jAF-",
      "execution_count": null,
      "outputs": []
    },
    {
      "cell_type": "markdown",
      "source": [
        "\n---\n\n## 🔸 [translate]\n\n| [translate] | [translate]                          | [translate]                                 |\n| ---------- | ----------------------------- | ---------------------------------- |\n| `break`    | [translate]          | [translate] |\n| `continue` | [translate]1[translate] | [translate] |\n\n<br>\n\n```python\nfor i in range(10):\n    if i == 3:\n        continue\n    if i == 5:\n        break\n    print(i)\n```\n\n- `i == 3`[translate]、`continue`[translate]、[translate]（print[translate]）。[translate]。\n- `i == 5`[translate]、`break`[translate]、[translate]、[translate]。\n\n<br>\n\n---\n\n🔽🔽🔽 ⬇ **[translate]！** 🔽🔽🔽\n"
      ],
      "metadata": {
        "id": "-H4xQI5RkY7F"
      },
      "id": "-H4xQI5RkY7F"
    },
    {
      "cell_type": "code",
      "source": [
        "print(\"[translate: string]\")\n",
        "for i in range(10):\n",
        "    if i == 3:\n",
        "        continue\n",
        "    if i == 5:\n",
        "        break\n",
        "    print(i)\n",
        "print(\"[translate: string]\")"
      ],
      "metadata": {
        "id": "MK6bbQ1PlRg2"
      },
      "id": "MK6bbQ1PlRg2",
      "execution_count": null,
      "outputs": []
    },
    {
      "cell_type": "markdown",
      "source": [
        "---\n\n## 🔁 [translate]1[translate]：`while`\n\nPython[translate]、`for` [translate] `while` [translate]。\n\n```python\nwhile [translate]:\n    [translate]\n```\n\n`while` [translate]「**[translate]、[translate]**」[translate]。\n\n```python\ni = 0\nwhile i < 5:\n    print(i)\n    i += 1\n```\n\n[translate]、`i` [translate] `5` [translate] `print(i)` [translate]。\n※ `i += 1` [translate]、[translate] `True` [translate]、[translate]！\n\n<br>\n\n### ✅ [translate] `for` [translate]\n\n[translate]、`while` [translate] `for` [translate]、[translate]。\n\n* **[translate]**\n* **[translate]**\n\n[translate]、`for` [translate]、[translate]。\n\n---\n\n### 💡 [translate]：`while True` + `break`\n\n[translate] `while` [translate]。[translate]。\n\n```python\nwhile True:\n    [translate] break [translate]\n```\n\n[translate]「**[translate]、[translate]**」[translate]。\n\n<br>\n\n#### [translate]：0[translate]\n\n```python\nwhile True:\n    num = input(\"[translate]（0[translate]）：\")\n    if num == \"0\":\n        break\n    print(\"[translate]\", num)\n```\n\n- [translate]、**[translate]**、**[translate]**[translate] `while True:` [translate]\n- break [translate]「[translate]」[translate]\n    - Colab[translate]、「■（[translate]）」 [translate]\n    - [translate]、[translate]（[translate]）\n        1. [translate]「[translate]」[translate]\n        2. 「[translate]」[translate]「[translate]」[translate]\n\n\n<br>\n\n---\n\n🔽🔽🔽 ⬇ **[translate]！** 🔽🔽🔽\n"
      ],
      "metadata": {
        "id": "vB-ZQmcCljfG"
      },
      "id": "vB-ZQmcCljfG"
    },
    {
      "cell_type": "code",
      "source": [
        "# 0[translate: comment]10[translate: comment]、0[translate: comment]「[translate: comment]」[translate: comment]\n",
        "import random  # [translate: comment]「random」[translate: comment]\n",
        "\n",
        "count = 0  # [translate: comment]0[translate: comment]\n",
        "\n",
        "while True:  # 「[translate: comment]」[translate: comment]（[translate: comment]）\n",
        "    number = random.randint(0, 10)  # 0[translate: comment]10[translate: comment]1[translate: comment]\n",
        "    print(f\"[translate: string]\")  # [translate: comment]\n",
        "    count += 1  # [translate: comment]1[translate: comment]、[translate: comment]+1[translate: comment]\n",
        "\n",
        "    if number == 0:  # [translate: comment]0[translate: comment]\n",
        "        break  # [translate: comment]（[translate: comment]）[translate: comment]\n",
        "\n",
        "print(f\"[translate: string]\")  # [translate: comment]\n"
      ],
      "metadata": {
        "id": "mTSSZ-Dtm2bw"
      },
      "id": "mTSSZ-Dtm2bw",
      "execution_count": null,
      "outputs": []
    },
    {
      "cell_type": "markdown",
      "source": [
        "---\n---\n# 🎉 [translate]！\n---\n\n[translate]・[translate]・[translate]・[translate]4[translate]、[translate]。[translate]、[translate]・[translate]。\n\n[translate]、[translate]。[translate]、[translate]、[translate]、[translate]。\n\n**[translate]「[translate]」[translate]。**[translate]。「[translate]」[translate]、[translate]、[translate]。\n\n<br>\n\n## 🧑‍💻 Python[translate]\n\n| [translate]             | [translate]                       | [translate]                                                                                  |\n| -------------- | ------------------------ | ----------------------------------------------------------------------------------- |\n| 🗂️ [translate]  | [translate]・[translate]（CSV[translate]TXT[translate]） | `open()` [translate] `with` [translate]、[translate]。[translate]。       |\n| 🧰 [translate]・[translate]   | [translate]・[translate]・[translate]            | `append()`、`sort()`、`get()`、`in` [translate]、[translate]、[translate]。 |\n| ⚠️ [translate]（[translate]） | [translate]           | `try–except` [translate]「[translate]」「[translate]」[translate]、[translate]、[translate]。   |\n| 🔧 [translate]     | [translate]               | `def` [translate]、[translate]・[translate]。[translate]、[translate]、[translate]。                 |\n| 🧱 [translate]    | [translate]「[translate]」[translate]         | `class` [translate]、[translate]（[translate]）[translate]1[translate]。[translate]。              |\n\n<br>\n\n## 🧮 [translate]・[translate]\n\n| [translate]        | [translate]            | [translate]                                                 |\n| ------------ | ------------- | -------------------------------------------------- |\n| NumPy        | [translate]・[translate]・[translate]  | Python[translate] list [translate]、[translate]。 |\n| SciPy        | [translate]・[translate]・[translate] | `t[translate]` [translate] `[translate]` [translate]、[translate]。          |\n| statsmodels  | [translate]・[translate]  | [translate]、[translate]。                       |\n| scikit-learn | [translate]・[translate]    | [translate]／[translate]、[translate]、[translate]、AI[translate]。         |\n\n<br>\n\n## 📊 [translate]\n\n| [translate]  | [translate]           | [translate]                                                             |\n| ------ | ------------ | -------------------------------------------------------------- |\n| pandas | [translate]・[translate] | `CSV` [translate] `Excel` [translate]。[translate]・[translate]、[translate]、[translate]、[translate]。 |\n\n<br>\n\n## 📈 [translate]・[translate]\n\n| [translate]           | [translate]                | [translate]                                                                 |\n| --------------- | ----------------- | ------------------------------------------------------------------ |\n| matplotlib      | [translate]・[translate]・[translate] | [translate]、[translate]。                                 |\n| seaborn         | [translate]・[translate]      | `matplotlib` [translate]、[translate]。                      |\n\n"
      ],
      "metadata": {
        "id": "QG53rMdEnPJd"
      },
      "id": "QG53rMdEnPJd"
    }
  ],
  "metadata": {
    "hide_input": false,
    "kernelspec": {
      "display_name": "Python 3 (ipykernel)",
      "language": "python",
      "name": "python3"
    },
    "language_info": {
      "codemirror_mode": {
        "name": "ipython",
        "version": 3
      },
      "file_extension": ".py",
      "mimetype": "text/x-python",
      "name": "python",
      "nbconvert_exporter": "python",
      "pygments_lexer": "ipython3",
      "version": "3.11.9"
    },
    "toc": {
      "base_numbering": 1,
      "nav_menu": {},
      "number_sections": true,
      "sideBar": true,
      "skip_h1_title": false,
      "title_cell": "Table of Contents",
      "title_sidebar": "Contents",
      "toc_cell": false,
      "toc_position": {},
      "toc_section_display": true,
      "toc_window_display": false
    },
    "colab": {
      "provenance": [],
      "toc_visible": true
    }
  },
  "nbformat": 4,
  "nbformat_minor": 5
}